{
 "cells": [
  {
   "cell_type": "markdown",
   "id": "b151201c-bb38-41d3-8eb4-6d53b4ad31d6",
   "metadata": {},
   "source": [
    "# tuple creation"
   ]
  },
  {
   "cell_type": "code",
   "execution_count": 2,
   "id": "5f4ed0e9-6bd1-45fc-9bcc-a9aed7109cfa",
   "metadata": {},
   "outputs": [],
   "source": [
    "t1=()"
   ]
  },
  {
   "cell_type": "code",
   "execution_count": 3,
   "id": "8bc7428d-1821-4f12-9b1e-55909488bb02",
   "metadata": {},
   "outputs": [
    {
     "data": {
      "text/plain": [
       "(10, 20, 30, 40, 50)"
      ]
     },
     "execution_count": 3,
     "metadata": {},
     "output_type": "execute_result"
    }
   ],
   "source": [
    "t2=(10,20,30,40,50)\n",
    "t2"
   ]
  },
  {
   "cell_type": "code",
   "execution_count": 4,
   "id": "58c6b6d7-3556-4937-9fd4-9e1514128b62",
   "metadata": {
    "jp-MarkdownHeadingCollapsed": true
   },
   "outputs": [
    {
     "data": {
      "text/plain": [
       "(2.2, 55.3, 5.6, 10.9)"
      ]
     },
     "execution_count": 4,
     "metadata": {},
     "output_type": "execute_result"
    }
   ],
   "source": [
    "t3=(2.2,55.3,5.6,10.9)\n",
    "t3"
   ]
  },
  {
   "cell_type": "code",
   "execution_count": 5,
   "id": "7ca2fc4f-7b88-42f1-a2f1-21cceda9c23e",
   "metadata": {},
   "outputs": [
    {
     "data": {
      "text/plain": [
       "('apple', 'ball', 'cat', 'dog')"
      ]
     },
     "execution_count": 5,
     "metadata": {},
     "output_type": "execute_result"
    }
   ],
   "source": [
    "t4=('apple','ball','cat','dog')\n",
    "t4"
   ]
  },
  {
   "cell_type": "code",
   "execution_count": 6,
   "id": "e3c2b547-b576-4c18-81ce-9888bbe82772",
   "metadata": {},
   "outputs": [
    {
     "data": {
      "text/plain": [
       "('john', 116, ('abc', 'def'), ('brain', 'drain'))"
      ]
     },
     "execution_count": 6,
     "metadata": {},
     "output_type": "execute_result"
    }
   ],
   "source": [
    "t5=('john',116,('abc','def'),('brain','drain'))\n",
    "t5"
   ]
  },
  {
   "cell_type": "code",
   "execution_count": 7,
   "id": "b2beb2b4-b345-4a9b-8219-5915d2677f57",
   "metadata": {},
   "outputs": [
    {
     "data": {
      "text/plain": [
       "(100, 'john', 200)"
      ]
     },
     "execution_count": 7,
     "metadata": {},
     "output_type": "execute_result"
    }
   ],
   "source": [
    "t6=(100,'john',200)\n",
    "t6"
   ]
  },
  {
   "cell_type": "code",
   "execution_count": 8,
   "id": "815daf0d-3164-4023-adcb-8fb9bb27480a",
   "metadata": {},
   "outputs": [
    {
     "data": {
      "text/plain": [
       "('john', 116, [150, 200], [250, 300], {'gem', 'tom'}, (220, 350))"
      ]
     },
     "execution_count": 8,
     "metadata": {},
     "output_type": "execute_result"
    }
   ],
   "source": [
    "t7=('john',116,[150,200],[250,300],{'tom','gem'},(220,350))\n",
    "t7"
   ]
  },
  {
   "cell_type": "code",
   "execution_count": 9,
   "id": "9fcad3a3-4bef-4d9f-add0-ba075839b105",
   "metadata": {},
   "outputs": [
    {
     "data": {
      "text/plain": [
       "6"
      ]
     },
     "execution_count": 9,
     "metadata": {},
     "output_type": "execute_result"
    }
   ],
   "source": [
    "len(t7)"
   ]
  },
  {
   "cell_type": "markdown",
   "id": "36cb5621-1f94-4591-a902-42e19d0194aa",
   "metadata": {},
   "source": [
    "# tuple indexing"
   ]
  },
  {
   "cell_type": "code",
   "execution_count": 11,
   "id": "e00c3c73-a7a4-45ea-b2e8-109bd1f7433d",
   "metadata": {},
   "outputs": [
    {
     "data": {
      "text/plain": [
       "10"
      ]
     },
     "execution_count": 11,
     "metadata": {},
     "output_type": "execute_result"
    }
   ],
   "source": [
    "t2[0]"
   ]
  },
  {
   "cell_type": "code",
   "execution_count": 12,
   "id": "53e146e6-4d6d-41e0-b8fe-edd0451a4cbb",
   "metadata": {},
   "outputs": [
    {
     "data": {
      "text/plain": [
       "'apple'"
      ]
     },
     "execution_count": 12,
     "metadata": {},
     "output_type": "execute_result"
    }
   ],
   "source": [
    "t4[0]"
   ]
  },
  {
   "cell_type": "code",
   "execution_count": 13,
   "id": "e2d4044a-ffc7-4b3b-90f1-a47ad896454e",
   "metadata": {},
   "outputs": [
    {
     "data": {
      "text/plain": [
       "'a'"
      ]
     },
     "execution_count": 13,
     "metadata": {},
     "output_type": "execute_result"
    }
   ],
   "source": [
    "t4[0][0]"
   ]
  },
  {
   "cell_type": "code",
   "execution_count": 14,
   "id": "60c1c796-1c7e-41cf-9221-640eaf08b615",
   "metadata": {},
   "outputs": [
    {
     "data": {
      "text/plain": [
       "'dog'"
      ]
     },
     "execution_count": 14,
     "metadata": {},
     "output_type": "execute_result"
    }
   ],
   "source": [
    "t4[-1]"
   ]
  },
  {
   "cell_type": "code",
   "execution_count": 15,
   "id": "5419d7c5-c27f-44b0-8913-59d4741e5041",
   "metadata": {},
   "outputs": [
    {
     "data": {
      "text/plain": [
       "('brain', 'drain')"
      ]
     },
     "execution_count": 15,
     "metadata": {},
     "output_type": "execute_result"
    }
   ],
   "source": [
    "t5[-1]"
   ]
  },
  {
   "cell_type": "markdown",
   "id": "9d08cb74-dc95-46a8-8272-ef55b57724af",
   "metadata": {},
   "source": [
    "# tuple slicing"
   ]
  },
  {
   "cell_type": "code",
   "execution_count": 17,
   "id": "d06e4fa7-6287-4106-baad-de99a014fbc0",
   "metadata": {},
   "outputs": [],
   "source": [
    "mytuple=('one','two','three','four','five','six','seven','eight')"
   ]
  },
  {
   "cell_type": "code",
   "execution_count": 18,
   "id": "c82666d4-4656-4038-80fd-b85478890455",
   "metadata": {},
   "outputs": [
    {
     "data": {
      "text/plain": [
       "('one', 'two', 'three')"
      ]
     },
     "execution_count": 18,
     "metadata": {},
     "output_type": "execute_result"
    }
   ],
   "source": [
    "mytuple[0:3]"
   ]
  },
  {
   "cell_type": "code",
   "execution_count": 19,
   "id": "dd4863d5-d6d4-4bb3-8303-10933dcf3705",
   "metadata": {},
   "outputs": [
    {
     "data": {
      "text/plain": [
       "('three', 'four', 'five')"
      ]
     },
     "execution_count": 19,
     "metadata": {},
     "output_type": "execute_result"
    }
   ],
   "source": [
    "mytuple[2:5]"
   ]
  },
  {
   "cell_type": "code",
   "execution_count": 20,
   "id": "3eacb59a-a819-4b4c-8bda-383d70d356cf",
   "metadata": {},
   "outputs": [
    {
     "data": {
      "text/plain": [
       "('one', 'two', 'three')"
      ]
     },
     "execution_count": 20,
     "metadata": {},
     "output_type": "execute_result"
    }
   ],
   "source": [
    "mytuple[:3]"
   ]
  },
  {
   "cell_type": "code",
   "execution_count": 21,
   "id": "034046f5-9621-4257-8e1a-b36851869516",
   "metadata": {},
   "outputs": [
    {
     "data": {
      "text/plain": [
       "('one', 'two')"
      ]
     },
     "execution_count": 21,
     "metadata": {},
     "output_type": "execute_result"
    }
   ],
   "source": [
    "mytuple[:2]"
   ]
  },
  {
   "cell_type": "code",
   "execution_count": 22,
   "id": "aa29cfc9-fd0d-4a34-9489-b02b8e8359ca",
   "metadata": {},
   "outputs": [
    {
     "data": {
      "text/plain": [
       "('six', 'seven', 'eight')"
      ]
     },
     "execution_count": 22,
     "metadata": {},
     "output_type": "execute_result"
    }
   ],
   "source": [
    "mytuple[-3:]"
   ]
  },
  {
   "cell_type": "code",
   "execution_count": 23,
   "id": "83bd0c29-0cb2-44fb-ab6c-ceba60474920",
   "metadata": {},
   "outputs": [
    {
     "data": {
      "text/plain": [
       "('seven', 'eight')"
      ]
     },
     "execution_count": 23,
     "metadata": {},
     "output_type": "execute_result"
    }
   ],
   "source": [
    "mytuple[-2:]"
   ]
  },
  {
   "cell_type": "code",
   "execution_count": 24,
   "id": "5869e46a-ee52-4798-8c07-66f3626fa0b7",
   "metadata": {},
   "outputs": [
    {
     "data": {
      "text/plain": [
       "'eight'"
      ]
     },
     "execution_count": 24,
     "metadata": {},
     "output_type": "execute_result"
    }
   ],
   "source": [
    "mytuple[-1]"
   ]
  },
  {
   "cell_type": "code",
   "execution_count": 25,
   "id": "86cacd31-4882-40ed-846a-95ca91a904d9",
   "metadata": {},
   "outputs": [
    {
     "data": {
      "text/plain": [
       "('one', 'two', 'three', 'four', 'five', 'six', 'seven', 'eight')"
      ]
     },
     "execution_count": 25,
     "metadata": {},
     "output_type": "execute_result"
    }
   ],
   "source": [
    "mytuple[:]"
   ]
  },
  {
   "cell_type": "markdown",
   "id": "9e19be85-6f2c-4f45-9c3f-a74c877be336",
   "metadata": {},
   "source": [
    "# remove and change items"
   ]
  },
  {
   "cell_type": "code",
   "execution_count": 27,
   "id": "9c10d09f-2f5f-4873-b2da-ae4b42837077",
   "metadata": {},
   "outputs": [
    {
     "data": {
      "text/plain": [
       "('one', 'two', 'three', 'four', 'five', 'six', 'seven', 'eight')"
      ]
     },
     "execution_count": 27,
     "metadata": {},
     "output_type": "execute_result"
    }
   ],
   "source": [
    "mytuple"
   ]
  },
  {
   "cell_type": "code",
   "execution_count": 28,
   "id": "69bb1e46-839d-43dd-a4ed-0fe45a833310",
   "metadata": {},
   "outputs": [
    {
     "ename": "TypeError",
     "evalue": "'tuple' object doesn't support item deletion",
     "output_type": "error",
     "traceback": [
      "\u001b[0;31m---------------------------------------------------------------------------\u001b[0m",
      "\u001b[0;31mTypeError\u001b[0m                                 Traceback (most recent call last)",
      "Cell \u001b[0;32mIn[28], line 1\u001b[0m\n\u001b[0;32m----> 1\u001b[0m \u001b[38;5;28;01mdel\u001b[39;00m mytuple[\u001b[38;5;241m0\u001b[39m]\n",
      "\u001b[0;31mTypeError\u001b[0m: 'tuple' object doesn't support item deletion"
     ]
    }
   ],
   "source": [
    "del mytuple[0]"
   ]
  },
  {
   "cell_type": "code",
   "execution_count": 40,
   "id": "88f253c1-c3bf-408e-80cb-df618e3aa261",
   "metadata": {},
   "outputs": [
    {
     "ename": "TypeError",
     "evalue": "'tuple' object does not support item assignment",
     "output_type": "error",
     "traceback": [
      "\u001b[0;31m---------------------------------------------------------------------------\u001b[0m",
      "\u001b[0;31mTypeError\u001b[0m                                 Traceback (most recent call last)",
      "Cell \u001b[0;32mIn[40], line 1\u001b[0m\n\u001b[0;32m----> 1\u001b[0m mytuple[\u001b[38;5;241m0\u001b[39m]\u001b[38;5;241m=\u001b[39m\u001b[38;5;241m1\u001b[39m\n",
      "\u001b[0;31mTypeError\u001b[0m: 'tuple' object does not support item assignment"
     ]
    }
   ],
   "source": [
    "mytuple[0]=1"
   ]
  },
  {
   "cell_type": "code",
   "execution_count": 42,
   "id": "b55282f4-0905-4757-ab51-a09937179420",
   "metadata": {},
   "outputs": [],
   "source": [
    "del mytuple"
   ]
  },
  {
   "cell_type": "code",
   "execution_count": 44,
   "id": "f5a662b6-a810-43e6-b978-133aff940fd7",
   "metadata": {},
   "outputs": [
    {
     "ename": "NameError",
     "evalue": "name 'mytuple' is not defined",
     "output_type": "error",
     "traceback": [
      "\u001b[0;31m---------------------------------------------------------------------------\u001b[0m",
      "\u001b[0;31mNameError\u001b[0m                                 Traceback (most recent call last)",
      "Cell \u001b[0;32mIn[44], line 1\u001b[0m\n\u001b[0;32m----> 1\u001b[0m mytuple\n",
      "\u001b[0;31mNameError\u001b[0m: name 'mytuple' is not defined"
     ]
    }
   ],
   "source": [
    "mytuple"
   ]
  },
  {
   "cell_type": "markdown",
   "id": "9ddde830-12a0-4913-bf91-144a2e54f93b",
   "metadata": {},
   "source": [
    "# loop through tuple"
   ]
  },
  {
   "cell_type": "code",
   "execution_count": 47,
   "id": "c4b3d2bb-510d-4316-a72c-869aa026f8c6",
   "metadata": {},
   "outputs": [],
   "source": [
    "mytuple=('one','two','three','four','five','six','seven','eight')"
   ]
  },
  {
   "cell_type": "code",
   "execution_count": 49,
   "id": "0f06fb93-981d-46bb-a80d-0134ec7174e0",
   "metadata": {},
   "outputs": [
    {
     "data": {
      "text/plain": [
       "('one', 'two', 'three', 'four', 'five', 'six', 'seven', 'eight')"
      ]
     },
     "execution_count": 49,
     "metadata": {},
     "output_type": "execute_result"
    }
   ],
   "source": [
    "mytuple"
   ]
  },
  {
   "cell_type": "code",
   "execution_count": 51,
   "id": "88a2c60a-5c5b-40a8-91c9-358e8b75cea2",
   "metadata": {},
   "outputs": [
    {
     "name": "stdout",
     "output_type": "stream",
     "text": [
      "one\n",
      "two\n",
      "three\n",
      "four\n",
      "five\n",
      "six\n",
      "seven\n",
      "eight\n"
     ]
    }
   ],
   "source": [
    "for i in mytuple:\n",
    "    print(i)"
   ]
  },
  {
   "cell_type": "code",
   "execution_count": 53,
   "id": "b44bc1d7-dd83-4150-931a-578b96c18d5b",
   "metadata": {},
   "outputs": [
    {
     "name": "stdout",
     "output_type": "stream",
     "text": [
      "(0, 'one')\n",
      "(1, 'two')\n",
      "(2, 'three')\n",
      "(3, 'four')\n",
      "(4, 'five')\n",
      "(5, 'six')\n",
      "(6, 'seven')\n",
      "(7, 'eight')\n"
     ]
    }
   ],
   "source": [
    "for i in enumerate(mytuple):\n",
    "    print(i)"
   ]
  },
  {
   "cell_type": "markdown",
   "id": "7bb07125-0a5e-4b40-8606-3aa84c78bbd7",
   "metadata": {},
   "source": [
    "# tuple membership"
   ]
  },
  {
   "cell_type": "code",
   "execution_count": 56,
   "id": "3cda6cd3-e4f6-4b1e-bfc7-74c36b2e47ad",
   "metadata": {},
   "outputs": [
    {
     "data": {
      "text/plain": [
       "('one', 'two', 'three', 'four', 'five', 'six', 'seven', 'eight')"
      ]
     },
     "execution_count": 56,
     "metadata": {},
     "output_type": "execute_result"
    }
   ],
   "source": [
    "mytuple"
   ]
  },
  {
   "cell_type": "code",
   "execution_count": 58,
   "id": "9452ec7a-52a8-4607-8101-e7432e47ad28",
   "metadata": {},
   "outputs": [
    {
     "data": {
      "text/plain": [
       "True"
      ]
     },
     "execution_count": 58,
     "metadata": {},
     "output_type": "execute_result"
    }
   ],
   "source": [
    "'one' in mytuple"
   ]
  },
  {
   "cell_type": "code",
   "execution_count": 60,
   "id": "d5fab663-b823-4482-ad2c-43e10febe55d",
   "metadata": {},
   "outputs": [
    {
     "data": {
      "text/plain": [
       "False"
      ]
     },
     "execution_count": 60,
     "metadata": {},
     "output_type": "execute_result"
    }
   ],
   "source": [
    "'ten' in mytuple"
   ]
  },
  {
   "cell_type": "code",
   "execution_count": 62,
   "id": "343cdd68-1e62-48d4-908c-8ef427eba5f4",
   "metadata": {},
   "outputs": [
    {
     "name": "stdout",
     "output_type": "stream",
     "text": [
      "four is present\n"
     ]
    }
   ],
   "source": [
    "if 'four' in mytuple:\n",
    "    print('four is present')\n",
    "else:\n",
    "    print('four is absent')"
   ]
  },
  {
   "cell_type": "code",
   "execution_count": 64,
   "id": "cd40297d-7be1-4c5d-82a2-a16740daa039",
   "metadata": {},
   "outputs": [
    {
     "name": "stdout",
     "output_type": "stream",
     "text": [
      "absent\n"
     ]
    }
   ],
   "source": [
    "if 'ten' in mytuple:\n",
    "    print('present')\n",
    "else:\n",
    "    print('absent')"
   ]
  },
  {
   "cell_type": "markdown",
   "id": "97660353-6cf0-40ab-ab1c-a4599601a97d",
   "metadata": {},
   "source": [
    "# indexing"
   ]
  },
  {
   "cell_type": "code",
   "execution_count": 67,
   "id": "be85a2b8-781a-48e1-8964-0206629cfb17",
   "metadata": {},
   "outputs": [
    {
     "data": {
      "text/plain": [
       "('one', 'two', 'three', 'four', 'five', 'six', 'seven', 'eight')"
      ]
     },
     "execution_count": 67,
     "metadata": {},
     "output_type": "execute_result"
    }
   ],
   "source": [
    "mytuple"
   ]
  },
  {
   "cell_type": "code",
   "execution_count": 69,
   "id": "a7bb9747-58e6-4b6c-b7a9-da10346f4170",
   "metadata": {},
   "outputs": [
    {
     "data": {
      "text/plain": [
       "0"
      ]
     },
     "execution_count": 69,
     "metadata": {},
     "output_type": "execute_result"
    }
   ],
   "source": [
    "mytuple.index('one')"
   ]
  },
  {
   "cell_type": "code",
   "execution_count": 71,
   "id": "d66e6766-11a0-486d-b012-2713bb69f8e2",
   "metadata": {},
   "outputs": [
    {
     "data": {
      "text/plain": [
       "4"
      ]
     },
     "execution_count": 71,
     "metadata": {},
     "output_type": "execute_result"
    }
   ],
   "source": [
    "mytuple.index('five')"
   ]
  },
  {
   "cell_type": "markdown",
   "id": "bb2358e5-df2b-45ba-bf39-f4cdffbb3418",
   "metadata": {},
   "source": [
    "# sorting\n"
   ]
  },
  {
   "cell_type": "code",
   "execution_count": 74,
   "id": "95191e11-debc-4b94-8ccd-8d4e3f974f8e",
   "metadata": {},
   "outputs": [],
   "source": [
    "mytuple1=(30,44,1,2,50)"
   ]
  },
  {
   "cell_type": "code",
   "execution_count": 76,
   "id": "63bd0c27-8d11-4614-9086-276480d27825",
   "metadata": {},
   "outputs": [
    {
     "data": {
      "text/plain": [
       "[1, 2, 30, 44, 50]"
      ]
     },
     "execution_count": 76,
     "metadata": {},
     "output_type": "execute_result"
    }
   ],
   "source": [
    "sorted(mytuple1)"
   ]
  },
  {
   "cell_type": "code",
   "execution_count": 78,
   "id": "1338842b-1999-49f2-933f-f9cca6aed7fe",
   "metadata": {},
   "outputs": [
    {
     "data": {
      "text/plain": [
       "[50, 44, 30, 2, 1]"
      ]
     },
     "execution_count": 78,
     "metadata": {},
     "output_type": "execute_result"
    }
   ],
   "source": [
    "sorted(mytuple1,reverse=True)"
   ]
  },
  {
   "cell_type": "markdown",
   "id": "b55346db-3b1f-443b-89bc-f66972eb6f8c",
   "metadata": {},
   "source": [
    "# count"
   ]
  },
  {
   "cell_type": "code",
   "execution_count": 81,
   "id": "16a4830b-6454-4e32-8903-6a2fd0070022",
   "metadata": {},
   "outputs": [],
   "source": [
    "mytuple=('one','two','three','four','five','six','seven','eight')"
   ]
  },
  {
   "cell_type": "code",
   "execution_count": 83,
   "id": "fa526e09-0b6f-4c0c-bc75-63ec8aa0c1db",
   "metadata": {},
   "outputs": [
    {
     "data": {
      "text/plain": [
       "1"
      ]
     },
     "execution_count": 83,
     "metadata": {},
     "output_type": "execute_result"
    }
   ],
   "source": [
    "mytuple.count('one')"
   ]
  },
  {
   "cell_type": "code",
   "execution_count": null,
   "id": "a13dea65-94ac-4b1f-9dda-9968822ff32a",
   "metadata": {},
   "outputs": [],
   "source": []
  }
 ],
 "metadata": {
  "kernelspec": {
   "display_name": "Python 3 (ipykernel)",
   "language": "python",
   "name": "python3"
  },
  "language_info": {
   "codemirror_mode": {
    "name": "ipython",
    "version": 3
   },
   "file_extension": ".py",
   "mimetype": "text/x-python",
   "name": "python",
   "nbconvert_exporter": "python",
   "pygments_lexer": "ipython3",
   "version": "3.12.4"
  }
 },
 "nbformat": 4,
 "nbformat_minor": 5
}
