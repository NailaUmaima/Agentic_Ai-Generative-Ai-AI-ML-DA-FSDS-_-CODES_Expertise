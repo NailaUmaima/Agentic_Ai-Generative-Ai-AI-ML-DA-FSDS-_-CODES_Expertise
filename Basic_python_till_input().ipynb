{
 "cells": [
  {
   "cell_type": "markdown",
   "id": "f65e513c-1a00-457b-9971-f6ddec5d98f2",
   "metadata": {},
   "source": [
    "# Basic python\n"
   ]
  },
  {
   "cell_type": "code",
   "execution_count": 2,
   "id": "501f0f3c-0c35-4ce0-bcc0-df7f7c11d04c",
   "metadata": {},
   "outputs": [
    {
     "data": {
      "text/plain": [
       "1"
      ]
     },
     "execution_count": 2,
     "metadata": {},
     "output_type": "execute_result"
    }
   ],
   "source": [
    "1"
   ]
  },
  {
   "cell_type": "code",
   "execution_count": 3,
   "id": "7183e740-1315-4e2f-8fcf-5379e14512d2",
   "metadata": {},
   "outputs": [
    {
     "data": {
      "text/plain": [
       "3"
      ]
     },
     "execution_count": 3,
     "metadata": {},
     "output_type": "execute_result"
    }
   ],
   "source": [
    "1+2"
   ]
  },
  {
   "cell_type": "code",
   "execution_count": 4,
   "id": "c3f1d776-6ea5-4855-97e9-cca3282e9240",
   "metadata": {},
   "outputs": [
    {
     "data": {
      "text/plain": [
       "8"
      ]
     },
     "execution_count": 4,
     "metadata": {},
     "output_type": "execute_result"
    }
   ],
   "source": [
    "10-2"
   ]
  },
  {
   "cell_type": "code",
   "execution_count": 5,
   "id": "a287ae48-0fa1-4732-9ca8-17115dadbfb4",
   "metadata": {},
   "outputs": [
    {
     "data": {
      "text/plain": [
       "2.0"
      ]
     },
     "execution_count": 5,
     "metadata": {},
     "output_type": "execute_result"
    }
   ],
   "source": [
    "10/5"
   ]
  },
  {
   "cell_type": "code",
   "execution_count": 6,
   "id": "e6f48c36-3cc4-440c-9865-2f3fae6f36f7",
   "metadata": {},
   "outputs": [
    {
     "data": {
      "text/plain": [
       "2"
      ]
     },
     "execution_count": 6,
     "metadata": {},
     "output_type": "execute_result"
    }
   ],
   "source": [
    "10//5"
   ]
  },
  {
   "cell_type": "code",
   "execution_count": 7,
   "id": "63de4d03-0ece-4d8b-aac8-35f3554b9c93",
   "metadata": {},
   "outputs": [
    {
     "data": {
      "text/plain": [
       "10"
      ]
     },
     "execution_count": 7,
     "metadata": {},
     "output_type": "execute_result"
    }
   ],
   "source": [
    "2*5"
   ]
  },
  {
   "cell_type": "code",
   "execution_count": 8,
   "id": "d96659bd-5671-40f4-8522-47ba8931537a",
   "metadata": {},
   "outputs": [
    {
     "data": {
      "text/plain": [
       "10"
      ]
     },
     "execution_count": 8,
     "metadata": {},
     "output_type": "execute_result"
    }
   ],
   "source": [
    "5*2"
   ]
  },
  {
   "cell_type": "code",
   "execution_count": 9,
   "id": "c4d0491b-a7ff-4add-a099-1495c68415f1",
   "metadata": {},
   "outputs": [
    {
     "data": {
      "text/plain": [
       "64"
      ]
     },
     "execution_count": 9,
     "metadata": {},
     "output_type": "execute_result"
    }
   ],
   "source": [
    "2*2*2*2*2*2"
   ]
  },
  {
   "cell_type": "code",
   "execution_count": 10,
   "id": "fb229141-ae1d-4f9c-afd8-b6279fe5e437",
   "metadata": {},
   "outputs": [
    {
     "data": {
      "text/plain": [
       "32"
      ]
     },
     "execution_count": 10,
     "metadata": {},
     "output_type": "execute_result"
    }
   ],
   "source": [
    "2**5"
   ]
  },
  {
   "cell_type": "code",
   "execution_count": 11,
   "id": "3bd4da84-c91e-4db6-8739-dc203ebef8f9",
   "metadata": {},
   "outputs": [
    {
     "data": {
      "text/plain": [
       "0"
      ]
     },
     "execution_count": 11,
     "metadata": {},
     "output_type": "execute_result"
    }
   ],
   "source": [
    "100%10\n"
   ]
  },
  {
   "cell_type": "code",
   "execution_count": 12,
   "id": "e5e6adb7-e3ff-4b58-9bf9-b4c34f3197aa",
   "metadata": {},
   "outputs": [
    {
     "data": {
      "text/plain": [
       "10"
      ]
     },
     "execution_count": 12,
     "metadata": {},
     "output_type": "execute_result"
    }
   ],
   "source": [
    "5+8-3"
   ]
  },
  {
   "cell_type": "code",
   "execution_count": 13,
   "id": "395eb670-296a-4a77-9b78-844e863aa622",
   "metadata": {},
   "outputs": [
    {
     "data": {
      "text/plain": [
       "50"
      ]
     },
     "execution_count": 13,
     "metadata": {},
     "output_type": "execute_result"
    }
   ],
   "source": [
    "(5+5)*5"
   ]
  },
  {
   "cell_type": "code",
   "execution_count": 14,
   "id": "f55a942c-6a66-47ba-ae87-d2d59b2b7ce7",
   "metadata": {},
   "outputs": [],
   "source": [
    "a,b,c,d,e=10,3.6,'lol',2j+10,True"
   ]
  },
  {
   "cell_type": "code",
   "execution_count": 15,
   "id": "cd9a3755-c4d7-4caa-bc31-0466f6c97c0b",
   "metadata": {},
   "outputs": [
    {
     "name": "stdout",
     "output_type": "stream",
     "text": [
      "10\n",
      "3.6\n",
      "lol\n",
      "(10+2j)\n",
      "True\n"
     ]
    }
   ],
   "source": [
    "print(a)\n",
    "print(b)\n",
    "print(c)\n",
    "print(d)\n",
    "print(e)"
   ]
  },
  {
   "cell_type": "code",
   "execution_count": 16,
   "id": "eded17a1-d4f4-41e5-a79d-e93381cbc3f4",
   "metadata": {},
   "outputs": [
    {
     "name": "stdout",
     "output_type": "stream",
     "text": [
      "<class 'int'>\n",
      "<class 'float'>\n",
      "<class 'str'>\n",
      "<class 'complex'>\n",
      "<class 'bool'>\n"
     ]
    }
   ],
   "source": [
    "print(type(a))\n",
    "print(type(b))\n",
    "print(type(c))\n",
    "print(type(d))\n",
    "print(type(e))"
   ]
  },
  {
   "cell_type": "code",
   "execution_count": 17,
   "id": "c535a53e-9a8b-4138-a275-ca33aedfa990",
   "metadata": {},
   "outputs": [
    {
     "data": {
      "text/plain": [
       "complex"
      ]
     },
     "execution_count": 17,
     "metadata": {},
     "output_type": "execute_result"
    }
   ],
   "source": [
    "type(d)"
   ]
  },
  {
   "cell_type": "code",
   "execution_count": 18,
   "id": "3726430f-c28c-4efc-be4f-a6c3a6e5af09",
   "metadata": {},
   "outputs": [
    {
     "data": {
      "text/plain": [
       "'Rosemary'"
      ]
     },
     "execution_count": 18,
     "metadata": {},
     "output_type": "execute_result"
    }
   ],
   "source": [
    "'Rosemary'"
   ]
  },
  {
   "cell_type": "code",
   "execution_count": 19,
   "id": "989e2c60-6e87-4235-97a7-992d9754e0d5",
   "metadata": {},
   "outputs": [
    {
     "name": "stdout",
     "output_type": "stream",
     "text": [
      "Rosemary\n"
     ]
    }
   ],
   "source": [
    "print('Rosemary')"
   ]
  },
  {
   "cell_type": "code",
   "execution_count": 20,
   "id": "81339a5a-dab1-49f6-8589-d93deeda11d9",
   "metadata": {},
   "outputs": [
    {
     "data": {
      "text/plain": [
       "'Rasemary'"
      ]
     },
     "execution_count": 20,
     "metadata": {},
     "output_type": "execute_result"
    }
   ],
   "source": [
    "s1='Rasemary'\n",
    "s1"
   ]
  },
  {
   "cell_type": "code",
   "execution_count": 21,
   "id": "a576c42e-d535-43c9-8533-5a1768a0b73f",
   "metadata": {},
   "outputs": [
    {
     "data": {
      "text/plain": [
       "5"
      ]
     },
     "execution_count": 21,
     "metadata": {},
     "output_type": "execute_result"
    }
   ],
   "source": [
    "a=2\n",
    "b=3\n",
    "a+b\n"
   ]
  },
  {
   "cell_type": "code",
   "execution_count": 22,
   "id": "b16d8387-80d1-463a-8023-e10498ea7066",
   "metadata": {},
   "outputs": [
    {
     "data": {
      "text/plain": [
       "3"
      ]
     },
     "execution_count": 22,
     "metadata": {},
     "output_type": "execute_result"
    }
   ],
   "source": [
    "c=a=b\n",
    "c"
   ]
  },
  {
   "cell_type": "code",
   "execution_count": 23,
   "id": "0590cdd2-625e-4315-b94a-ac49aac8fff8",
   "metadata": {},
   "outputs": [
    {
     "data": {
      "text/plain": [
       "str"
      ]
     },
     "execution_count": 23,
     "metadata": {},
     "output_type": "execute_result"
    }
   ],
   "source": [
    "a=2\n",
    "b='tree'\n",
    "type(b)"
   ]
  },
  {
   "cell_type": "code",
   "execution_count": 24,
   "id": "3ecb7414-98cb-4f82-9e37-77d40bc52da3",
   "metadata": {},
   "outputs": [
    {
     "name": "stdout",
     "output_type": "stream",
     "text": [
      "<class 'int'>\n",
      "<class 'str'>\n"
     ]
    }
   ],
   "source": [
    "print(type(a))\n",
    "print(type(b))"
   ]
  },
  {
   "cell_type": "code",
   "execution_count": 25,
   "id": "8472f2e7-70af-4b66-bcee-dee405ddd75c",
   "metadata": {},
   "outputs": [
    {
     "name": "stdout",
     "output_type": "stream",
     "text": [
      "cartoon's \"network\"\n"
     ]
    }
   ],
   "source": [
    "print('cartoon\\'s \"network\"')"
   ]
  },
  {
   "cell_type": "code",
   "execution_count": 26,
   "id": "2d7aad07-2e37-43e9-a0b5-defb0cb3e20e",
   "metadata": {},
   "outputs": [
    {
     "data": {
      "text/plain": [
       "'cartoon'"
      ]
     },
     "execution_count": 26,
     "metadata": {},
     "output_type": "execute_result"
    }
   ],
   "source": [
    "'car' 'toon'"
   ]
  },
  {
   "cell_type": "code",
   "execution_count": 27,
   "id": "1e082622-4f5a-441d-bac0-5fa89a1580f0",
   "metadata": {},
   "outputs": [
    {
     "data": {
      "text/plain": [
       "'cartoon'"
      ]
     },
     "execution_count": 27,
     "metadata": {},
     "output_type": "execute_result"
    }
   ],
   "source": [
    "'car'+'toon'"
   ]
  },
  {
   "cell_type": "code",
   "execution_count": 28,
   "id": "2724ecd4-724e-4c42-8a98-764a2320d3e0",
   "metadata": {},
   "outputs": [
    {
     "data": {
      "text/plain": [
       "'carcarcarcarcar'"
      ]
     },
     "execution_count": 28,
     "metadata": {},
     "output_type": "execute_result"
    }
   ],
   "source": [
    "5*'car'"
   ]
  },
  {
   "cell_type": "code",
   "execution_count": 29,
   "id": "07ebbd4c-74a9-4e6a-a345-def6faf593bc",
   "metadata": {},
   "outputs": [
    {
     "data": {
      "text/plain": [
       "' car car car car car'"
      ]
     },
     "execution_count": 29,
     "metadata": {},
     "output_type": "execute_result"
    }
   ],
   "source": [
    "5*' car'"
   ]
  },
  {
   "cell_type": "code",
   "execution_count": 30,
   "id": "00728aa4-2ea2-4661-b282-74bdb3747da0",
   "metadata": {},
   "outputs": [
    {
     "name": "stdout",
     "output_type": "stream",
     "text": [
      "c:\n",
      "bob\n"
     ]
    }
   ],
   "source": [
    "print('c:\\nbob')"
   ]
  },
  {
   "cell_type": "code",
   "execution_count": 31,
   "id": "cbe79260-9f6d-40a5-bb49-5b9d82fa056d",
   "metadata": {},
   "outputs": [
    {
     "name": "stdout",
     "output_type": "stream",
     "text": [
      "c:\\nbob\n"
     ]
    }
   ],
   "source": [
    "print(r'c:\\nbob')"
   ]
  },
  {
   "cell_type": "markdown",
   "id": "6c4ee82e-9a82-410e-964e-bfb7c7d524e0",
   "metadata": {},
   "source": [
    "# variables"
   ]
  },
  {
   "cell_type": "code",
   "execution_count": 33,
   "id": "669430b8-910f-4b1f-a0a0-8f5c3f1b2ac1",
   "metadata": {},
   "outputs": [
    {
     "data": {
      "text/plain": [
       "20"
      ]
     },
     "execution_count": 33,
     "metadata": {},
     "output_type": "execute_result"
    }
   ],
   "source": [
    "x=20\n",
    "x"
   ]
  },
  {
   "cell_type": "code",
   "execution_count": 34,
   "id": "d739a90e-e421-4482-9247-0c18760bc8d6",
   "metadata": {},
   "outputs": [
    {
     "data": {
      "text/plain": [
       "22"
      ]
     },
     "execution_count": 34,
     "metadata": {},
     "output_type": "execute_result"
    }
   ],
   "source": [
    "x+2"
   ]
  },
  {
   "cell_type": "code",
   "execution_count": 35,
   "id": "c68c1cb4-28b7-45bd-9d56-256fe7bfb7e8",
   "metadata": {},
   "outputs": [
    {
     "data": {
      "text/plain": [
       "10"
      ]
     },
     "execution_count": 35,
     "metadata": {},
     "output_type": "execute_result"
    }
   ],
   "source": [
    "x-10"
   ]
  },
  {
   "cell_type": "code",
   "execution_count": 36,
   "id": "aebd81fd-1e24-48f5-8168-8d16d760d601",
   "metadata": {},
   "outputs": [
    {
     "data": {
      "text/plain": [
       "20"
      ]
     },
     "execution_count": 36,
     "metadata": {},
     "output_type": "execute_result"
    }
   ],
   "source": [
    "x"
   ]
  },
  {
   "cell_type": "code",
   "execution_count": 37,
   "id": "7f2ab767-b384-41d8-bff1-b4991b70fdcf",
   "metadata": {},
   "outputs": [
    {
     "data": {
      "text/plain": [
       "40"
      ]
     },
     "execution_count": 37,
     "metadata": {},
     "output_type": "execute_result"
    }
   ],
   "source": [
    "x*2"
   ]
  },
  {
   "cell_type": "code",
   "execution_count": 38,
   "id": "208266aa-97a6-4181-82e7-89fdd7fcd1bd",
   "metadata": {},
   "outputs": [
    {
     "data": {
      "text/plain": [
       "10.0"
      ]
     },
     "execution_count": 38,
     "metadata": {},
     "output_type": "execute_result"
    }
   ],
   "source": [
    "x/2"
   ]
  },
  {
   "cell_type": "code",
   "execution_count": 39,
   "id": "f37e62e5-9c3d-4be2-b399-6e71dda5aaa3",
   "metadata": {},
   "outputs": [
    {
     "data": {
      "text/plain": [
       "5"
      ]
     },
     "execution_count": 39,
     "metadata": {},
     "output_type": "execute_result"
    }
   ],
   "source": [
    "x//4"
   ]
  },
  {
   "cell_type": "code",
   "execution_count": 40,
   "id": "569b823b-8195-4a78-8877-8cc6e170dc7e",
   "metadata": {},
   "outputs": [
    {
     "data": {
      "text/plain": [
       "0"
      ]
     },
     "execution_count": 40,
     "metadata": {},
     "output_type": "execute_result"
    }
   ],
   "source": [
    "x%5"
   ]
  },
  {
   "cell_type": "code",
   "execution_count": 41,
   "id": "456e9a94-28c7-4826-89af-ae30100c16ef",
   "metadata": {},
   "outputs": [],
   "source": [
    "y=6"
   ]
  },
  {
   "cell_type": "code",
   "execution_count": 42,
   "id": "77a9439b-9105-41b3-a6c9-da230f2e20f1",
   "metadata": {},
   "outputs": [
    {
     "data": {
      "text/plain": [
       "6"
      ]
     },
     "execution_count": 42,
     "metadata": {},
     "output_type": "execute_result"
    }
   ],
   "source": [
    "y"
   ]
  },
  {
   "cell_type": "code",
   "execution_count": 43,
   "id": "30786d0b-1027-436c-a49b-b78f526de21a",
   "metadata": {},
   "outputs": [
    {
     "data": {
      "text/plain": [
       "12"
      ]
     },
     "execution_count": 43,
     "metadata": {},
     "output_type": "execute_result"
    }
   ],
   "source": [
    "_ + y"
   ]
  },
  {
   "cell_type": "code",
   "execution_count": 44,
   "id": "bb0aa49d-d5ee-42a3-a075-c6c3162e2f6b",
   "metadata": {},
   "outputs": [],
   "source": [
    "name='shon'"
   ]
  },
  {
   "cell_type": "code",
   "execution_count": 45,
   "id": "3b08f41c-fcde-4c45-ab30-450d1e9813f1",
   "metadata": {},
   "outputs": [
    {
     "data": {
      "text/plain": [
       "'shon'"
      ]
     },
     "execution_count": 45,
     "metadata": {},
     "output_type": "execute_result"
    }
   ],
   "source": [
    "name"
   ]
  },
  {
   "cell_type": "code",
   "execution_count": 46,
   "id": "a9ef0f86-2e6f-4cea-a01e-bfcefcc590f8",
   "metadata": {},
   "outputs": [
    {
     "data": {
      "text/plain": [
       "'shonsheep'"
      ]
     },
     "execution_count": 46,
     "metadata": {},
     "output_type": "execute_result"
    }
   ],
   "source": [
    "name+'sheep'"
   ]
  },
  {
   "cell_type": "code",
   "execution_count": 47,
   "id": "1891577f-6ce3-43c2-9d7f-524f29193c99",
   "metadata": {},
   "outputs": [
    {
     "data": {
      "text/plain": [
       "'shonthesheep'"
      ]
     },
     "execution_count": 47,
     "metadata": {},
     "output_type": "execute_result"
    }
   ],
   "source": [
    "name+'the'+'sheep'"
   ]
  },
  {
   "cell_type": "code",
   "execution_count": 48,
   "id": "fa29e7cc-c53f-428c-8d49-5a7b9fce53d4",
   "metadata": {},
   "outputs": [],
   "source": [
    "n1='the'"
   ]
  },
  {
   "cell_type": "code",
   "execution_count": 49,
   "id": "08db37ee-29a3-4c5e-9b33-0a4251135c9c",
   "metadata": {},
   "outputs": [
    {
     "data": {
      "text/plain": [
       "'shonthesheep'"
      ]
     },
     "execution_count": 49,
     "metadata": {},
     "output_type": "execute_result"
    }
   ],
   "source": [
    "name+n1+'sheep'"
   ]
  },
  {
   "cell_type": "code",
   "execution_count": 50,
   "id": "5ddf97e0-2a82-4346-addc-a8b045965c62",
   "metadata": {},
   "outputs": [
    {
     "data": {
      "text/plain": [
       "4"
      ]
     },
     "execution_count": 50,
     "metadata": {},
     "output_type": "execute_result"
    }
   ],
   "source": [
    "len(name)"
   ]
  },
  {
   "cell_type": "code",
   "execution_count": 51,
   "id": "fceaf2c7-250f-4bba-bba3-1dfce05edb00",
   "metadata": {},
   "outputs": [
    {
     "data": {
      "text/plain": [
       "str"
      ]
     },
     "execution_count": 51,
     "metadata": {},
     "output_type": "execute_result"
    }
   ],
   "source": [
    "type(name)"
   ]
  },
  {
   "cell_type": "markdown",
   "id": "84f9a5dd-bb4b-4954-8fb1-8a02f1f12b25",
   "metadata": {},
   "source": [
    "# index"
   ]
  },
  {
   "cell_type": "code",
   "execution_count": 53,
   "id": "3e9710ce-be38-4398-bf40-7ff071caa481",
   "metadata": {},
   "outputs": [
    {
     "data": {
      "text/plain": [
       "'s'"
      ]
     },
     "execution_count": 53,
     "metadata": {},
     "output_type": "execute_result"
    }
   ],
   "source": [
    "name[0]"
   ]
  },
  {
   "cell_type": "code",
   "execution_count": 54,
   "id": "2763c86d-a428-4c5e-8b10-d1577c866c5e",
   "metadata": {},
   "outputs": [
    {
     "data": {
      "text/plain": [
       "'n'"
      ]
     },
     "execution_count": 54,
     "metadata": {},
     "output_type": "execute_result"
    }
   ],
   "source": [
    "name[3]"
   ]
  },
  {
   "cell_type": "code",
   "execution_count": 55,
   "id": "7422bd77-20d8-4400-a74d-9bfde0e94d8e",
   "metadata": {},
   "outputs": [
    {
     "data": {
      "text/plain": [
       "'n'"
      ]
     },
     "execution_count": 55,
     "metadata": {},
     "output_type": "execute_result"
    }
   ],
   "source": [
    "name[-1]"
   ]
  },
  {
   "cell_type": "code",
   "execution_count": 56,
   "id": "bed4d6ce-c990-4e92-bfdf-986d0ea49278",
   "metadata": {},
   "outputs": [
    {
     "data": {
      "text/plain": [
       "'o'"
      ]
     },
     "execution_count": 56,
     "metadata": {},
     "output_type": "execute_result"
    }
   ],
   "source": [
    "name[-2]"
   ]
  },
  {
   "cell_type": "markdown",
   "id": "7a630164-d911-4a39-b328-9842f481316a",
   "metadata": {},
   "source": [
    "# slice"
   ]
  },
  {
   "cell_type": "code",
   "execution_count": 58,
   "id": "6a95d7d5-f682-45de-a44f-b9b012bb7627",
   "metadata": {},
   "outputs": [],
   "source": [
    "name1='frankle'"
   ]
  },
  {
   "cell_type": "code",
   "execution_count": 59,
   "id": "bf2baff9-670d-4045-bd09-f4aceb02cb69",
   "metadata": {},
   "outputs": [
    {
     "data": {
      "text/plain": [
       "'frankle'"
      ]
     },
     "execution_count": 59,
     "metadata": {},
     "output_type": "execute_result"
    }
   ],
   "source": [
    "name1"
   ]
  },
  {
   "cell_type": "code",
   "execution_count": 60,
   "id": "d379ba5e-a75b-4a44-8049-b36b422fbae7",
   "metadata": {},
   "outputs": [
    {
     "data": {
      "text/plain": [
       "'fra'"
      ]
     },
     "execution_count": 60,
     "metadata": {},
     "output_type": "execute_result"
    }
   ],
   "source": [
    "name1[0:3]"
   ]
  },
  {
   "cell_type": "code",
   "execution_count": 61,
   "id": "bfc9faa5-bd22-49b5-9c68-acf9d94ae3f6",
   "metadata": {},
   "outputs": [
    {
     "data": {
      "text/plain": [
       "'ank'"
      ]
     },
     "execution_count": 61,
     "metadata": {},
     "output_type": "execute_result"
    }
   ],
   "source": [
    "name1[2:5]"
   ]
  },
  {
   "cell_type": "code",
   "execution_count": 62,
   "id": "11aed65b-ae45-484f-a656-16a3f4254be5",
   "metadata": {},
   "outputs": [
    {
     "data": {
      "text/plain": [
       "'kle'"
      ]
     },
     "execution_count": 62,
     "metadata": {},
     "output_type": "execute_result"
    }
   ],
   "source": [
    "name1[4:7]"
   ]
  },
  {
   "cell_type": "code",
   "execution_count": 63,
   "id": "79e292e5-a116-46a5-ae37-e718783b9efc",
   "metadata": {},
   "outputs": [],
   "source": [
    "o='fan'"
   ]
  },
  {
   "cell_type": "code",
   "execution_count": 64,
   "id": "8ec4b4b4-1e98-44b5-b98d-cd83815bd820",
   "metadata": {},
   "outputs": [
    {
     "data": {
      "text/plain": [
       "'f'"
      ]
     },
     "execution_count": 64,
     "metadata": {},
     "output_type": "execute_result"
    }
   ],
   "source": [
    "o[0]"
   ]
  },
  {
   "cell_type": "code",
   "execution_count": 65,
   "id": "cc85a410-8bb2-4458-96c3-d4ded8f9c22a",
   "metadata": {},
   "outputs": [
    {
     "data": {
      "text/plain": [
       "'an'"
      ]
     },
     "execution_count": 65,
     "metadata": {},
     "output_type": "execute_result"
    }
   ],
   "source": [
    "o[1:3]"
   ]
  },
  {
   "cell_type": "code",
   "execution_count": 66,
   "id": "60b1772d-ca4e-4032-b903-011671869848",
   "metadata": {},
   "outputs": [
    {
     "data": {
      "text/plain": [
       "'pan'"
      ]
     },
     "execution_count": 66,
     "metadata": {},
     "output_type": "execute_result"
    }
   ],
   "source": [
    "'p'+o[1:3]"
   ]
  },
  {
   "cell_type": "code",
   "execution_count": 67,
   "id": "2fe4c9ef-b9fd-4b2c-901f-e71059f7dad4",
   "metadata": {},
   "outputs": [
    {
     "data": {
      "text/plain": [
       "3"
      ]
     },
     "execution_count": 67,
     "metadata": {},
     "output_type": "execute_result"
    }
   ],
   "source": [
    "len(o)"
   ]
  },
  {
   "cell_type": "markdown",
   "id": "46656981-a8f3-4d6c-bc6b-a4218bf025af",
   "metadata": {},
   "source": [
    "# list"
   ]
  },
  {
   "cell_type": "code",
   "execution_count": 69,
   "id": "e57d7e56-7e19-419b-bdf6-19e6534df0bb",
   "metadata": {},
   "outputs": [
    {
     "data": {
      "text/plain": [
       "[1, 2, 3, 4, 5]"
      ]
     },
     "execution_count": 69,
     "metadata": {},
     "output_type": "execute_result"
    }
   ],
   "source": [
    "l=[1,2,3,4,5]\n",
    "l"
   ]
  },
  {
   "cell_type": "code",
   "execution_count": 70,
   "id": "56d0eb84-318e-46b7-bd53-e22f5aeea51d",
   "metadata": {},
   "outputs": [
    {
     "data": {
      "text/plain": [
       "1"
      ]
     },
     "execution_count": 70,
     "metadata": {},
     "output_type": "execute_result"
    }
   ],
   "source": [
    "l[0]"
   ]
  },
  {
   "cell_type": "code",
   "execution_count": 71,
   "id": "bf951b3d-4e5b-4187-9826-7d556b7b62f3",
   "metadata": {},
   "outputs": [
    {
     "data": {
      "text/plain": [
       "2"
      ]
     },
     "execution_count": 71,
     "metadata": {},
     "output_type": "execute_result"
    }
   ],
   "source": [
    "l[1]"
   ]
  },
  {
   "cell_type": "code",
   "execution_count": 72,
   "id": "390480b7-0947-46e8-bb44-c775efb48649",
   "metadata": {},
   "outputs": [
    {
     "data": {
      "text/plain": [
       "5"
      ]
     },
     "execution_count": 72,
     "metadata": {},
     "output_type": "execute_result"
    }
   ],
   "source": [
    "l[-1]"
   ]
  },
  {
   "cell_type": "code",
   "execution_count": 73,
   "id": "8f313ad8-55bc-4000-93d0-650a888cf2c0",
   "metadata": {},
   "outputs": [
    {
     "data": {
      "text/plain": [
       "[1, 2, 3, 4]"
      ]
     },
     "execution_count": 73,
     "metadata": {},
     "output_type": "execute_result"
    }
   ],
   "source": [
    "l[0:4]"
   ]
  },
  {
   "cell_type": "code",
   "execution_count": 74,
   "id": "df9be0f6-dc34-449c-8a79-6e59f252f9a7",
   "metadata": {},
   "outputs": [
    {
     "data": {
      "text/plain": [
       "[1, 2, 3, 4, 5]"
      ]
     },
     "execution_count": 74,
     "metadata": {},
     "output_type": "execute_result"
    }
   ],
   "source": [
    "l[:6]"
   ]
  },
  {
   "cell_type": "code",
   "execution_count": 75,
   "id": "a2cc199f-95ff-4050-b3b8-6f0d3527c928",
   "metadata": {},
   "outputs": [
    {
     "data": {
      "text/plain": [
       "[4, 5]"
      ]
     },
     "execution_count": 75,
     "metadata": {},
     "output_type": "execute_result"
    }
   ],
   "source": [
    "l[3:]"
   ]
  },
  {
   "cell_type": "code",
   "execution_count": 76,
   "id": "9ba4c5a3-f833-4f9c-90f4-b3dbb7461c90",
   "metadata": {},
   "outputs": [
    {
     "data": {
      "text/plain": [
       "['acc', 'cca']"
      ]
     },
     "execution_count": 76,
     "metadata": {},
     "output_type": "execute_result"
    }
   ],
   "source": [
    "l1=['acc','cca']\n",
    "l1"
   ]
  },
  {
   "cell_type": "code",
   "execution_count": 77,
   "id": "04622afd-9952-4c77-94f4-8e16acd1f057",
   "metadata": {},
   "outputs": [],
   "source": [
    "l3=(l+l1)"
   ]
  },
  {
   "cell_type": "code",
   "execution_count": 78,
   "id": "858d34ae-0013-47e4-82cf-9db5c96367a5",
   "metadata": {},
   "outputs": [
    {
     "data": {
      "text/plain": [
       "[1, 2, 3, 4, 5, 'acc', 'cca']"
      ]
     },
     "execution_count": 78,
     "metadata": {},
     "output_type": "execute_result"
    }
   ],
   "source": [
    "l3"
   ]
  },
  {
   "cell_type": "code",
   "execution_count": 79,
   "id": "adb4776e-7b2d-4783-a12a-231e3928426f",
   "metadata": {},
   "outputs": [],
   "source": [
    "l3=[l,l1]"
   ]
  },
  {
   "cell_type": "code",
   "execution_count": 80,
   "id": "08a74170-d546-4067-a4d3-271ce8a7760c",
   "metadata": {},
   "outputs": [
    {
     "data": {
      "text/plain": [
       "[[1, 2, 3, 4, 5], ['acc', 'cca']]"
      ]
     },
     "execution_count": 80,
     "metadata": {},
     "output_type": "execute_result"
    }
   ],
   "source": [
    "l3"
   ]
  },
  {
   "cell_type": "code",
   "execution_count": 81,
   "id": "867407c8-caf6-474b-bbe9-1cb45b74cde7",
   "metadata": {},
   "outputs": [],
   "source": [
    "l.append(6)"
   ]
  },
  {
   "cell_type": "code",
   "execution_count": 82,
   "id": "38478fe0-a99a-4d52-a79e-d98a8cf1172c",
   "metadata": {},
   "outputs": [
    {
     "data": {
      "text/plain": [
       "[1, 2, 3, 4, 5, 6]"
      ]
     },
     "execution_count": 82,
     "metadata": {},
     "output_type": "execute_result"
    }
   ],
   "source": [
    "l"
   ]
  },
  {
   "cell_type": "code",
   "execution_count": 83,
   "id": "08463b2f-de47-4cbd-940f-fce71f9d3a51",
   "metadata": {},
   "outputs": [],
   "source": [
    "l.append(2j+10)"
   ]
  },
  {
   "cell_type": "code",
   "execution_count": 84,
   "id": "8e514808-9bf0-4cbc-bd46-a4e54acbca0c",
   "metadata": {},
   "outputs": [],
   "source": [
    "l.append(True)"
   ]
  },
  {
   "cell_type": "code",
   "execution_count": 85,
   "id": "d6d76ecc-0876-4567-8cd6-0ddaae13ac01",
   "metadata": {},
   "outputs": [],
   "source": [
    "l.append('holla')"
   ]
  },
  {
   "cell_type": "code",
   "execution_count": 86,
   "id": "39ad9ae7-8330-4442-8be0-b423736493f7",
   "metadata": {},
   "outputs": [
    {
     "data": {
      "text/plain": [
       "[1, 2, 3, 4, 5, 6, (10+2j), True, 'holla']"
      ]
     },
     "execution_count": 86,
     "metadata": {},
     "output_type": "execute_result"
    }
   ],
   "source": [
    "l"
   ]
  },
  {
   "cell_type": "code",
   "execution_count": 87,
   "id": "378b2bec-db2d-4ba7-8e19-0bd5cb24d26f",
   "metadata": {},
   "outputs": [
    {
     "data": {
      "text/plain": [
       "'holla'"
      ]
     },
     "execution_count": 87,
     "metadata": {},
     "output_type": "execute_result"
    }
   ],
   "source": [
    "l.pop()"
   ]
  },
  {
   "cell_type": "code",
   "execution_count": 88,
   "id": "40641f1d-0a83-4e6a-91b7-6573ff45ee42",
   "metadata": {},
   "outputs": [
    {
     "data": {
      "text/plain": [
       "[1, 2, 3, 4, 5, 6, (10+2j), True]"
      ]
     },
     "execution_count": 88,
     "metadata": {},
     "output_type": "execute_result"
    }
   ],
   "source": [
    "l"
   ]
  },
  {
   "cell_type": "code",
   "execution_count": 89,
   "id": "323eb6f2-f1b0-4336-981d-a1654b73e915",
   "metadata": {},
   "outputs": [
    {
     "data": {
      "text/plain": [
       "5"
      ]
     },
     "execution_count": 89,
     "metadata": {},
     "output_type": "execute_result"
    }
   ],
   "source": [
    "l.pop(4)"
   ]
  },
  {
   "cell_type": "code",
   "execution_count": 90,
   "id": "fe0c0980-ea03-4cdc-8202-c208903095fd",
   "metadata": {},
   "outputs": [
    {
     "data": {
      "text/plain": [
       "[1, 2, 3, 4, 6, (10+2j), True]"
      ]
     },
     "execution_count": 90,
     "metadata": {},
     "output_type": "execute_result"
    }
   ],
   "source": [
    "l"
   ]
  },
  {
   "cell_type": "code",
   "execution_count": 91,
   "id": "125187b5-8c06-4e56-bd42-09a413a1bba7",
   "metadata": {},
   "outputs": [],
   "source": [
    "l.remove(1)"
   ]
  },
  {
   "cell_type": "code",
   "execution_count": 92,
   "id": "6b5f5229-2a8f-4704-851a-9558aff12b3e",
   "metadata": {},
   "outputs": [
    {
     "data": {
      "text/plain": [
       "[2, 3, 4, 6, (10+2j), True]"
      ]
     },
     "execution_count": 92,
     "metadata": {},
     "output_type": "execute_result"
    }
   ],
   "source": [
    "l"
   ]
  },
  {
   "cell_type": "code",
   "execution_count": 93,
   "id": "d1158867-972e-47f3-8d1f-f4058c22900a",
   "metadata": {},
   "outputs": [],
   "source": [
    "l.remove(10+2j)"
   ]
  },
  {
   "cell_type": "code",
   "execution_count": 94,
   "id": "df98f5b9-8f59-48ee-a738-a0d64d9ee7d1",
   "metadata": {},
   "outputs": [
    {
     "data": {
      "text/plain": [
       "[2, 3, 4, 6, True]"
      ]
     },
     "execution_count": 94,
     "metadata": {},
     "output_type": "execute_result"
    }
   ],
   "source": [
    "l"
   ]
  },
  {
   "cell_type": "code",
   "execution_count": 95,
   "id": "9e054a0f-cad8-407a-92e6-4faae2d606f5",
   "metadata": {},
   "outputs": [
    {
     "data": {
      "text/plain": [
       "[[2, 3, 4, 6, True], ['acc', 'cca']]"
      ]
     },
     "execution_count": 95,
     "metadata": {},
     "output_type": "execute_result"
    }
   ],
   "source": [
    "l3"
   ]
  },
  {
   "cell_type": "code",
   "execution_count": 96,
   "id": "e0396c58-4c32-4105-866b-bfc149acf002",
   "metadata": {},
   "outputs": [],
   "source": [
    "l.insert(5,32+6j)"
   ]
  },
  {
   "cell_type": "code",
   "execution_count": 97,
   "id": "33fd4432-5deb-4b28-b0e3-2f0988a6983a",
   "metadata": {},
   "outputs": [
    {
     "data": {
      "text/plain": [
       "[2, 3, 4, 6, True, (32+6j)]"
      ]
     },
     "execution_count": 97,
     "metadata": {},
     "output_type": "execute_result"
    }
   ],
   "source": [
    "l"
   ]
  },
  {
   "cell_type": "code",
   "execution_count": 98,
   "id": "72bc0bff-e395-419f-ad72-e03857cbb46b",
   "metadata": {},
   "outputs": [
    {
     "data": {
      "text/plain": [
       "[[2, 3, 4, 6, True, (32+6j)], ['acc', 'cca']]"
      ]
     },
     "execution_count": 98,
     "metadata": {},
     "output_type": "execute_result"
    }
   ],
   "source": [
    "l3"
   ]
  },
  {
   "cell_type": "code",
   "execution_count": 99,
   "id": "fa244016-892b-45b6-8d67-ed5ea1c92cb4",
   "metadata": {},
   "outputs": [
    {
     "data": {
      "text/plain": [
       "2"
      ]
     },
     "execution_count": 99,
     "metadata": {},
     "output_type": "execute_result"
    }
   ],
   "source": [
    "len(l3)"
   ]
  },
  {
   "cell_type": "code",
   "execution_count": 100,
   "id": "132d6a2b-7949-4a00-8c23-ce7e9c10413c",
   "metadata": {},
   "outputs": [
    {
     "data": {
      "text/plain": [
       "'acc'"
      ]
     },
     "execution_count": 100,
     "metadata": {},
     "output_type": "execute_result"
    }
   ],
   "source": [
    "l3[1][0]"
   ]
  },
  {
   "cell_type": "code",
   "execution_count": 101,
   "id": "1823c7a9-527f-4139-a8ab-8963b7d4ace1",
   "metadata": {},
   "outputs": [
    {
     "data": {
      "text/plain": [
       "[0, 2, 4, 6, 8]"
      ]
     },
     "execution_count": 101,
     "metadata": {},
     "output_type": "execute_result"
    }
   ],
   "source": [
    "list=[0,2,4,6,8]\n",
    "list"
   ]
  },
  {
   "cell_type": "code",
   "execution_count": 102,
   "id": "e308cc05-4c51-40e1-8e95-754ddd88a522",
   "metadata": {},
   "outputs": [],
   "source": [
    "list.extend([10])"
   ]
  },
  {
   "cell_type": "code",
   "execution_count": 103,
   "id": "206dd9d0-d23b-4778-a7af-8c01fb2ce733",
   "metadata": {},
   "outputs": [
    {
     "data": {
      "text/plain": [
       "[0, 2, 4, 6, 8, 10]"
      ]
     },
     "execution_count": 103,
     "metadata": {},
     "output_type": "execute_result"
    }
   ],
   "source": [
    "list"
   ]
  },
  {
   "cell_type": "code",
   "execution_count": 104,
   "id": "f9ed49e4-f6b3-46bf-affb-98916da3d311",
   "metadata": {},
   "outputs": [
    {
     "data": {
      "text/plain": [
       "0"
      ]
     },
     "execution_count": 104,
     "metadata": {},
     "output_type": "execute_result"
    }
   ],
   "source": [
    "list[0]"
   ]
  },
  {
   "cell_type": "code",
   "execution_count": 105,
   "id": "7389fdbb-80e8-44ec-b17b-6e2ef0d7fb54",
   "metadata": {},
   "outputs": [
    {
     "data": {
      "text/plain": [
       "[0, 2, 4, 6, 8, 10]"
      ]
     },
     "execution_count": 105,
     "metadata": {},
     "output_type": "execute_result"
    }
   ],
   "source": [
    "list[:6]"
   ]
  },
  {
   "cell_type": "code",
   "execution_count": 106,
   "id": "384ac7fa-f5e2-480c-ac1f-4b6672e5037a",
   "metadata": {},
   "outputs": [
    {
     "data": {
      "text/plain": [
       "[2, 4, 6, 8, 10]"
      ]
     },
     "execution_count": 106,
     "metadata": {},
     "output_type": "execute_result"
    }
   ],
   "source": [
    "list[1:]"
   ]
  },
  {
   "cell_type": "code",
   "execution_count": 107,
   "id": "3ef4c29e-910b-48c7-a925-8d421c661d08",
   "metadata": {},
   "outputs": [
    {
     "data": {
      "text/plain": [
       "[0, 4, 8]"
      ]
     },
     "execution_count": 107,
     "metadata": {},
     "output_type": "execute_result"
    }
   ],
   "source": [
    "list[0:6:2]"
   ]
  },
  {
   "cell_type": "code",
   "execution_count": 108,
   "id": "d8661c76-7ab0-4436-9121-96a272c89399",
   "metadata": {},
   "outputs": [
    {
     "data": {
      "text/plain": [
       "1"
      ]
     },
     "execution_count": 108,
     "metadata": {},
     "output_type": "execute_result"
    }
   ],
   "source": [
    "list.count(4)"
   ]
  },
  {
   "cell_type": "code",
   "execution_count": 109,
   "id": "64558dfe-654b-48b7-842f-cf397d1db514",
   "metadata": {},
   "outputs": [
    {
     "data": {
      "text/plain": [
       "[10, 8, 6, 4, 2, 0]"
      ]
     },
     "execution_count": 109,
     "metadata": {},
     "output_type": "execute_result"
    }
   ],
   "source": [
    "list.reverse()\n",
    "list"
   ]
  },
  {
   "cell_type": "code",
   "execution_count": 110,
   "id": "7d291a8f-d348-475c-b6f2-b49630fdbb0c",
   "metadata": {},
   "outputs": [
    {
     "data": {
      "text/plain": [
       "[20, 3, 55, 67, 97]"
      ]
     },
     "execution_count": 110,
     "metadata": {},
     "output_type": "execute_result"
    }
   ],
   "source": [
    "Q=[20,3,55,67,97]\n",
    "Q"
   ]
  },
  {
   "cell_type": "code",
   "execution_count": 111,
   "id": "b109fec3-cc60-4c5b-82d7-f098d119ddd4",
   "metadata": {},
   "outputs": [
    {
     "data": {
      "text/plain": [
       "[3, 20, 55, 67, 97]"
      ]
     },
     "execution_count": 111,
     "metadata": {},
     "output_type": "execute_result"
    }
   ],
   "source": [
    "Q.sort()\n",
    "Q"
   ]
  },
  {
   "cell_type": "code",
   "execution_count": 112,
   "id": "52cac310-3d45-4b75-ba0c-4d40eb978295",
   "metadata": {},
   "outputs": [],
   "source": [
    "Q.clear()"
   ]
  },
  {
   "cell_type": "code",
   "execution_count": 113,
   "id": "a7c0a631-ff62-40c5-ac39-01da4bfd384d",
   "metadata": {},
   "outputs": [
    {
     "data": {
      "text/plain": [
       "[]"
      ]
     },
     "execution_count": 113,
     "metadata": {},
     "output_type": "execute_result"
    }
   ],
   "source": [
    "Q"
   ]
  },
  {
   "cell_type": "code",
   "execution_count": 114,
   "id": "ff138ec6-9807-4ea7-976e-ceb02a9635fe",
   "metadata": {},
   "outputs": [],
   "source": [
    "del l1"
   ]
  },
  {
   "cell_type": "code",
   "execution_count": 115,
   "id": "11ce0b70-e0a5-4528-9c58-5cf584de49e5",
   "metadata": {},
   "outputs": [
    {
     "ename": "NameError",
     "evalue": "name 'l1' is not defined",
     "output_type": "error",
     "traceback": [
      "\u001b[0;31m---------------------------------------------------------------------------\u001b[0m",
      "\u001b[0;31mNameError\u001b[0m                                 Traceback (most recent call last)",
      "Cell \u001b[0;32mIn[115], line 1\u001b[0m\n\u001b[0;32m----> 1\u001b[0m l1\n",
      "\u001b[0;31mNameError\u001b[0m: name 'l1' is not defined"
     ]
    }
   ],
   "source": [
    "l1"
   ]
  },
  {
   "cell_type": "markdown",
   "id": "f96ca261-78d5-446c-a211-5583f4ebcac1",
   "metadata": {},
   "source": [
    "# tuples"
   ]
  },
  {
   "cell_type": "code",
   "execution_count": 144,
   "id": "cb6c8c86-3e43-4522-b971-c88fddb12561",
   "metadata": {},
   "outputs": [
    {
     "data": {
      "text/plain": [
       "()"
      ]
     },
     "execution_count": 144,
     "metadata": {},
     "output_type": "execute_result"
    }
   ],
   "source": [
    "t=()\n",
    "t"
   ]
  },
  {
   "cell_type": "code",
   "execution_count": 146,
   "id": "c9878217-8763-45ec-952f-abc4b083ec74",
   "metadata": {},
   "outputs": [
    {
     "data": {
      "text/plain": [
       "tuple"
      ]
     },
     "execution_count": 146,
     "metadata": {},
     "output_type": "execute_result"
    }
   ],
   "source": [
    "type(t)"
   ]
  },
  {
   "cell_type": "code",
   "execution_count": 148,
   "id": "177e98a1-5bf7-4f13-a958-b5f39ce3ea87",
   "metadata": {},
   "outputs": [
    {
     "data": {
      "text/plain": [
       "(10, 20, 30)"
      ]
     },
     "execution_count": 148,
     "metadata": {},
     "output_type": "execute_result"
    }
   ],
   "source": [
    "t=(10,20,30)\n",
    "t"
   ]
  },
  {
   "cell_type": "code",
   "execution_count": 150,
   "id": "d3935cfa-54c1-4cf6-9eef-eef48ca585eb",
   "metadata": {},
   "outputs": [
    {
     "data": {
      "text/plain": [
       "3"
      ]
     },
     "execution_count": 150,
     "metadata": {},
     "output_type": "execute_result"
    }
   ],
   "source": [
    "len(t)"
   ]
  },
  {
   "cell_type": "code",
   "execution_count": 152,
   "id": "70fbcf03-f105-4e2c-817b-e58039c27617",
   "metadata": {},
   "outputs": [
    {
     "data": {
      "text/plain": [
       "10"
      ]
     },
     "execution_count": 152,
     "metadata": {},
     "output_type": "execute_result"
    }
   ],
   "source": [
    "t[0]"
   ]
  },
  {
   "cell_type": "code",
   "execution_count": 154,
   "id": "a02b2459-55a7-4707-bbfc-a2e6ca8de35a",
   "metadata": {},
   "outputs": [
    {
     "data": {
      "text/plain": [
       "20"
      ]
     },
     "execution_count": 154,
     "metadata": {},
     "output_type": "execute_result"
    }
   ],
   "source": [
    "t[1]"
   ]
  },
  {
   "cell_type": "code",
   "execution_count": 156,
   "id": "b7e2c478-8c54-4122-8a47-75e0ed4ac31b",
   "metadata": {},
   "outputs": [
    {
     "data": {
      "text/plain": [
       "30"
      ]
     },
     "execution_count": 156,
     "metadata": {},
     "output_type": "execute_result"
    }
   ],
   "source": [
    "t[2]"
   ]
  },
  {
   "cell_type": "code",
   "execution_count": 158,
   "id": "ae8d5fb1-15a5-48da-a528-0a90976238d1",
   "metadata": {},
   "outputs": [
    {
     "ename": "TypeError",
     "evalue": "'tuple' object does not support item assignment",
     "output_type": "error",
     "traceback": [
      "\u001b[0;31m---------------------------------------------------------------------------\u001b[0m",
      "\u001b[0;31mTypeError\u001b[0m                                 Traceback (most recent call last)",
      "Cell \u001b[0;32mIn[158], line 1\u001b[0m\n\u001b[0;32m----> 1\u001b[0m t[\u001b[38;5;241m2\u001b[39m]\u001b[38;5;241m=\u001b[39m\u001b[38;5;241m50\u001b[39m\n",
      "\u001b[0;31mTypeError\u001b[0m: 'tuple' object does not support item assignment"
     ]
    }
   ],
   "source": [
    "t[2]=50    #cannot change(immutable)"
   ]
  },
  {
   "cell_type": "code",
   "execution_count": 160,
   "id": "58e60e66-526c-45cc-9a01-b6ed7963709b",
   "metadata": {},
   "outputs": [
    {
     "data": {
      "text/plain": [
       "(10, 20, 30, 30, 30, 40, 50, 50)"
      ]
     },
     "execution_count": 160,
     "metadata": {},
     "output_type": "execute_result"
    }
   ],
   "source": [
    "t=(10,20,30,30,30,40,50,50)\n",
    "t"
   ]
  },
  {
   "cell_type": "code",
   "execution_count": 162,
   "id": "0bc4cb38-d118-491a-b79f-7986039a7614",
   "metadata": {},
   "outputs": [
    {
     "data": {
      "text/plain": [
       "3"
      ]
     },
     "execution_count": 162,
     "metadata": {},
     "output_type": "execute_result"
    }
   ],
   "source": [
    "t.count(30)"
   ]
  },
  {
   "cell_type": "code",
   "execution_count": 163,
   "id": "3ac068a4-2858-454f-940e-b5d460e7e08c",
   "metadata": {},
   "outputs": [
    {
     "data": {
      "text/plain": [
       "1"
      ]
     },
     "execution_count": 163,
     "metadata": {},
     "output_type": "execute_result"
    }
   ],
   "source": [
    "t.count(20)"
   ]
  },
  {
   "cell_type": "markdown",
   "id": "db44a181-6f2c-494b-8710-f564ad6d5a71",
   "metadata": {},
   "source": [
    "# set"
   ]
  },
  {
   "cell_type": "code",
   "execution_count": 167,
   "id": "589b2afb-5992-4493-909e-1de5e008f0f5",
   "metadata": {},
   "outputs": [
    {
     "data": {
      "text/plain": [
       "{}"
      ]
     },
     "execution_count": 167,
     "metadata": {},
     "output_type": "execute_result"
    }
   ],
   "source": [
    "s={}\n",
    "s"
   ]
  },
  {
   "cell_type": "code",
   "execution_count": 169,
   "id": "1f88bbb6-5d19-4970-8a2d-e13ad864d1a6",
   "metadata": {},
   "outputs": [
    {
     "data": {
      "text/plain": [
       "dict"
      ]
     },
     "execution_count": 169,
     "metadata": {},
     "output_type": "execute_result"
    }
   ],
   "source": [
    "type(s)"
   ]
  },
  {
   "cell_type": "code",
   "execution_count": 170,
   "id": "7a84924a-34cf-43d6-8780-8f78dd7b7d05",
   "metadata": {},
   "outputs": [
    {
     "data": {
      "text/plain": [
       "set()"
      ]
     },
     "execution_count": 170,
     "metadata": {},
     "output_type": "execute_result"
    }
   ],
   "source": [
    "s = set()\n",
    "s"
   ]
  },
  {
   "cell_type": "code",
   "execution_count": 173,
   "id": "98dabfd6-51f0-4d59-b805-48d5674f758c",
   "metadata": {},
   "outputs": [
    {
     "data": {
      "text/plain": [
       "set"
      ]
     },
     "execution_count": 173,
     "metadata": {},
     "output_type": "execute_result"
    }
   ],
   "source": [
    "type(s)"
   ]
  },
  {
   "cell_type": "code",
   "execution_count": 174,
   "id": "82c969c3-f31b-4954-9e9c-2c885e3028f9",
   "metadata": {},
   "outputs": [
    {
     "data": {
      "text/plain": [
       "{1, 2, 3, 4, 5, 6, 7, 8, 9}"
      ]
     },
     "execution_count": 174,
     "metadata": {},
     "output_type": "execute_result"
    }
   ],
   "source": [
    "s={1,2,3,4,5,6,7,8,9}\n",
    "s"
   ]
  },
  {
   "cell_type": "code",
   "execution_count": 176,
   "id": "8a6b33fa-7ab9-43b4-8817-31f647387482",
   "metadata": {},
   "outputs": [
    {
     "data": {
      "text/plain": [
       "{1, 2, 3, 4, 5, 6, 7, 8, 9}"
      ]
     },
     "execution_count": 176,
     "metadata": {},
     "output_type": "execute_result"
    }
   ],
   "source": [
    "s"
   ]
  },
  {
   "cell_type": "code",
   "execution_count": 178,
   "id": "20c6e111-73f4-4df4-a94f-d5788e759730",
   "metadata": {},
   "outputs": [],
   "source": [
    "s.add('swim')"
   ]
  },
  {
   "cell_type": "code",
   "execution_count": 180,
   "id": "19f9a5a4-f0cb-4855-9839-220359aef7ab",
   "metadata": {},
   "outputs": [
    {
     "data": {
      "text/plain": [
       "{1, 2, 3, 4, 5, 6, 7, 8, 9, 'swim'}"
      ]
     },
     "execution_count": 180,
     "metadata": {},
     "output_type": "execute_result"
    }
   ],
   "source": [
    "s"
   ]
  },
  {
   "cell_type": "code",
   "execution_count": 181,
   "id": "b60a317e-232a-4617-ab80-717efb257dbb",
   "metadata": {},
   "outputs": [],
   "source": [
    "s.add(False)"
   ]
  },
  {
   "cell_type": "code",
   "execution_count": 185,
   "id": "4b5821d8-1222-48b2-98c3-77dc301f65e5",
   "metadata": {},
   "outputs": [
    {
     "data": {
      "text/plain": [
       "{1, 2, 3, 4, 5, 6, 7, 8, 9, False, 'swim'}"
      ]
     },
     "execution_count": 185,
     "metadata": {},
     "output_type": "execute_result"
    }
   ],
   "source": [
    "s"
   ]
  },
  {
   "cell_type": "code",
   "execution_count": 186,
   "id": "3013186f-3993-4e48-8219-34f16ac38952",
   "metadata": {},
   "outputs": [
    {
     "data": {
      "text/plain": [
       "{1, 2, 3, 4, 5, 6, 7, 8, 9, False, 'swim'}"
      ]
     },
     "execution_count": 186,
     "metadata": {},
     "output_type": "execute_result"
    }
   ],
   "source": [
    "s.copy()"
   ]
  },
  {
   "cell_type": "code",
   "execution_count": 187,
   "id": "5594be8e-fb3d-455b-a746-cf7e0575a183",
   "metadata": {},
   "outputs": [],
   "source": [
    "set=s.copy()"
   ]
  },
  {
   "cell_type": "code",
   "execution_count": 191,
   "id": "289f712b-ad81-4625-9b73-c5bb23038296",
   "metadata": {},
   "outputs": [
    {
     "data": {
      "text/plain": [
       "{1, 2, 3, 4, 5, 6, 7, 8, 9, False, 'swim'}"
      ]
     },
     "execution_count": 191,
     "metadata": {},
     "output_type": "execute_result"
    }
   ],
   "source": [
    "set"
   ]
  },
  {
   "cell_type": "code",
   "execution_count": 192,
   "id": "b1a3ce34-e126-4b28-acc2-82a60c2acca4",
   "metadata": {},
   "outputs": [
    {
     "data": {
      "text/plain": [
       "11"
      ]
     },
     "execution_count": 192,
     "metadata": {},
     "output_type": "execute_result"
    }
   ],
   "source": [
    "len(set)"
   ]
  },
  {
   "cell_type": "code",
   "execution_count": 193,
   "id": "6c510068-b24f-4d55-9b2e-751a41bcb9d4",
   "metadata": {},
   "outputs": [
    {
     "data": {
      "text/plain": [
       "False"
      ]
     },
     "execution_count": 193,
     "metadata": {},
     "output_type": "execute_result"
    }
   ],
   "source": [
    "set.pop()"
   ]
  },
  {
   "cell_type": "code",
   "execution_count": 196,
   "id": "9699b3d9-74bf-4221-b4a4-7ae4ae3224d2",
   "metadata": {},
   "outputs": [
    {
     "data": {
      "text/plain": [
       "{1, 2, 3, 4, 5, 6, 7, 8, 9, 'swim'}"
      ]
     },
     "execution_count": 196,
     "metadata": {},
     "output_type": "execute_result"
    }
   ],
   "source": [
    "set"
   ]
  },
  {
   "cell_type": "code",
   "execution_count": 198,
   "id": "ab2742d9-5be1-4bfd-9756-d6577cf7df80",
   "metadata": {},
   "outputs": [],
   "source": [
    "set.remove('swim')"
   ]
  },
  {
   "cell_type": "code",
   "execution_count": 201,
   "id": "8bb8d216-911b-4594-8641-9d1578ca10a4",
   "metadata": {},
   "outputs": [
    {
     "data": {
      "text/plain": [
       "{1, 2, 3, 4, 5, 6, 7, 8, 9}"
      ]
     },
     "execution_count": 201,
     "metadata": {},
     "output_type": "execute_result"
    }
   ],
   "source": [
    "set"
   ]
  },
  {
   "cell_type": "code",
   "execution_count": 202,
   "id": "fa380451-1e2d-43af-b546-c3245cfd0ad5",
   "metadata": {},
   "outputs": [
    {
     "data": {
      "text/plain": [
       "set"
      ]
     },
     "execution_count": 202,
     "metadata": {},
     "output_type": "execute_result"
    }
   ],
   "source": [
    "type(set)"
   ]
  },
  {
   "cell_type": "code",
   "execution_count": 204,
   "id": "959a3a4d-3232-4aa6-98a1-eebf9ca7080e",
   "metadata": {},
   "outputs": [],
   "source": [
    "a={1,2,3,4,5}\n",
    "b={4,5,6,7,8}\n",
    "c={7,8,9}"
   ]
  },
  {
   "cell_type": "code",
   "execution_count": 206,
   "id": "b243ac33-a60e-424e-beef-31284b492f80",
   "metadata": {},
   "outputs": [
    {
     "name": "stdout",
     "output_type": "stream",
     "text": [
      "{1, 2, 3, 4, 5}\n",
      "{4, 5, 6, 7, 8}\n",
      "{8, 9, 7}\n"
     ]
    }
   ],
   "source": [
    "print(a)\n",
    "print(b)\n",
    "print(c)"
   ]
  },
  {
   "cell_type": "code",
   "execution_count": 209,
   "id": "f297124e-c36b-4254-8859-d4c2f927dc50",
   "metadata": {},
   "outputs": [
    {
     "name": "stdout",
     "output_type": "stream",
     "text": [
      "<class 'set'>\n",
      "<class 'set'>\n",
      "<class 'set'>\n"
     ]
    }
   ],
   "source": [
    "print(type(a))\n",
    "print(type(b))\n",
    "print(type(c))"
   ]
  },
  {
   "cell_type": "code",
   "execution_count": 210,
   "id": "765062ae-01b8-444b-ad1f-2c9e5ae06215",
   "metadata": {},
   "outputs": [
    {
     "name": "stdout",
     "output_type": "stream",
     "text": [
      "{1, 2, 3, 4, 5}\n",
      "{4, 5, 6, 7, 8}\n",
      "{8, 9, 7}\n"
     ]
    }
   ],
   "source": [
    "print(a)\n",
    "print(b)\n",
    "print(c)"
   ]
  },
  {
   "cell_type": "code",
   "execution_count": 211,
   "id": "a2ab6963-02b7-4ed7-97ba-73837feb796f",
   "metadata": {},
   "outputs": [
    {
     "data": {
      "text/plain": [
       "{1, 2, 3, 4, 5, 6, 7, 8}"
      ]
     },
     "execution_count": 211,
     "metadata": {},
     "output_type": "execute_result"
    }
   ],
   "source": [
    "a.union(b)"
   ]
  },
  {
   "cell_type": "code",
   "execution_count": 214,
   "id": "33f573e6-9589-451d-a769-6dda5dbdd8cd",
   "metadata": {},
   "outputs": [
    {
     "data": {
      "text/plain": [
       "{4, 5, 6, 7, 8, 9}"
      ]
     },
     "execution_count": 214,
     "metadata": {},
     "output_type": "execute_result"
    }
   ],
   "source": [
    "b.union(c)"
   ]
  },
  {
   "cell_type": "code",
   "execution_count": 216,
   "id": "54cadbb2-ad4c-42d1-9eb3-127b3bfabece",
   "metadata": {},
   "outputs": [
    {
     "data": {
      "text/plain": [
       "{1, 2, 3, 4, 5, 7, 8, 9}"
      ]
     },
     "execution_count": 216,
     "metadata": {},
     "output_type": "execute_result"
    }
   ],
   "source": [
    "c.union(a)"
   ]
  },
  {
   "cell_type": "code",
   "execution_count": 219,
   "id": "aa87bca3-7a8e-4273-9781-487f5e85cd62",
   "metadata": {},
   "outputs": [
    {
     "data": {
      "text/plain": [
       "{1, 2, 3, 4, 5, 6, 7, 8}"
      ]
     },
     "execution_count": 219,
     "metadata": {},
     "output_type": "execute_result"
    }
   ],
   "source": [
    "a|b"
   ]
  },
  {
   "cell_type": "code",
   "execution_count": 220,
   "id": "5f82d41a-a268-466e-a7ce-92c89858aa49",
   "metadata": {},
   "outputs": [
    {
     "data": {
      "text/plain": [
       "{4, 5}"
      ]
     },
     "execution_count": 220,
     "metadata": {},
     "output_type": "execute_result"
    }
   ],
   "source": [
    "a.intersection(b)"
   ]
  },
  {
   "cell_type": "code",
   "execution_count": 221,
   "id": "d90fdc2b-f119-4485-ba0f-c7468ec5f7d6",
   "metadata": {},
   "outputs": [
    {
     "data": {
      "text/plain": [
       "{7, 8}"
      ]
     },
     "execution_count": 221,
     "metadata": {},
     "output_type": "execute_result"
    }
   ],
   "source": [
    "b.intersection(c)"
   ]
  },
  {
   "cell_type": "code",
   "execution_count": 225,
   "id": "cb4b4b8a-2d99-497b-bce1-6910c5144324",
   "metadata": {},
   "outputs": [
    {
     "data": {
      "text/plain": [
       "set()"
      ]
     },
     "execution_count": 225,
     "metadata": {},
     "output_type": "execute_result"
    }
   ],
   "source": [
    "c.intersection(a)"
   ]
  },
  {
   "cell_type": "code",
   "execution_count": 227,
   "id": "e7d51deb-876f-4194-aca0-f6af71fab281",
   "metadata": {},
   "outputs": [
    {
     "data": {
      "text/plain": [
       "{4, 5}"
      ]
     },
     "execution_count": 227,
     "metadata": {},
     "output_type": "execute_result"
    }
   ],
   "source": [
    "a&b"
   ]
  },
  {
   "cell_type": "code",
   "execution_count": 229,
   "id": "ac78fef4-03f1-4f60-9a30-f4869dc5a8cb",
   "metadata": {},
   "outputs": [
    {
     "data": {
      "text/plain": [
       "{1, 2, 3}"
      ]
     },
     "execution_count": 229,
     "metadata": {},
     "output_type": "execute_result"
    }
   ],
   "source": [
    "a.difference(b)"
   ]
  },
  {
   "cell_type": "code",
   "execution_count": 231,
   "id": "04693f8b-0fc2-477c-9f65-9d054bbece38",
   "metadata": {},
   "outputs": [
    {
     "data": {
      "text/plain": [
       "{4, 5, 6}"
      ]
     },
     "execution_count": 231,
     "metadata": {},
     "output_type": "execute_result"
    }
   ],
   "source": [
    "b.difference(c)"
   ]
  },
  {
   "cell_type": "code",
   "execution_count": 233,
   "id": "cdf73fb7-0483-4e13-82d5-03ff215e030e",
   "metadata": {},
   "outputs": [
    {
     "data": {
      "text/plain": [
       "{7, 8, 9}"
      ]
     },
     "execution_count": 233,
     "metadata": {},
     "output_type": "execute_result"
    }
   ],
   "source": [
    "c.difference(a)"
   ]
  },
  {
   "cell_type": "code",
   "execution_count": 235,
   "id": "795d6bd2-da07-4fe5-a791-c85cf19a7c26",
   "metadata": {},
   "outputs": [
    {
     "data": {
      "text/plain": [
       "{1, 2, 3}"
      ]
     },
     "execution_count": 235,
     "metadata": {},
     "output_type": "execute_result"
    }
   ],
   "source": [
    "a-b"
   ]
  },
  {
   "cell_type": "code",
   "execution_count": 237,
   "id": "44d084db-1407-4f1f-b1d7-7ac344ea409d",
   "metadata": {},
   "outputs": [
    {
     "data": {
      "text/plain": [
       "{1, 2, 3, 6, 7, 8}"
      ]
     },
     "execution_count": 237,
     "metadata": {},
     "output_type": "execute_result"
    }
   ],
   "source": [
    "a.symmetric_difference(b)"
   ]
  },
  {
   "cell_type": "code",
   "execution_count": 239,
   "id": "484bd88a-503d-45cd-a13a-37174395823b",
   "metadata": {},
   "outputs": [
    {
     "data": {
      "text/plain": [
       "{4, 5, 6, 9}"
      ]
     },
     "execution_count": 239,
     "metadata": {},
     "output_type": "execute_result"
    }
   ],
   "source": [
    "b.symmetric_difference(c)"
   ]
  },
  {
   "cell_type": "code",
   "execution_count": 241,
   "id": "f5fc34f9-9fcb-46e3-ad7e-16a9940fbb03",
   "metadata": {},
   "outputs": [
    {
     "data": {
      "text/plain": [
       "{1, 2, 3, 4, 5, 7, 8, 9}"
      ]
     },
     "execution_count": 241,
     "metadata": {},
     "output_type": "execute_result"
    }
   ],
   "source": [
    "c.symmetric_difference(a)"
   ]
  },
  {
   "cell_type": "code",
   "execution_count": 243,
   "id": "97cfdbb2-3bdc-4136-9778-07ec3f043588",
   "metadata": {},
   "outputs": [
    {
     "data": {
      "text/plain": [
       "{1, 2, 3, 6, 7, 8}"
      ]
     },
     "execution_count": 243,
     "metadata": {},
     "output_type": "execute_result"
    }
   ],
   "source": [
    "a^b"
   ]
  },
  {
   "cell_type": "code",
   "execution_count": 245,
   "id": "06e56454-1be5-4ff5-b690-d954d6a54f82",
   "metadata": {},
   "outputs": [
    {
     "data": {
      "text/plain": [
       "{1, 2, 3, 6, 7, 8}"
      ]
     },
     "execution_count": 245,
     "metadata": {},
     "output_type": "execute_result"
    }
   ],
   "source": [
    "a.symmetric_difference_update(b)\n",
    "a"
   ]
  },
  {
   "cell_type": "code",
   "execution_count": 247,
   "id": "662cd16a-b437-485b-a543-418007e7fb56",
   "metadata": {},
   "outputs": [
    {
     "data": {
      "text/plain": [
       "{4, 5, 6, 9}"
      ]
     },
     "execution_count": 247,
     "metadata": {},
     "output_type": "execute_result"
    }
   ],
   "source": [
    "b.symmetric_difference_update(c)\n",
    "b"
   ]
  },
  {
   "cell_type": "code",
   "execution_count": 249,
   "id": "742768ad-276f-4ad8-a1c3-a786c77c929f",
   "metadata": {},
   "outputs": [
    {
     "data": {
      "text/plain": [
       "{1, 2, 3, 6, 9}"
      ]
     },
     "execution_count": 249,
     "metadata": {},
     "output_type": "execute_result"
    }
   ],
   "source": [
    "c.symmetric_difference_update(a)\n",
    "c"
   ]
  },
  {
   "cell_type": "code",
   "execution_count": 250,
   "id": "ae93a8b5-6be4-48d8-88d2-9201b332c0ea",
   "metadata": {},
   "outputs": [],
   "source": [
    "A={1,2,3,4,5,6,7,8,9}\n",
    "B={2,4,6,8}\n",
    "C={10,20,30}"
   ]
  },
  {
   "cell_type": "code",
   "execution_count": 251,
   "id": "9f220b9c-0397-4278-97fe-da1ce2177198",
   "metadata": {},
   "outputs": [
    {
     "name": "stdout",
     "output_type": "stream",
     "text": [
      "{1, 2, 3, 4, 5, 6, 7, 8, 9}\n",
      "{8, 2, 4, 6}\n",
      "{10, 20, 30}\n"
     ]
    }
   ],
   "source": [
    "print(A)\n",
    "print(B)\n",
    "print(C)"
   ]
  },
  {
   "cell_type": "code",
   "execution_count": 252,
   "id": "7376d651-4ee2-4642-a3f8-b699b9feeff3",
   "metadata": {},
   "outputs": [
    {
     "data": {
      "text/plain": [
       "True"
      ]
     },
     "execution_count": 252,
     "metadata": {},
     "output_type": "execute_result"
    }
   ],
   "source": [
    "A.issuperset(B)"
   ]
  },
  {
   "cell_type": "code",
   "execution_count": 253,
   "id": "f53999f8-ddd3-4d48-b827-8aedccd0f192",
   "metadata": {},
   "outputs": [
    {
     "data": {
      "text/plain": [
       "True"
      ]
     },
     "execution_count": 253,
     "metadata": {},
     "output_type": "execute_result"
    }
   ],
   "source": [
    "B.issubset(A)"
   ]
  },
  {
   "cell_type": "code",
   "execution_count": 254,
   "id": "95241b0e-951e-4ee2-bfa4-9c0ed327aa18",
   "metadata": {},
   "outputs": [
    {
     "data": {
      "text/plain": [
       "True"
      ]
     },
     "execution_count": 254,
     "metadata": {},
     "output_type": "execute_result"
    }
   ],
   "source": [
    "C.isdisjoint(A)"
   ]
  },
  {
   "cell_type": "code",
   "execution_count": 255,
   "id": "db94f0ba-b11f-4f23-badd-e579a65a172e",
   "metadata": {},
   "outputs": [
    {
     "data": {
      "text/plain": [
       "True"
      ]
     },
     "execution_count": 255,
     "metadata": {},
     "output_type": "execute_result"
    }
   ],
   "source": [
    "C.isdisjoint(B)"
   ]
  },
  {
   "cell_type": "code",
   "execution_count": 256,
   "id": "14ed685b-bccc-4732-8da6-768f18d308b4",
   "metadata": {},
   "outputs": [],
   "source": [
    "A.clear()"
   ]
  },
  {
   "cell_type": "code",
   "execution_count": 265,
   "id": "16af9b86-1264-453f-b141-7af44b300c88",
   "metadata": {},
   "outputs": [
    {
     "data": {
      "text/plain": [
       "set()"
      ]
     },
     "execution_count": 265,
     "metadata": {},
     "output_type": "execute_result"
    }
   ],
   "source": [
    "A"
   ]
  },
  {
   "cell_type": "code",
   "execution_count": 267,
   "id": "6bf257c3-ba78-43f1-ada3-7bfe5b5a7077",
   "metadata": {},
   "outputs": [],
   "source": [
    "del A"
   ]
  },
  {
   "cell_type": "code",
   "execution_count": 269,
   "id": "0bcd8d60-621d-4d22-b096-08b8186b30b5",
   "metadata": {},
   "outputs": [
    {
     "ename": "NameError",
     "evalue": "name 'A' is not defined",
     "output_type": "error",
     "traceback": [
      "\u001b[0;31m---------------------------------------------------------------------------\u001b[0m",
      "\u001b[0;31mNameError\u001b[0m                                 Traceback (most recent call last)",
      "Cell \u001b[0;32mIn[269], line 1\u001b[0m\n\u001b[0;32m----> 1\u001b[0m A\n",
      "\u001b[0;31mNameError\u001b[0m: name 'A' is not defined"
     ]
    }
   ],
   "source": [
    "A"
   ]
  },
  {
   "cell_type": "markdown",
   "id": "f68cd686-744e-48c6-ad91-a76d741bb8fc",
   "metadata": {},
   "source": [
    "# dictionary"
   ]
  },
  {
   "cell_type": "code",
   "execution_count": 272,
   "id": "8a54103f-b120-494e-b680-96f0abab3097",
   "metadata": {},
   "outputs": [
    {
     "data": {
      "text/plain": [
       "{}"
      ]
     },
     "execution_count": 272,
     "metadata": {},
     "output_type": "execute_result"
    }
   ],
   "source": [
    "dict={}\n",
    "dict"
   ]
  },
  {
   "cell_type": "code",
   "execution_count": 274,
   "id": "5ae8846b-d3e6-42a6-8f28-0aeb1d811dd9",
   "metadata": {},
   "outputs": [
    {
     "data": {
      "text/plain": [
       "dict"
      ]
     },
     "execution_count": 274,
     "metadata": {},
     "output_type": "execute_result"
    }
   ],
   "source": [
    "type(dict)"
   ]
  },
  {
   "cell_type": "code",
   "execution_count": 276,
   "id": "57772e38-3e6a-4ce7-a205-b5e5b7642d1e",
   "metadata": {},
   "outputs": [
    {
     "data": {
      "text/plain": [
       "{1: 'abby', 2: 'johnson', 3: 'kristin'}"
      ]
     },
     "execution_count": 276,
     "metadata": {},
     "output_type": "execute_result"
    }
   ],
   "source": [
    "dict={1:'abby',2:'johnson',3:'kristin'}\n",
    "dict"
   ]
  },
  {
   "cell_type": "code",
   "execution_count": 278,
   "id": "cc1cdb8c-64e3-41b8-87e3-b7f17f06733f",
   "metadata": {},
   "outputs": [
    {
     "data": {
      "text/plain": [
       "'abby'"
      ]
     },
     "execution_count": 278,
     "metadata": {},
     "output_type": "execute_result"
    }
   ],
   "source": [
    "dict[1]"
   ]
  },
  {
   "cell_type": "code",
   "execution_count": 280,
   "id": "0df71fae-effa-417f-a600-402a18c185f8",
   "metadata": {},
   "outputs": [
    {
     "data": {
      "text/plain": [
       "'kristin'"
      ]
     },
     "execution_count": 280,
     "metadata": {},
     "output_type": "execute_result"
    }
   ],
   "source": [
    "dict[3]"
   ]
  },
  {
   "cell_type": "code",
   "execution_count": 282,
   "id": "0bd6518a-d297-43da-83d4-38bb8bdfe93d",
   "metadata": {},
   "outputs": [
    {
     "data": {
      "text/plain": [
       "'johnson'"
      ]
     },
     "execution_count": 282,
     "metadata": {},
     "output_type": "execute_result"
    }
   ],
   "source": [
    "dict.get(2)"
   ]
  },
  {
   "cell_type": "code",
   "execution_count": 284,
   "id": "db0afdca-a3e9-4769-9890-947fa4aa7663",
   "metadata": {},
   "outputs": [
    {
     "data": {
      "text/plain": [
       "'abby'"
      ]
     },
     "execution_count": 284,
     "metadata": {},
     "output_type": "execute_result"
    }
   ],
   "source": [
    "dict.get(1)"
   ]
  },
  {
   "cell_type": "code",
   "execution_count": 286,
   "id": "daa06b78-88e9-4922-b050-b6e1c5826b30",
   "metadata": {},
   "outputs": [
    {
     "data": {
      "text/plain": [
       "dict_keys([1, 2, 3])"
      ]
     },
     "execution_count": 286,
     "metadata": {},
     "output_type": "execute_result"
    }
   ],
   "source": [
    "dict.keys()"
   ]
  },
  {
   "cell_type": "code",
   "execution_count": 288,
   "id": "a1a36426-c936-455b-ad92-2fd0e6008ade",
   "metadata": {},
   "outputs": [
    {
     "data": {
      "text/plain": [
       "dict_values(['abby', 'johnson', 'kristin'])"
      ]
     },
     "execution_count": 288,
     "metadata": {},
     "output_type": "execute_result"
    }
   ],
   "source": [
    "dict.values()"
   ]
  },
  {
   "cell_type": "code",
   "execution_count": 289,
   "id": "cea170ba-1804-4c1b-9f7a-3e14a87711a4",
   "metadata": {},
   "outputs": [
    {
     "data": {
      "text/plain": [
       "'johnson'"
      ]
     },
     "execution_count": 289,
     "metadata": {},
     "output_type": "execute_result"
    }
   ],
   "source": [
    "dict.pop(2)"
   ]
  },
  {
   "cell_type": "code",
   "execution_count": 292,
   "id": "cd8e6528-1d43-4584-8468-75a3cdd56b24",
   "metadata": {},
   "outputs": [
    {
     "data": {
      "text/plain": [
       "{1: 'abby', 3: 'kristin'}"
      ]
     },
     "execution_count": 292,
     "metadata": {},
     "output_type": "execute_result"
    }
   ],
   "source": [
    "dict"
   ]
  },
  {
   "cell_type": "code",
   "execution_count": 294,
   "id": "95dfe80a-aec7-4f2f-816d-e070a0d57581",
   "metadata": {},
   "outputs": [
    {
     "data": {
      "text/plain": [
       "(3, 'kristin')"
      ]
     },
     "execution_count": 294,
     "metadata": {},
     "output_type": "execute_result"
    }
   ],
   "source": [
    "dict.popitem()"
   ]
  },
  {
   "cell_type": "code",
   "execution_count": 296,
   "id": "8e4636b6-9a23-44de-91e2-70fd14744fd0",
   "metadata": {},
   "outputs": [
    {
     "data": {
      "text/plain": [
       "{1: 'abby'}"
      ]
     },
     "execution_count": 296,
     "metadata": {},
     "output_type": "execute_result"
    }
   ],
   "source": [
    "dict"
   ]
  },
  {
   "cell_type": "code",
   "execution_count": 298,
   "id": "a5fa1bc1-4ff3-4859-b0c0-76b581cd4352",
   "metadata": {},
   "outputs": [],
   "source": [
    "\n",
    "prog = {'python':['vscode', 'pycharm'], 'machine learning' : 'sklearn', 'datascience':['jupyter','spyder'] }"
   ]
  },
  {
   "cell_type": "code",
   "execution_count": 300,
   "id": "9f1bdeec-d632-4932-9779-923c86fc3030",
   "metadata": {},
   "outputs": [
    {
     "data": {
      "text/plain": [
       "{'python': ['vscode', 'pycharm'],\n",
       " 'machine learning': 'sklearn',\n",
       " 'datascience': ['jupyter', 'spyder']}"
      ]
     },
     "execution_count": 300,
     "metadata": {},
     "output_type": "execute_result"
    }
   ],
   "source": [
    "prog"
   ]
  },
  {
   "cell_type": "code",
   "execution_count": 302,
   "id": "f0809977-989e-45ea-9189-36455bcd9735",
   "metadata": {},
   "outputs": [
    {
     "data": {
      "text/plain": [
       "['vscode', 'pycharm']"
      ]
     },
     "execution_count": 302,
     "metadata": {},
     "output_type": "execute_result"
    }
   ],
   "source": [
    "prog['python']"
   ]
  },
  {
   "cell_type": "code",
   "execution_count": 304,
   "id": "424193d7-2c46-4ba5-af54-b4554a66b944",
   "metadata": {},
   "outputs": [],
   "source": [
    "del prog"
   ]
  },
  {
   "cell_type": "markdown",
   "id": "b8d8d4bc-59b3-4c60-80ef-cefed48b5353",
   "metadata": {},
   "source": [
    "# to find help"
   ]
  },
  {
   "cell_type": "code",
   "execution_count": 307,
   "id": "83922c40-5f5c-417e-812a-f54bc7f7a256",
   "metadata": {},
   "outputs": [
    {
     "name": "stdout",
     "output_type": "stream",
     "text": [
      "Welcome to Python 3.12's help utility! If this is your first time using\n",
      "Python, you should definitely check out the tutorial at\n",
      "https://docs.python.org/3.12/tutorial/.\n",
      "\n",
      "Enter the name of any module, keyword, or topic to get help on writing\n",
      "Python programs and using Python modules.  To get a list of available\n",
      "modules, keywords, symbols, or topics, enter \"modules\", \"keywords\",\n",
      "\"symbols\", or \"topics\".\n",
      "\n",
      "Each module also comes with a one-line summary of what it does; to list\n",
      "the modules whose name or summary contain a given string such as \"spam\",\n",
      "enter \"modules spam\".\n",
      "\n",
      "To quit this help utility and return to the interpreter,\n",
      "enter \"q\" or \"quit\".\n",
      "\n"
     ]
    },
    {
     "name": "stdin",
     "output_type": "stream",
     "text": [
      "help>  list\n"
     ]
    },
    {
     "name": "stdout",
     "output_type": "stream",
     "text": [
      "Help on class list in module builtins:\n",
      "\n",
      "class list(object)\n",
      " |  list(iterable=(), /)\n",
      " |\n",
      " |  Built-in mutable sequence.\n",
      " |\n",
      " |  If no argument is given, the constructor creates a new empty list.\n",
      " |  The argument must be an iterable if specified.\n",
      " |\n",
      " |  Methods defined here:\n",
      " |\n",
      " |  __add__(self, value, /)\n",
      " |      Return self+value.\n",
      " |\n",
      " |  __contains__(self, key, /)\n",
      " |      Return bool(key in self).\n",
      " |\n",
      " |  __delitem__(self, key, /)\n",
      " |      Delete self[key].\n",
      " |\n",
      " |  __eq__(self, value, /)\n",
      " |      Return self==value.\n",
      " |\n",
      " |  __ge__(self, value, /)\n",
      " |      Return self>=value.\n",
      " |\n",
      " |  __getattribute__(self, name, /)\n",
      " |      Return getattr(self, name).\n",
      " |\n",
      " |  __getitem__(self, index, /)\n",
      " |      Return self[index].\n",
      " |\n",
      " |  __gt__(self, value, /)\n",
      " |      Return self>value.\n",
      " |\n",
      " |  __iadd__(self, value, /)\n",
      " |      Implement self+=value.\n",
      " |\n",
      " |  __imul__(self, value, /)\n",
      " |      Implement self*=value.\n",
      " |\n",
      " |  __init__(self, /, *args, **kwargs)\n",
      " |      Initialize self.  See help(type(self)) for accurate signature.\n",
      " |\n",
      " |  __iter__(self, /)\n",
      " |      Implement iter(self).\n",
      " |\n",
      " |  __le__(self, value, /)\n",
      " |      Return self<=value.\n",
      " |\n",
      " |  __len__(self, /)\n",
      " |      Return len(self).\n",
      " |\n",
      " |  __lt__(self, value, /)\n",
      " |      Return self<value.\n",
      " |\n",
      " |  __mul__(self, value, /)\n",
      " |      Return self*value.\n",
      " |\n",
      " |  __ne__(self, value, /)\n",
      " |      Return self!=value.\n",
      " |\n",
      " |  __repr__(self, /)\n",
      " |      Return repr(self).\n",
      " |\n",
      " |  __reversed__(self, /)\n",
      " |      Return a reverse iterator over the list.\n",
      " |\n",
      " |  __rmul__(self, value, /)\n",
      " |      Return value*self.\n",
      " |\n",
      " |  __setitem__(self, key, value, /)\n",
      " |      Set self[key] to value.\n",
      " |\n",
      " |  __sizeof__(self, /)\n",
      " |      Return the size of the list in memory, in bytes.\n",
      " |\n",
      " |  append(self, object, /)\n",
      " |      Append object to the end of the list.\n",
      " |\n",
      " |  clear(self, /)\n",
      " |      Remove all items from list.\n",
      " |\n",
      " |  copy(self, /)\n",
      " |      Return a shallow copy of the list.\n",
      " |\n",
      " |  count(self, value, /)\n",
      " |      Return number of occurrences of value.\n",
      " |\n",
      " |  extend(self, iterable, /)\n",
      " |      Extend list by appending elements from the iterable.\n",
      " |\n",
      " |  index(self, value, start=0, stop=9223372036854775807, /)\n",
      " |      Return first index of value.\n",
      " |\n",
      " |      Raises ValueError if the value is not present.\n",
      " |\n",
      " |  insert(self, index, object, /)\n",
      " |      Insert object before index.\n",
      " |\n",
      " |  pop(self, index=-1, /)\n",
      " |      Remove and return item at index (default last).\n",
      " |\n",
      " |      Raises IndexError if list is empty or index is out of range.\n",
      " |\n",
      " |  remove(self, value, /)\n",
      " |      Remove first occurrence of value.\n",
      " |\n",
      " |      Raises ValueError if the value is not present.\n",
      " |\n",
      " |  reverse(self, /)\n",
      " |      Reverse *IN PLACE*.\n",
      " |\n",
      " |  sort(self, /, *, key=None, reverse=False)\n",
      " |      Sort the list in ascending order and return None.\n",
      " |\n",
      " |      The sort is in-place (i.e. the list itself is modified) and stable (i.e. the\n",
      " |      order of two equal elements is maintained).\n",
      " |\n",
      " |      If a key function is given, apply it once to each list item and sort them,\n",
      " |      ascending or descending, according to their function values.\n",
      " |\n",
      " |      The reverse flag can be set to sort in descending order.\n",
      " |\n",
      " |  ----------------------------------------------------------------------\n",
      " |  Class methods defined here:\n",
      " |\n",
      " |  __class_getitem__(...)\n",
      " |      See PEP 585\n",
      " |\n",
      " |  ----------------------------------------------------------------------\n",
      " |  Static methods defined here:\n",
      " |\n",
      " |  __new__(*args, **kwargs)\n",
      " |      Create and return a new object.  See help(type) for accurate signature.\n",
      " |\n",
      " |  ----------------------------------------------------------------------\n",
      " |  Data and other attributes defined here:\n",
      " |\n",
      " |  __hash__ = None\n",
      "\n"
     ]
    },
    {
     "name": "stdin",
     "output_type": "stream",
     "text": [
      "help>  tuple\n"
     ]
    },
    {
     "name": "stdout",
     "output_type": "stream",
     "text": [
      "Help on class tuple in module builtins:\n",
      "\n",
      "class tuple(object)\n",
      " |  tuple(iterable=(), /)\n",
      " |\n",
      " |  Built-in immutable sequence.\n",
      " |\n",
      " |  If no argument is given, the constructor returns an empty tuple.\n",
      " |  If iterable is specified the tuple is initialized from iterable's items.\n",
      " |\n",
      " |  If the argument is a tuple, the return value is the same object.\n",
      " |\n",
      " |  Built-in subclasses:\n",
      " |      asyncgen_hooks\n",
      " |      MonthDayNano\n",
      " |      UnraisableHookArgs\n",
      " |\n",
      " |  Methods defined here:\n",
      " |\n",
      " |  __add__(self, value, /)\n",
      " |      Return self+value.\n",
      " |\n",
      " |  __contains__(self, key, /)\n",
      " |      Return bool(key in self).\n",
      " |\n",
      " |  __eq__(self, value, /)\n",
      " |      Return self==value.\n",
      " |\n",
      " |  __ge__(self, value, /)\n",
      " |      Return self>=value.\n",
      " |\n",
      " |  __getattribute__(self, name, /)\n",
      " |      Return getattr(self, name).\n",
      " |\n",
      " |  __getitem__(self, key, /)\n",
      " |      Return self[key].\n",
      " |\n",
      " |  __getnewargs__(self, /)\n",
      " |\n",
      " |  __gt__(self, value, /)\n",
      " |      Return self>value.\n",
      " |\n",
      " |  __hash__(self, /)\n",
      " |      Return hash(self).\n",
      " |\n",
      " |  __iter__(self, /)\n",
      " |      Implement iter(self).\n",
      " |\n",
      " |  __le__(self, value, /)\n",
      " |      Return self<=value.\n",
      " |\n",
      " |  __len__(self, /)\n",
      " |      Return len(self).\n",
      " |\n",
      " |  __lt__(self, value, /)\n",
      " |      Return self<value.\n",
      " |\n",
      " |  __mul__(self, value, /)\n",
      " |      Return self*value.\n",
      " |\n",
      " |  __ne__(self, value, /)\n",
      " |      Return self!=value.\n",
      " |\n",
      " |  __repr__(self, /)\n",
      " |      Return repr(self).\n",
      " |\n",
      " |  __rmul__(self, value, /)\n",
      " |      Return value*self.\n",
      " |\n",
      " |  count(self, value, /)\n",
      " |      Return number of occurrences of value.\n",
      " |\n",
      " |  index(self, value, start=0, stop=9223372036854775807, /)\n",
      " |      Return first index of value.\n",
      " |\n",
      " |      Raises ValueError if the value is not present.\n",
      " |\n",
      " |  ----------------------------------------------------------------------\n",
      " |  Class methods defined here:\n",
      " |\n",
      " |  __class_getitem__(...)\n",
      " |      See PEP 585\n",
      " |\n",
      " |  ----------------------------------------------------------------------\n",
      " |  Static methods defined here:\n",
      " |\n",
      " |  __new__(*args, **kwargs)\n",
      " |      Create and return a new object.  See help(type) for accurate signature.\n",
      "\n"
     ]
    },
    {
     "name": "stdin",
     "output_type": "stream",
     "text": [
      "help>  q\n"
     ]
    },
    {
     "name": "stdout",
     "output_type": "stream",
     "text": [
      "\n",
      "You are now leaving help and returning to the Python interpreter.\n",
      "If you want to ask for help on a particular object directly from the\n",
      "interpreter, you can type \"help(object)\".  Executing \"help('string')\"\n",
      "has the same effect as typing a particular string at the help> prompt.\n"
     ]
    }
   ],
   "source": [
    "help()"
   ]
  },
  {
   "cell_type": "code",
   "execution_count": 309,
   "id": "0e1c424a-30c5-4af9-9356-d49269e23207",
   "metadata": {},
   "outputs": [
    {
     "name": "stdout",
     "output_type": "stream",
     "text": [
      "Help on dict object:\n",
      "\n",
      "class dict(object)\n",
      " |  dict() -> new empty dictionary\n",
      " |  dict(mapping) -> new dictionary initialized from a mapping object's\n",
      " |      (key, value) pairs\n",
      " |  dict(iterable) -> new dictionary initialized as if via:\n",
      " |      d = {}\n",
      " |      for k, v in iterable:\n",
      " |          d[k] = v\n",
      " |  dict(**kwargs) -> new dictionary initialized with the name=value pairs\n",
      " |      in the keyword argument list.  For example:  dict(one=1, two=2)\n",
      " |\n",
      " |  Built-in subclasses:\n",
      " |      StgDict\n",
      " |\n",
      " |  Methods defined here:\n",
      " |\n",
      " |  __contains__(self, key, /)\n",
      " |      True if the dictionary has the specified key, else False.\n",
      " |\n",
      " |  __delitem__(self, key, /)\n",
      " |      Delete self[key].\n",
      " |\n",
      " |  __eq__(self, value, /)\n",
      " |      Return self==value.\n",
      " |\n",
      " |  __ge__(self, value, /)\n",
      " |      Return self>=value.\n",
      " |\n",
      " |  __getattribute__(self, name, /)\n",
      " |      Return getattr(self, name).\n",
      " |\n",
      " |  __getitem__(self, key, /)\n",
      " |      Return self[key].\n",
      " |\n",
      " |  __gt__(self, value, /)\n",
      " |      Return self>value.\n",
      " |\n",
      " |  __init__(self, /, *args, **kwargs)\n",
      " |      Initialize self.  See help(type(self)) for accurate signature.\n",
      " |\n",
      " |  __ior__(self, value, /)\n",
      " |      Return self|=value.\n",
      " |\n",
      " |  __iter__(self, /)\n",
      " |      Implement iter(self).\n",
      " |\n",
      " |  __le__(self, value, /)\n",
      " |      Return self<=value.\n",
      " |\n",
      " |  __len__(self, /)\n",
      " |      Return len(self).\n",
      " |\n",
      " |  __lt__(self, value, /)\n",
      " |      Return self<value.\n",
      " |\n",
      " |  __ne__(self, value, /)\n",
      " |      Return self!=value.\n",
      " |\n",
      " |  __or__(self, value, /)\n",
      " |      Return self|value.\n",
      " |\n",
      " |  __repr__(self, /)\n",
      " |      Return repr(self).\n",
      " |\n",
      " |  __reversed__(self, /)\n",
      " |      Return a reverse iterator over the dict keys.\n",
      " |\n",
      " |  __ror__(self, value, /)\n",
      " |      Return value|self.\n",
      " |\n",
      " |  __setitem__(self, key, value, /)\n",
      " |      Set self[key] to value.\n",
      " |\n",
      " |  __sizeof__(...)\n",
      " |      D.__sizeof__() -> size of D in memory, in bytes\n",
      " |\n",
      " |  clear(...)\n",
      " |      D.clear() -> None.  Remove all items from D.\n",
      " |\n",
      " |  copy(...)\n",
      " |      D.copy() -> a shallow copy of D\n",
      " |\n",
      " |  get(self, key, default=None, /)\n",
      " |      Return the value for key if key is in the dictionary, else default.\n",
      " |\n",
      " |  items(...)\n",
      " |      D.items() -> a set-like object providing a view on D's items\n",
      " |\n",
      " |  keys(...)\n",
      " |      D.keys() -> a set-like object providing a view on D's keys\n",
      " |\n",
      " |  pop(...)\n",
      " |      D.pop(k[,d]) -> v, remove specified key and return the corresponding value.\n",
      " |\n",
      " |      If the key is not found, return the default if given; otherwise,\n",
      " |      raise a KeyError.\n",
      " |\n",
      " |  popitem(self, /)\n",
      " |      Remove and return a (key, value) pair as a 2-tuple.\n",
      " |\n",
      " |      Pairs are returned in LIFO (last-in, first-out) order.\n",
      " |      Raises KeyError if the dict is empty.\n",
      " |\n",
      " |  setdefault(self, key, default=None, /)\n",
      " |      Insert key with a value of default if key is not in the dictionary.\n",
      " |\n",
      " |      Return the value for key if key is in the dictionary, else default.\n",
      " |\n",
      " |  update(...)\n",
      " |      D.update([E, ]**F) -> None.  Update D from dict/iterable E and F.\n",
      " |      If E is present and has a .keys() method, then does:  for k in E: D[k] = E[k]\n",
      " |      If E is present and lacks a .keys() method, then does:  for k, v in E: D[k] = v\n",
      " |      In either case, this is followed by: for k in F:  D[k] = F[k]\n",
      " |\n",
      " |  values(...)\n",
      " |      D.values() -> an object providing a view on D's values\n",
      " |\n",
      " |  ----------------------------------------------------------------------\n",
      " |  Class methods defined here:\n",
      " |\n",
      " |  __class_getitem__(...)\n",
      " |      See PEP 585\n",
      " |\n",
      " |  fromkeys(iterable, value=None, /)\n",
      " |      Create a new dictionary with keys from iterable and values set to value.\n",
      " |\n",
      " |  ----------------------------------------------------------------------\n",
      " |  Static methods defined here:\n",
      " |\n",
      " |  __new__(*args, **kwargs)\n",
      " |      Create and return a new object.  See help(type) for accurate signature.\n",
      " |\n",
      " |  ----------------------------------------------------------------------\n",
      " |  Data and other attributes defined here:\n",
      " |\n",
      " |  __hash__ = None\n",
      "\n"
     ]
    }
   ],
   "source": [
    "help(dict)"
   ]
  },
  {
   "cell_type": "markdown",
   "id": "fb3c4a21-a131-4f64-8060-f639ae8695c3",
   "metadata": {},
   "source": [
    "# introduction to id"
   ]
  },
  {
   "cell_type": "code",
   "execution_count": 312,
   "id": "22416476-9b6f-4559-9d3c-972bb071eef9",
   "metadata": {},
   "outputs": [
    {
     "data": {
      "text/plain": [
       "5"
      ]
     },
     "execution_count": 312,
     "metadata": {},
     "output_type": "execute_result"
    }
   ],
   "source": [
    "name=5\n",
    "name"
   ]
  },
  {
   "cell_type": "code",
   "execution_count": 314,
   "id": "ea8e01d2-e8df-424d-a996-7d5e7068d767",
   "metadata": {},
   "outputs": [
    {
     "data": {
      "text/plain": [
       "4551206456"
      ]
     },
     "execution_count": 314,
     "metadata": {},
     "output_type": "execute_result"
    }
   ],
   "source": [
    "id(name)"
   ]
  },
  {
   "cell_type": "code",
   "execution_count": 316,
   "id": "6af6f3a5-862c-4dfc-b429-ddfddb5dcbcc",
   "metadata": {},
   "outputs": [],
   "source": [
    "game=name"
   ]
  },
  {
   "cell_type": "code",
   "execution_count": 318,
   "id": "7f5c89eb-29f3-4e06-a037-f08f424293ee",
   "metadata": {},
   "outputs": [
    {
     "data": {
      "text/plain": [
       "5"
      ]
     },
     "execution_count": 318,
     "metadata": {},
     "output_type": "execute_result"
    }
   ],
   "source": [
    "game"
   ]
  },
  {
   "cell_type": "code",
   "execution_count": 320,
   "id": "df377a76-3560-493c-9002-9aa0d18399b3",
   "metadata": {},
   "outputs": [
    {
     "data": {
      "text/plain": [
       "4551206456"
      ]
     },
     "execution_count": 320,
     "metadata": {},
     "output_type": "execute_result"
    }
   ],
   "source": [
    "id(game)"
   ]
  },
  {
   "cell_type": "code",
   "execution_count": 322,
   "id": "4bdbbd9f-caf5-4afd-8294-97a1a6da55e4",
   "metadata": {},
   "outputs": [
    {
     "data": {
      "text/plain": [
       "3.14"
      ]
     },
     "execution_count": 322,
     "metadata": {},
     "output_type": "execute_result"
    }
   ],
   "source": [
    "PI=3.14\n",
    "PI"
   ]
  },
  {
   "cell_type": "code",
   "execution_count": 324,
   "id": "0f7bf12d-4bc7-4463-a65f-7663c2ff0e1d",
   "metadata": {},
   "outputs": [
    {
     "data": {
      "text/plain": [
       "5081987408"
      ]
     },
     "execution_count": 324,
     "metadata": {},
     "output_type": "execute_result"
    }
   ],
   "source": [
    "id(PI)"
   ]
  },
  {
   "cell_type": "code",
   "execution_count": 326,
   "id": "7022ea63-e973-4433-9427-a754a3201934",
   "metadata": {},
   "outputs": [
    {
     "data": {
      "text/plain": [
       "3.15"
      ]
     },
     "execution_count": 326,
     "metadata": {},
     "output_type": "execute_result"
    }
   ],
   "source": [
    "PI=3.15\n",
    "PI"
   ]
  },
  {
   "cell_type": "code",
   "execution_count": 328,
   "id": "5a97b51f-4a9e-4944-882d-d6efd59222e2",
   "metadata": {},
   "outputs": [
    {
     "data": {
      "text/plain": [
       "4797513680"
      ]
     },
     "execution_count": 328,
     "metadata": {},
     "output_type": "execute_result"
    }
   ],
   "source": [
    "id(PI)"
   ]
  },
  {
   "cell_type": "code",
   "execution_count": 330,
   "id": "8d4e64ed-cfd8-4805-a5f7-77ae6289a1b9",
   "metadata": {},
   "outputs": [
    {
     "data": {
      "text/plain": [
       "float"
      ]
     },
     "execution_count": 330,
     "metadata": {},
     "output_type": "execute_result"
    }
   ],
   "source": [
    "type(PI)"
   ]
  },
  {
   "cell_type": "markdown",
   "id": "4c78d401-0e9c-4600-a17c-b17b6119ea1b",
   "metadata": {},
   "source": [
    "# data types"
   ]
  },
  {
   "cell_type": "code",
   "execution_count": 333,
   "id": "2a6bda83-5cf8-4b1d-a447-97466bc779ba",
   "metadata": {},
   "outputs": [
    {
     "data": {
      "text/plain": [
       "10"
      ]
     },
     "execution_count": 333,
     "metadata": {},
     "output_type": "execute_result"
    }
   ],
   "source": [
    "m=10\n",
    "m"
   ]
  },
  {
   "cell_type": "code",
   "execution_count": 334,
   "id": "1fbe6528-e76f-4a0d-8239-2c482f6f40e8",
   "metadata": {},
   "outputs": [
    {
     "data": {
      "text/plain": [
       "int"
      ]
     },
     "execution_count": 334,
     "metadata": {},
     "output_type": "execute_result"
    }
   ],
   "source": [
    "type(m)"
   ]
  },
  {
   "cell_type": "code",
   "execution_count": 336,
   "id": "df352f07-5d2e-42fd-a5a8-27052aa447d5",
   "metadata": {},
   "outputs": [
    {
     "data": {
      "text/plain": [
       "3.04"
      ]
     },
     "execution_count": 336,
     "metadata": {},
     "output_type": "execute_result"
    }
   ],
   "source": [
    "w=3.04\n",
    "w"
   ]
  },
  {
   "cell_type": "code",
   "execution_count": 339,
   "id": "f3251f28-5ae8-44f5-9877-43b1dac7d1d4",
   "metadata": {},
   "outputs": [
    {
     "data": {
      "text/plain": [
       "float"
      ]
     },
     "execution_count": 339,
     "metadata": {},
     "output_type": "execute_result"
    }
   ],
   "source": [
    "type(w)"
   ]
  },
  {
   "cell_type": "code",
   "execution_count": 340,
   "id": "3fdbd0ce-932f-48b3-9efb-040e185d89ec",
   "metadata": {},
   "outputs": [
    {
     "data": {
      "text/plain": [
       "'how'"
      ]
     },
     "execution_count": 340,
     "metadata": {},
     "output_type": "execute_result"
    }
   ],
   "source": [
    "h='how'\n",
    "h"
   ]
  },
  {
   "cell_type": "code",
   "execution_count": 341,
   "id": "f7107971-067f-46ec-8f04-5a699b901d30",
   "metadata": {},
   "outputs": [
    {
     "data": {
      "text/plain": [
       "str"
      ]
     },
     "execution_count": 341,
     "metadata": {},
     "output_type": "execute_result"
    }
   ],
   "source": [
    "type(h)"
   ]
  },
  {
   "cell_type": "code",
   "execution_count": 345,
   "id": "86dd4338-2066-4a51-909a-8629fbe6da95",
   "metadata": {},
   "outputs": [
    {
     "data": {
      "text/plain": [
       "(9+10j)"
      ]
     },
     "execution_count": 345,
     "metadata": {},
     "output_type": "execute_result"
    }
   ],
   "source": [
    "c=10j+9\n",
    "c"
   ]
  },
  {
   "cell_type": "code",
   "execution_count": 346,
   "id": "cd0c78cd-9d6d-42ee-90b8-8277ae7d0803",
   "metadata": {},
   "outputs": [
    {
     "data": {
      "text/plain": [
       "complex"
      ]
     },
     "execution_count": 346,
     "metadata": {},
     "output_type": "execute_result"
    }
   ],
   "source": [
    "type(c)"
   ]
  },
  {
   "cell_type": "code",
   "execution_count": 347,
   "id": "3cfdc1a0-2741-4ace-8b73-23ef0b63c56b",
   "metadata": {},
   "outputs": [
    {
     "data": {
      "text/plain": [
       "True"
      ]
     },
     "execution_count": 347,
     "metadata": {},
     "output_type": "execute_result"
    }
   ],
   "source": [
    "b=True\n",
    "b"
   ]
  },
  {
   "cell_type": "code",
   "execution_count": 351,
   "id": "12383016-b083-4e93-acfe-74c636a8abd2",
   "metadata": {},
   "outputs": [
    {
     "data": {
      "text/plain": [
       "bool"
      ]
     },
     "execution_count": 351,
     "metadata": {},
     "output_type": "execute_result"
    }
   ],
   "source": [
    "type(b)"
   ]
  },
  {
   "cell_type": "code",
   "execution_count": 352,
   "id": "fd83e3f4-a96e-4af2-9d65-577aa4969b69",
   "metadata": {},
   "outputs": [
    {
     "data": {
      "text/plain": [
       "3"
      ]
     },
     "execution_count": 352,
     "metadata": {},
     "output_type": "execute_result"
    }
   ],
   "source": [
    "int(w)"
   ]
  },
  {
   "cell_type": "code",
   "execution_count": 353,
   "id": "4386d6d6-3caa-4c76-a2df-303a37423088",
   "metadata": {},
   "outputs": [],
   "source": [
    "p=w"
   ]
  },
  {
   "cell_type": "code",
   "execution_count": 356,
   "id": "d4f99b38-bb2d-40dc-8b86-35a43ab021ad",
   "metadata": {},
   "outputs": [
    {
     "data": {
      "text/plain": [
       "3.04"
      ]
     },
     "execution_count": 356,
     "metadata": {},
     "output_type": "execute_result"
    }
   ],
   "source": [
    "p"
   ]
  },
  {
   "cell_type": "code",
   "execution_count": 358,
   "id": "71ffa5a3-1bf8-4678-9505-402aafdb7180",
   "metadata": {},
   "outputs": [],
   "source": [
    "p=complex(m,w)"
   ]
  },
  {
   "cell_type": "code",
   "execution_count": 361,
   "id": "89b1bbf5-2077-47dc-a65a-6f3adfdb6470",
   "metadata": {},
   "outputs": [
    {
     "data": {
      "text/plain": [
       "(10+3.04j)"
      ]
     },
     "execution_count": 361,
     "metadata": {},
     "output_type": "execute_result"
    }
   ],
   "source": [
    "p"
   ]
  },
  {
   "cell_type": "code",
   "execution_count": 362,
   "id": "a883128c-b6d2-4179-a221-8f978802cdd3",
   "metadata": {},
   "outputs": [
    {
     "data": {
      "text/plain": [
       "complex"
      ]
     },
     "execution_count": 362,
     "metadata": {},
     "output_type": "execute_result"
    }
   ],
   "source": [
    "type(p)"
   ]
  },
  {
   "cell_type": "code",
   "execution_count": 366,
   "id": "c4d6b414-1799-4083-9471-28d044b82903",
   "metadata": {},
   "outputs": [
    {
     "data": {
      "text/plain": [
       "3.04"
      ]
     },
     "execution_count": 366,
     "metadata": {},
     "output_type": "execute_result"
    }
   ],
   "source": [
    "w"
   ]
  },
  {
   "cell_type": "code",
   "execution_count": 369,
   "id": "445e276f-3d47-4ae6-b7e1-5f6bb9e7b46c",
   "metadata": {},
   "outputs": [
    {
     "data": {
      "text/plain": [
       "1"
      ]
     },
     "execution_count": 369,
     "metadata": {},
     "output_type": "execute_result"
    }
   ],
   "source": [
    "int(True)"
   ]
  },
  {
   "cell_type": "code",
   "execution_count": 371,
   "id": "f2e37e6f-f8d7-4d68-95da-2ee27c4810e9",
   "metadata": {},
   "outputs": [
    {
     "data": {
      "text/plain": [
       "1.0"
      ]
     },
     "execution_count": 371,
     "metadata": {},
     "output_type": "execute_result"
    }
   ],
   "source": [
    "float(True)"
   ]
  },
  {
   "cell_type": "code",
   "execution_count": 372,
   "id": "94559435-1ac8-4eae-891d-988000d4093a",
   "metadata": {},
   "outputs": [
    {
     "data": {
      "text/plain": [
       "'True'"
      ]
     },
     "execution_count": 372,
     "metadata": {},
     "output_type": "execute_result"
    }
   ],
   "source": [
    "str(True)"
   ]
  },
  {
   "cell_type": "code",
   "execution_count": 375,
   "id": "878e0bda-195c-49ed-b58d-ed0daa64a613",
   "metadata": {},
   "outputs": [
    {
     "data": {
      "text/plain": [
       "(1+0j)"
      ]
     },
     "execution_count": 375,
     "metadata": {},
     "output_type": "execute_result"
    }
   ],
   "source": [
    "complex(True)"
   ]
  },
  {
   "cell_type": "code",
   "execution_count": 378,
   "id": "3714490a-8c50-49a6-a105-ce9c2bcdc72c",
   "metadata": {},
   "outputs": [
    {
     "data": {
      "text/plain": [
       "True"
      ]
     },
     "execution_count": 378,
     "metadata": {},
     "output_type": "execute_result"
    }
   ],
   "source": [
    "bool(True)"
   ]
  },
  {
   "cell_type": "code",
   "execution_count": 380,
   "id": "213bbf5e-a641-428f-842a-a34ca3045a3e",
   "metadata": {},
   "outputs": [
    {
     "data": {
      "text/plain": [
       "0"
      ]
     },
     "execution_count": 380,
     "metadata": {},
     "output_type": "execute_result"
    }
   ],
   "source": [
    "int(False)"
   ]
  },
  {
   "cell_type": "code",
   "execution_count": 382,
   "id": "2f8dfc34-1c17-4830-86ce-3c936c348e99",
   "metadata": {},
   "outputs": [
    {
     "data": {
      "text/plain": [
       "0.0"
      ]
     },
     "execution_count": 382,
     "metadata": {},
     "output_type": "execute_result"
    }
   ],
   "source": [
    "float(False)"
   ]
  },
  {
   "cell_type": "code",
   "execution_count": 384,
   "id": "99f65acb-d0a0-4a46-bd1c-d930756d086a",
   "metadata": {},
   "outputs": [
    {
     "data": {
      "text/plain": [
       "'False'"
      ]
     },
     "execution_count": 384,
     "metadata": {},
     "output_type": "execute_result"
    }
   ],
   "source": [
    "str(False)"
   ]
  },
  {
   "cell_type": "code",
   "execution_count": 386,
   "id": "4a979fb4-68a8-4bff-8f2d-67e402a89385",
   "metadata": {},
   "outputs": [
    {
     "data": {
      "text/plain": [
       "0j"
      ]
     },
     "execution_count": 386,
     "metadata": {},
     "output_type": "execute_result"
    }
   ],
   "source": [
    "complex(False)"
   ]
  },
  {
   "cell_type": "code",
   "execution_count": 387,
   "id": "94727258-7327-4644-880f-0a6a141464d5",
   "metadata": {},
   "outputs": [
    {
     "data": {
      "text/plain": [
       "False"
      ]
     },
     "execution_count": 387,
     "metadata": {},
     "output_type": "execute_result"
    }
   ],
   "source": [
    "bool(False)"
   ]
  },
  {
   "cell_type": "code",
   "execution_count": 390,
   "id": "7da7f976-954d-4c8c-9014-9aef487c1d5e",
   "metadata": {},
   "outputs": [
    {
     "data": {
      "text/plain": [
       "[1, 2, 3]"
      ]
     },
     "execution_count": 390,
     "metadata": {},
     "output_type": "execute_result"
    }
   ],
   "source": [
    "l=[1,2,3]\n",
    "l"
   ]
  },
  {
   "cell_type": "code",
   "execution_count": 391,
   "id": "5e3866b4-4e7d-4a49-abe0-422993e97066",
   "metadata": {},
   "outputs": [
    {
     "data": {
      "text/plain": [
       "list"
      ]
     },
     "execution_count": 391,
     "metadata": {},
     "output_type": "execute_result"
    }
   ],
   "source": [
    "type(l)"
   ]
  },
  {
   "cell_type": "code",
   "execution_count": 394,
   "id": "c7add95a-1c1b-4078-82ea-a31233da7e01",
   "metadata": {},
   "outputs": [
    {
     "data": {
      "text/plain": [
       "(1, 2, 3)"
      ]
     },
     "execution_count": 394,
     "metadata": {},
     "output_type": "execute_result"
    }
   ],
   "source": [
    "t=(1,2,3)\n",
    "t"
   ]
  },
  {
   "cell_type": "code",
   "execution_count": 395,
   "id": "a9c352f4-bdcb-4802-977e-883e87a25c4e",
   "metadata": {},
   "outputs": [
    {
     "data": {
      "text/plain": [
       "tuple"
      ]
     },
     "execution_count": 395,
     "metadata": {},
     "output_type": "execute_result"
    }
   ],
   "source": [
    "type(t)"
   ]
  },
  {
   "cell_type": "code",
   "execution_count": 397,
   "id": "d35dffd0-6bb4-4e66-baba-06da583ed4ac",
   "metadata": {},
   "outputs": [
    {
     "data": {
      "text/plain": [
       "{1, 2, 3}"
      ]
     },
     "execution_count": 397,
     "metadata": {},
     "output_type": "execute_result"
    }
   ],
   "source": [
    "s={3,2,1}\n",
    "s"
   ]
  },
  {
   "cell_type": "code",
   "execution_count": 400,
   "id": "bf9538ef-3d6a-409e-83be-797cdd01f3b5",
   "metadata": {},
   "outputs": [
    {
     "data": {
      "text/plain": [
       "set"
      ]
     },
     "execution_count": 400,
     "metadata": {},
     "output_type": "execute_result"
    }
   ],
   "source": [
    "type(s)"
   ]
  },
  {
   "cell_type": "code",
   "execution_count": 402,
   "id": "65b6582e-bf13-4d56-b1e3-2fb700ea7186",
   "metadata": {},
   "outputs": [
    {
     "data": {
      "text/plain": [
       "{1: 'one'}"
      ]
     },
     "execution_count": 402,
     "metadata": {},
     "output_type": "execute_result"
    }
   ],
   "source": [
    "d={1:'one'}\n",
    "d"
   ]
  },
  {
   "cell_type": "code",
   "execution_count": 404,
   "id": "1a74463c-a695-4f79-a472-b924c99d2506",
   "metadata": {},
   "outputs": [
    {
     "data": {
      "text/plain": [
       "dict"
      ]
     },
     "execution_count": 404,
     "metadata": {},
     "output_type": "execute_result"
    }
   ],
   "source": [
    "type(d)"
   ]
  },
  {
   "cell_type": "markdown",
   "id": "20d9d7ae-cafd-4ff6-b7c2-c0618063d859",
   "metadata": {},
   "source": [
    "# range"
   ]
  },
  {
   "cell_type": "code",
   "execution_count": 426,
   "id": "f5859e06-4973-4dca-ab47-b931fc9364a3",
   "metadata": {},
   "outputs": [
    {
     "data": {
      "text/plain": [
       "range(0, 20)"
      ]
     },
     "execution_count": 426,
     "metadata": {},
     "output_type": "execute_result"
    }
   ],
   "source": [
    "range(20)\n"
   ]
  },
  {
   "cell_type": "code",
   "execution_count": 436,
   "id": "29ed4be3-5789-4948-ba4c-4eb655d5e327",
   "metadata": {},
   "outputs": [
    {
     "ename": "NameError",
     "evalue": "name 'list' is not defined",
     "output_type": "error",
     "traceback": [
      "\u001b[0;31m---------------------------------------------------------------------------\u001b[0m",
      "\u001b[0;31mNameError\u001b[0m                                 Traceback (most recent call last)",
      "Cell \u001b[0;32mIn[436], line 1\u001b[0m\n\u001b[0;32m----> 1\u001b[0m \u001b[38;5;28;01mdel\u001b[39;00m \u001b[38;5;28mlist\u001b[39m\n",
      "\u001b[0;31mNameError\u001b[0m: name 'list' is not defined"
     ]
    }
   ],
   "source": [
    "del list"
   ]
  },
  {
   "cell_type": "code",
   "execution_count": 440,
   "id": "8e67e05b-c460-49ba-9411-85d5c5317294",
   "metadata": {},
   "outputs": [
    {
     "data": {
      "text/plain": [
       "[0, 1, 2, 3, 4, 5, 6, 7, 8, 9, 10, 11, 12, 13, 14, 15, 16, 17, 18, 19]"
      ]
     },
     "execution_count": 440,
     "metadata": {},
     "output_type": "execute_result"
    }
   ],
   "source": [
    "list(range(20))"
   ]
  },
  {
   "cell_type": "code",
   "execution_count": 442,
   "id": "5d21cca0-f2be-49f8-ba31-c136a43b3b46",
   "metadata": {},
   "outputs": [
    {
     "data": {
      "text/plain": [
       "range(0, 10, 3)"
      ]
     },
     "execution_count": 442,
     "metadata": {},
     "output_type": "execute_result"
    }
   ],
   "source": [
    "r=range(0,10,3)\n",
    "r"
   ]
  },
  {
   "cell_type": "code",
   "execution_count": 446,
   "id": "cecfea96-6ed6-493b-8684-186a7ca09be2",
   "metadata": {},
   "outputs": [
    {
     "data": {
      "text/plain": [
       "[0, 3, 6, 9]"
      ]
     },
     "execution_count": 446,
     "metadata": {},
     "output_type": "execute_result"
    }
   ],
   "source": [
    "list(r)"
   ]
  },
  {
   "cell_type": "markdown",
   "id": "3af74ff6-3d7d-4647-ad24-c0266f1a3b3a",
   "metadata": {},
   "source": [
    "# operators "
   ]
  },
  {
   "cell_type": "markdown",
   "id": "bf34c6a9-0549-4cdd-add3-ecb7fec0c484",
   "metadata": {},
   "source": [
    "```Arithemtic```"
   ]
  },
  {
   "cell_type": "code",
   "execution_count": 454,
   "id": "47676840-8a0b-4309-8aa7-7e31d08fa8e5",
   "metadata": {},
   "outputs": [],
   "source": [
    "x,y=3,4"
   ]
  },
  {
   "cell_type": "code",
   "execution_count": 456,
   "id": "111a132e-e07d-4814-8a60-f7c6122fbf7c",
   "metadata": {},
   "outputs": [
    {
     "data": {
      "text/plain": [
       "3"
      ]
     },
     "execution_count": 456,
     "metadata": {},
     "output_type": "execute_result"
    }
   ],
   "source": [
    "x"
   ]
  },
  {
   "cell_type": "code",
   "execution_count": 458,
   "id": "15f8e51e-13cb-4c76-8adc-36da2c9023c6",
   "metadata": {},
   "outputs": [
    {
     "data": {
      "text/plain": [
       "4"
      ]
     },
     "execution_count": 458,
     "metadata": {},
     "output_type": "execute_result"
    }
   ],
   "source": [
    "y"
   ]
  },
  {
   "cell_type": "code",
   "execution_count": 460,
   "id": "6e0ce8b5-9753-4180-afbc-71c53e20432b",
   "metadata": {},
   "outputs": [
    {
     "data": {
      "text/plain": [
       "7"
      ]
     },
     "execution_count": 460,
     "metadata": {},
     "output_type": "execute_result"
    }
   ],
   "source": [
    "x+y"
   ]
  },
  {
   "cell_type": "code",
   "execution_count": 462,
   "id": "83d23edd-6a61-40ec-ab24-536b4665f320",
   "metadata": {},
   "outputs": [
    {
     "data": {
      "text/plain": [
       "-1"
      ]
     },
     "execution_count": 462,
     "metadata": {},
     "output_type": "execute_result"
    }
   ],
   "source": [
    "x-y"
   ]
  },
  {
   "cell_type": "code",
   "execution_count": 464,
   "id": "962c722b-f150-4554-9df5-224a9287c1de",
   "metadata": {},
   "outputs": [
    {
     "data": {
      "text/plain": [
       "1"
      ]
     },
     "execution_count": 464,
     "metadata": {},
     "output_type": "execute_result"
    }
   ],
   "source": [
    "y-x"
   ]
  },
  {
   "cell_type": "code",
   "execution_count": 466,
   "id": "46ee69c7-d4f9-41f0-8f6c-7fbdf6a189c2",
   "metadata": {},
   "outputs": [
    {
     "data": {
      "text/plain": [
       "12"
      ]
     },
     "execution_count": 466,
     "metadata": {},
     "output_type": "execute_result"
    }
   ],
   "source": [
    "x*y"
   ]
  },
  {
   "cell_type": "code",
   "execution_count": 468,
   "id": "27e3a4ea-d330-45ed-adef-c4c0225b53ac",
   "metadata": {},
   "outputs": [
    {
     "data": {
      "text/plain": [
       "0.75"
      ]
     },
     "execution_count": 468,
     "metadata": {},
     "output_type": "execute_result"
    }
   ],
   "source": [
    "x/y"
   ]
  },
  {
   "cell_type": "code",
   "execution_count": 470,
   "id": "b489697d-95a6-4891-8377-e06940c4c813",
   "metadata": {},
   "outputs": [
    {
     "data": {
      "text/plain": [
       "0"
      ]
     },
     "execution_count": 470,
     "metadata": {},
     "output_type": "execute_result"
    }
   ],
   "source": [
    "x//y"
   ]
  },
  {
   "cell_type": "code",
   "execution_count": 472,
   "id": "1b786443-3d0b-49c2-a797-565c3db3445b",
   "metadata": {},
   "outputs": [
    {
     "data": {
      "text/plain": [
       "3"
      ]
     },
     "execution_count": 472,
     "metadata": {},
     "output_type": "execute_result"
    }
   ],
   "source": [
    "x%y"
   ]
  },
  {
   "cell_type": "code",
   "execution_count": 474,
   "id": "315d5727-ab78-4cb8-8408-fb9f0d500f9e",
   "metadata": {},
   "outputs": [
    {
     "data": {
      "text/plain": [
       "81"
      ]
     },
     "execution_count": 474,
     "metadata": {},
     "output_type": "execute_result"
    }
   ],
   "source": [
    "x**y"
   ]
  },
  {
   "cell_type": "markdown",
   "id": "d9cfee4e-1ab5-49a0-a920-a73fae1b4751",
   "metadata": {},
   "source": [
    "```Assignment```"
   ]
  },
  {
   "cell_type": "code",
   "execution_count": 547,
   "id": "d59311db-d519-4d40-9f37-a403fe9b4bc1",
   "metadata": {},
   "outputs": [
    {
     "data": {
      "text/plain": [
       "2"
      ]
     },
     "execution_count": 547,
     "metadata": {},
     "output_type": "execute_result"
    }
   ],
   "source": [
    "x=2\n",
    "x"
   ]
  },
  {
   "cell_type": "code",
   "execution_count": 549,
   "id": "05553f28-25a7-4657-aee5-9801436c2cee",
   "metadata": {},
   "outputs": [
    {
     "data": {
      "text/plain": [
       "4"
      ]
     },
     "execution_count": 549,
     "metadata": {},
     "output_type": "execute_result"
    }
   ],
   "source": [
    "x=x+2\n",
    "x"
   ]
  },
  {
   "cell_type": "code",
   "execution_count": 551,
   "id": "0cae7f92-306c-438a-921b-896095c2040f",
   "metadata": {},
   "outputs": [],
   "source": [
    "x += 2"
   ]
  },
  {
   "cell_type": "code",
   "execution_count": 553,
   "id": "f4dc470e-6098-45a5-93e3-ac5817c74d0b",
   "metadata": {},
   "outputs": [
    {
     "data": {
      "text/plain": [
       "6"
      ]
     },
     "execution_count": 553,
     "metadata": {},
     "output_type": "execute_result"
    }
   ],
   "source": [
    "x"
   ]
  },
  {
   "cell_type": "code",
   "execution_count": 555,
   "id": "a1557f23-8e80-4bc3-8c6e-4263e1b33e13",
   "metadata": {},
   "outputs": [],
   "source": [
    "x -= 2"
   ]
  },
  {
   "cell_type": "code",
   "execution_count": 557,
   "id": "e33af543-c756-4aec-9100-991e61601c21",
   "metadata": {},
   "outputs": [
    {
     "data": {
      "text/plain": [
       "4"
      ]
     },
     "execution_count": 557,
     "metadata": {},
     "output_type": "execute_result"
    }
   ],
   "source": [
    "x"
   ]
  },
  {
   "cell_type": "code",
   "execution_count": 559,
   "id": "42ab1f8d-c558-4e70-be37-7cdba5bd9f65",
   "metadata": {},
   "outputs": [],
   "source": [
    "x *= 2"
   ]
  },
  {
   "cell_type": "code",
   "execution_count": 561,
   "id": "bff4eff5-4399-4f1a-aac5-a878b875f648",
   "metadata": {},
   "outputs": [
    {
     "data": {
      "text/plain": [
       "8"
      ]
     },
     "execution_count": 561,
     "metadata": {},
     "output_type": "execute_result"
    }
   ],
   "source": [
    "x"
   ]
  },
  {
   "cell_type": "code",
   "execution_count": 563,
   "id": "8f5518a2-5623-4d2f-9b4f-5b192650aba3",
   "metadata": {},
   "outputs": [],
   "source": [
    "x /= 2"
   ]
  },
  {
   "cell_type": "code",
   "execution_count": 565,
   "id": "b7f05bc7-5ef2-4eb0-9786-6ea73c70e660",
   "metadata": {},
   "outputs": [
    {
     "data": {
      "text/plain": [
       "4.0"
      ]
     },
     "execution_count": 565,
     "metadata": {},
     "output_type": "execute_result"
    }
   ],
   "source": [
    "x"
   ]
  },
  {
   "cell_type": "code",
   "execution_count": 567,
   "id": "3e6683a1-0b38-4ae5-8666-51832f7fd3fb",
   "metadata": {},
   "outputs": [],
   "source": [
    "x //= 2"
   ]
  },
  {
   "cell_type": "code",
   "execution_count": 569,
   "id": "0125c559-7db8-43be-9dec-37c92391bb80",
   "metadata": {},
   "outputs": [
    {
     "data": {
      "text/plain": [
       "2.0"
      ]
     },
     "execution_count": 569,
     "metadata": {},
     "output_type": "execute_result"
    }
   ],
   "source": [
    "x"
   ]
  },
  {
   "cell_type": "code",
   "execution_count": 571,
   "id": "f8e152de-0f5f-41a7-b3ab-af6ffeb32dce",
   "metadata": {},
   "outputs": [],
   "source": [
    "x %= 2"
   ]
  },
  {
   "cell_type": "code",
   "execution_count": 573,
   "id": "b55fffe4-b5d8-4f92-b957-f090de54f9cc",
   "metadata": {},
   "outputs": [
    {
     "data": {
      "text/plain": [
       "0.0"
      ]
     },
     "execution_count": 573,
     "metadata": {},
     "output_type": "execute_result"
    }
   ],
   "source": [
    "x"
   ]
  },
  {
   "cell_type": "code",
   "execution_count": 575,
   "id": "80101c8b-c07f-430c-8bdf-b22314af8828",
   "metadata": {},
   "outputs": [],
   "source": [
    "x **= 2"
   ]
  },
  {
   "cell_type": "code",
   "execution_count": 577,
   "id": "550c786c-20a2-4321-a590-931e064143d6",
   "metadata": {},
   "outputs": [
    {
     "data": {
      "text/plain": [
       "0.0"
      ]
     },
     "execution_count": 577,
     "metadata": {},
     "output_type": "execute_result"
    }
   ],
   "source": [
    "x"
   ]
  },
  {
   "cell_type": "markdown",
   "id": "ebf16041-4691-44dd-a117-e3cef2fc1eb5",
   "metadata": {},
   "source": [
    "# unary"
   ]
  },
  {
   "cell_type": "code",
   "execution_count": 580,
   "id": "2a92eb9c-2921-4685-8ef8-0f4db5249a1f",
   "metadata": {},
   "outputs": [
    {
     "data": {
      "text/plain": [
       "30"
      ]
     },
     "execution_count": 580,
     "metadata": {},
     "output_type": "execute_result"
    }
   ],
   "source": [
    "f=30\n",
    "f"
   ]
  },
  {
   "cell_type": "code",
   "execution_count": 582,
   "id": "e975c960-a282-47ba-b052-ff898a3209d2",
   "metadata": {},
   "outputs": [],
   "source": [
    "n=-(f)"
   ]
  },
  {
   "cell_type": "code",
   "execution_count": 584,
   "id": "c7543ec7-840b-4a6a-8099-99287fe400dc",
   "metadata": {},
   "outputs": [
    {
     "data": {
      "text/plain": [
       "-30"
      ]
     },
     "execution_count": 584,
     "metadata": {},
     "output_type": "execute_result"
    }
   ],
   "source": [
    "n"
   ]
  },
  {
   "cell_type": "code",
   "execution_count": 586,
   "id": "25d6bd9a-8f62-4cef-be8f-0833eda8245e",
   "metadata": {},
   "outputs": [
    {
     "data": {
      "text/plain": [
       "30"
      ]
     },
     "execution_count": 586,
     "metadata": {},
     "output_type": "execute_result"
    }
   ],
   "source": [
    "f"
   ]
  },
  {
   "cell_type": "code",
   "execution_count": 588,
   "id": "2acdcbdb-a64b-4f68-8fcb-f49c7577ce6a",
   "metadata": {},
   "outputs": [
    {
     "data": {
      "text/plain": [
       "-30"
      ]
     },
     "execution_count": 588,
     "metadata": {},
     "output_type": "execute_result"
    }
   ],
   "source": [
    "n"
   ]
  },
  {
   "cell_type": "code",
   "execution_count": 590,
   "id": "8e46278c-4e46-4290-b231-98a418e76031",
   "metadata": {},
   "outputs": [
    {
     "data": {
      "text/plain": [
       "-30"
      ]
     },
     "execution_count": 590,
     "metadata": {},
     "output_type": "execute_result"
    }
   ],
   "source": [
    "-f"
   ]
  },
  {
   "cell_type": "markdown",
   "id": "60c46d90-b401-457d-88c4-10a755e29328",
   "metadata": {},
   "source": [
    "# relational "
   ]
  },
  {
   "cell_type": "code",
   "execution_count": 607,
   "id": "7fc7b00d-f22f-41b8-bd33-10a3d7496321",
   "metadata": {},
   "outputs": [],
   "source": [
    "a=3\n",
    "b=4\n"
   ]
  },
  {
   "cell_type": "code",
   "execution_count": 609,
   "id": "3fe8681e-6ef4-4b05-8809-4a2c422b51ce",
   "metadata": {},
   "outputs": [
    {
     "data": {
      "text/plain": [
       "3"
      ]
     },
     "execution_count": 609,
     "metadata": {},
     "output_type": "execute_result"
    }
   ],
   "source": [
    "a"
   ]
  },
  {
   "cell_type": "code",
   "execution_count": 611,
   "id": "1bcaab81-77c8-463b-b1a4-0581c6f14e1e",
   "metadata": {},
   "outputs": [
    {
     "data": {
      "text/plain": [
       "4"
      ]
     },
     "execution_count": 611,
     "metadata": {},
     "output_type": "execute_result"
    }
   ],
   "source": [
    "b"
   ]
  },
  {
   "cell_type": "code",
   "execution_count": 613,
   "id": "adab731f-54f5-4bcc-99cf-b5bbdb9df633",
   "metadata": {},
   "outputs": [
    {
     "data": {
      "text/plain": [
       "False"
      ]
     },
     "execution_count": 613,
     "metadata": {},
     "output_type": "execute_result"
    }
   ],
   "source": [
    "a==b"
   ]
  },
  {
   "cell_type": "code",
   "execution_count": 615,
   "id": "5aa8cf93-2440-404a-bf33-75e6aa8386f3",
   "metadata": {},
   "outputs": [
    {
     "data": {
      "text/plain": [
       "True"
      ]
     },
     "execution_count": 615,
     "metadata": {},
     "output_type": "execute_result"
    }
   ],
   "source": [
    "a<b"
   ]
  },
  {
   "cell_type": "code",
   "execution_count": 617,
   "id": "bf70e9a9-1d64-4748-be46-68d800665223",
   "metadata": {},
   "outputs": [
    {
     "data": {
      "text/plain": [
       "False"
      ]
     },
     "execution_count": 617,
     "metadata": {},
     "output_type": "execute_result"
    }
   ],
   "source": [
    "a>b"
   ]
  },
  {
   "cell_type": "code",
   "execution_count": 619,
   "id": "6931e99a-4136-4af4-a209-4ca56288366f",
   "metadata": {},
   "outputs": [
    {
     "data": {
      "text/plain": [
       "True"
      ]
     },
     "execution_count": 619,
     "metadata": {},
     "output_type": "execute_result"
    }
   ],
   "source": [
    "a<=b"
   ]
  },
  {
   "cell_type": "code",
   "execution_count": 621,
   "id": "1fc4b702-9568-43de-a1a5-c459ad82e4e6",
   "metadata": {},
   "outputs": [
    {
     "data": {
      "text/plain": [
       "False"
      ]
     },
     "execution_count": 621,
     "metadata": {},
     "output_type": "execute_result"
    }
   ],
   "source": [
    "a>=b"
   ]
  },
  {
   "cell_type": "code",
   "execution_count": 623,
   "id": "4bc811d5-ffb6-4b37-b34c-3a3474c627ea",
   "metadata": {},
   "outputs": [],
   "source": [
    "a=4"
   ]
  },
  {
   "cell_type": "code",
   "execution_count": 625,
   "id": "bee65448-9459-4ada-af47-7cfac65505d2",
   "metadata": {},
   "outputs": [
    {
     "data": {
      "text/plain": [
       "False"
      ]
     },
     "execution_count": 625,
     "metadata": {},
     "output_type": "execute_result"
    }
   ],
   "source": [
    "a<b"
   ]
  },
  {
   "cell_type": "code",
   "execution_count": 627,
   "id": "c243f2fd-c7fc-4f8c-a3a3-f63c62b5824f",
   "metadata": {},
   "outputs": [
    {
     "data": {
      "text/plain": [
       "False"
      ]
     },
     "execution_count": 627,
     "metadata": {},
     "output_type": "execute_result"
    }
   ],
   "source": [
    "a>b"
   ]
  },
  {
   "cell_type": "code",
   "execution_count": 629,
   "id": "b0c037b5-0649-4805-89cd-6ef4fe616667",
   "metadata": {},
   "outputs": [
    {
     "data": {
      "text/plain": [
       "True"
      ]
     },
     "execution_count": 629,
     "metadata": {},
     "output_type": "execute_result"
    }
   ],
   "source": [
    "a<=b"
   ]
  },
  {
   "cell_type": "code",
   "execution_count": 631,
   "id": "356f18d7-42d3-4637-ad0c-2cec5626fa39",
   "metadata": {},
   "outputs": [
    {
     "data": {
      "text/plain": [
       "True"
      ]
     },
     "execution_count": 631,
     "metadata": {},
     "output_type": "execute_result"
    }
   ],
   "source": [
    "a>=b"
   ]
  },
  {
   "cell_type": "code",
   "execution_count": 633,
   "id": "ee95c39c-b644-4f62-89bc-f8fed7962f0e",
   "metadata": {},
   "outputs": [],
   "source": [
    "b=10"
   ]
  },
  {
   "cell_type": "code",
   "execution_count": 635,
   "id": "ddad3432-db46-48f5-b6fc-8c0bbae82a7d",
   "metadata": {},
   "outputs": [
    {
     "data": {
      "text/plain": [
       "False"
      ]
     },
     "execution_count": 635,
     "metadata": {},
     "output_type": "execute_result"
    }
   ],
   "source": [
    "a==b"
   ]
  },
  {
   "cell_type": "code",
   "execution_count": 637,
   "id": "0f54b934-16b5-47ac-9915-0ccf0c8d684c",
   "metadata": {},
   "outputs": [
    {
     "data": {
      "text/plain": [
       "True"
      ]
     },
     "execution_count": 637,
     "metadata": {},
     "output_type": "execute_result"
    }
   ],
   "source": [
    "a<b"
   ]
  },
  {
   "cell_type": "code",
   "execution_count": 639,
   "id": "2fec8aba-a5e9-4e75-9464-f205a71b538e",
   "metadata": {},
   "outputs": [
    {
     "data": {
      "text/plain": [
       "True"
      ]
     },
     "execution_count": 639,
     "metadata": {},
     "output_type": "execute_result"
    }
   ],
   "source": [
    "a<=b"
   ]
  },
  {
   "cell_type": "code",
   "execution_count": 641,
   "id": "909b8fce-1851-4792-a0c2-5f2547da310c",
   "metadata": {},
   "outputs": [
    {
     "data": {
      "text/plain": [
       "False"
      ]
     },
     "execution_count": 641,
     "metadata": {},
     "output_type": "execute_result"
    }
   ],
   "source": [
    "a>=b"
   ]
  },
  {
   "cell_type": "code",
   "execution_count": 643,
   "id": "95444f86-5a86-48f7-b87a-95f38753c937",
   "metadata": {},
   "outputs": [
    {
     "data": {
      "text/plain": [
       "True"
      ]
     },
     "execution_count": 643,
     "metadata": {},
     "output_type": "execute_result"
    }
   ],
   "source": [
    "a!=b"
   ]
  },
  {
   "cell_type": "markdown",
   "id": "ab1c04b0-ca3b-45ee-a24e-67b1b3227035",
   "metadata": {},
   "source": [
    "```logical```"
   ]
  },
  {
   "cell_type": "code",
   "execution_count": 646,
   "id": "f0987b50-5cf0-4b74-8fcd-71b08249e2f3",
   "metadata": {},
   "outputs": [],
   "source": [
    "a=8\n",
    "b=4"
   ]
  },
  {
   "cell_type": "code",
   "execution_count": 648,
   "id": "6414b4a6-4876-42f1-97d9-dc0c2a0efedb",
   "metadata": {},
   "outputs": [
    {
     "data": {
      "text/plain": [
       "True"
      ]
     },
     "execution_count": 648,
     "metadata": {},
     "output_type": "execute_result"
    }
   ],
   "source": [
    "a>4 and b<8"
   ]
  },
  {
   "cell_type": "code",
   "execution_count": 650,
   "id": "7dffcb72-f02c-44a6-9d0c-37f02f9d5630",
   "metadata": {},
   "outputs": [
    {
     "data": {
      "text/plain": [
       "False"
      ]
     },
     "execution_count": 650,
     "metadata": {},
     "output_type": "execute_result"
    }
   ],
   "source": [
    "a<4 and b>8"
   ]
  },
  {
   "cell_type": "code",
   "execution_count": 652,
   "id": "603751be-b9f0-49dd-abfd-231bf9e2d0d4",
   "metadata": {},
   "outputs": [
    {
     "data": {
      "text/plain": [
       "True"
      ]
     },
     "execution_count": 652,
     "metadata": {},
     "output_type": "execute_result"
    }
   ],
   "source": [
    "a<10 or b>2"
   ]
  },
  {
   "cell_type": "code",
   "execution_count": 656,
   "id": "a1ae03ea-3103-4b21-a234-d524577f9890",
   "metadata": {},
   "outputs": [
    {
     "data": {
      "text/plain": [
       "False"
      ]
     },
     "execution_count": 656,
     "metadata": {},
     "output_type": "execute_result"
    }
   ],
   "source": [
    "a>10 or b>10"
   ]
  },
  {
   "cell_type": "code",
   "execution_count": 658,
   "id": "0769ac19-6e39-478f-8598-08cc081da3ae",
   "metadata": {},
   "outputs": [
    {
     "data": {
      "text/plain": [
       "False"
      ]
     },
     "execution_count": 658,
     "metadata": {},
     "output_type": "execute_result"
    }
   ],
   "source": [
    "x = False\n",
    "x"
   ]
  },
  {
   "cell_type": "code",
   "execution_count": 660,
   "id": "2ad4b5b2-7319-473b-8564-af41051d59cb",
   "metadata": {},
   "outputs": [],
   "source": [
    "x = not x"
   ]
  },
  {
   "cell_type": "code",
   "execution_count": 662,
   "id": "1f617fae-f899-4808-9e3d-36cc37b6a9f1",
   "metadata": {},
   "outputs": [
    {
     "data": {
      "text/plain": [
       "True"
      ]
     },
     "execution_count": 662,
     "metadata": {},
     "output_type": "execute_result"
    }
   ],
   "source": [
    "x"
   ]
  },
  {
   "cell_type": "code",
   "execution_count": 664,
   "id": "262ad517-f9a4-4c85-8315-27822b5941c5",
   "metadata": {},
   "outputs": [
    {
     "data": {
      "text/plain": [
       "False"
      ]
     },
     "execution_count": 664,
     "metadata": {},
     "output_type": "execute_result"
    }
   ],
   "source": [
    "not x"
   ]
  },
  {
   "cell_type": "markdown",
   "id": "a9701f8e-86df-4069-b9bd-9bf01e77208e",
   "metadata": {},
   "source": [
    "# number system conversion"
   ]
  },
  {
   "cell_type": "code",
   "execution_count": 667,
   "id": "35043bd9-7ee2-42ed-be8c-f7dd48fb3b33",
   "metadata": {},
   "outputs": [
    {
     "data": {
      "text/plain": [
       "'0b11001'"
      ]
     },
     "execution_count": 667,
     "metadata": {},
     "output_type": "execute_result"
    }
   ],
   "source": [
    "bin(25)"
   ]
  },
  {
   "cell_type": "code",
   "execution_count": 671,
   "id": "372cddc4-a04c-4fd2-ad55-40b0be984166",
   "metadata": {},
   "outputs": [
    {
     "data": {
      "text/plain": [
       "25"
      ]
     },
     "execution_count": 671,
     "metadata": {},
     "output_type": "execute_result"
    }
   ],
   "source": [
    "0b11001"
   ]
  },
  {
   "cell_type": "code",
   "execution_count": 673,
   "id": "f3d13224-d196-48c7-81d9-ce52e9d00e01",
   "metadata": {},
   "outputs": [
    {
     "data": {
      "text/plain": [
       "11001"
      ]
     },
     "execution_count": 673,
     "metadata": {},
     "output_type": "execute_result"
    }
   ],
   "source": [
    "int(11001)"
   ]
  },
  {
   "cell_type": "code",
   "execution_count": 675,
   "id": "999ee804-e77a-4ab7-86d5-1da293e3f093",
   "metadata": {},
   "outputs": [
    {
     "data": {
      "text/plain": [
       "'0b100000'"
      ]
     },
     "execution_count": 675,
     "metadata": {},
     "output_type": "execute_result"
    }
   ],
   "source": [
    "bin(32)"
   ]
  },
  {
   "cell_type": "code",
   "execution_count": 677,
   "id": "fd82eece-8c40-4e74-8f9b-95ef6c9d98a6",
   "metadata": {},
   "outputs": [
    {
     "data": {
      "text/plain": [
       "32"
      ]
     },
     "execution_count": 677,
     "metadata": {},
     "output_type": "execute_result"
    }
   ],
   "source": [
    "int(0b100000)"
   ]
  },
  {
   "cell_type": "code",
   "execution_count": 679,
   "id": "975a4da6-6949-4e8c-b497-4fb1068e4d63",
   "metadata": {},
   "outputs": [
    {
     "data": {
      "text/plain": [
       "'0o17'"
      ]
     },
     "execution_count": 679,
     "metadata": {},
     "output_type": "execute_result"
    }
   ],
   "source": [
    "oct(15)"
   ]
  },
  {
   "cell_type": "code",
   "execution_count": 681,
   "id": "ab4bdfdf-b1f6-4f9c-91ea-c5b761d44a70",
   "metadata": {},
   "outputs": [
    {
     "data": {
      "text/plain": [
       "'0o31'"
      ]
     },
     "execution_count": 681,
     "metadata": {},
     "output_type": "execute_result"
    }
   ],
   "source": [
    "oct(25)"
   ]
  },
  {
   "cell_type": "code",
   "execution_count": 683,
   "id": "bf6f052f-024b-4512-a830-76a5a75bb189",
   "metadata": {},
   "outputs": [
    {
     "data": {
      "text/plain": [
       "25"
      ]
     },
     "execution_count": 683,
     "metadata": {},
     "output_type": "execute_result"
    }
   ],
   "source": [
    "int(0o31)"
   ]
  },
  {
   "cell_type": "code",
   "execution_count": 685,
   "id": "c8e57574-0b6a-4d98-936a-85aed84d2a13",
   "metadata": {},
   "outputs": [
    {
     "data": {
      "text/plain": [
       "'0x9'"
      ]
     },
     "execution_count": 685,
     "metadata": {},
     "output_type": "execute_result"
    }
   ],
   "source": [
    "hex(9)"
   ]
  },
  {
   "cell_type": "code",
   "execution_count": 689,
   "id": "0099ea85-86fa-4d15-b5f1-d7811bf79366",
   "metadata": {},
   "outputs": [
    {
     "data": {
      "text/plain": [
       "'0xa'"
      ]
     },
     "execution_count": 689,
     "metadata": {},
     "output_type": "execute_result"
    }
   ],
   "source": [
    "hex(10)"
   ]
  },
  {
   "cell_type": "code",
   "execution_count": 691,
   "id": "fc1a4478-65e6-44a3-88f4-53953bab844b",
   "metadata": {},
   "outputs": [
    {
     "data": {
      "text/plain": [
       "'0x19'"
      ]
     },
     "execution_count": 691,
     "metadata": {},
     "output_type": "execute_result"
    }
   ],
   "source": [
    "hex(25)"
   ]
  },
  {
   "cell_type": "markdown",
   "id": "846179aa-ff41-405b-9ea0-3f4bee24c77d",
   "metadata": {},
   "source": [
    "# swapping"
   ]
  },
  {
   "cell_type": "code",
   "execution_count": 752,
   "id": "53e2e9a2-e33b-400a-a785-97d8aa22a434",
   "metadata": {},
   "outputs": [],
   "source": [
    "a = 10\n",
    "b = 15"
   ]
  },
  {
   "cell_type": "code",
   "execution_count": 754,
   "id": "5297168d-f811-4cc0-8970-05f194fa2108",
   "metadata": {},
   "outputs": [],
   "source": [
    "a,b=b,a"
   ]
  },
  {
   "cell_type": "code",
   "execution_count": 756,
   "id": "731840e2-7094-4cb0-95c6-fe6476506def",
   "metadata": {},
   "outputs": [
    {
     "data": {
      "text/plain": [
       "15"
      ]
     },
     "execution_count": 756,
     "metadata": {},
     "output_type": "execute_result"
    }
   ],
   "source": [
    "a"
   ]
  },
  {
   "cell_type": "code",
   "execution_count": 758,
   "id": "65a3ee12-83ab-4776-81ed-ea5147a844a2",
   "metadata": {},
   "outputs": [
    {
     "data": {
      "text/plain": [
       "10"
      ]
     },
     "execution_count": 758,
     "metadata": {},
     "output_type": "execute_result"
    }
   ],
   "source": [
    "b"
   ]
  },
  {
   "cell_type": "code",
   "execution_count": 759,
   "id": "5502673f-e115-4f03-ab9b-19ce00c50824",
   "metadata": {},
   "outputs": [],
   "source": [
    "temp = a\n",
    "a = b\n",
    "b = temp"
   ]
  },
  {
   "cell_type": "code",
   "execution_count": 760,
   "id": "246407d2-e5c0-4fcc-8686-019961a2ad4b",
   "metadata": {},
   "outputs": [
    {
     "data": {
      "text/plain": [
       "10"
      ]
     },
     "execution_count": 760,
     "metadata": {},
     "output_type": "execute_result"
    }
   ],
   "source": [
    "a"
   ]
  },
  {
   "cell_type": "code",
   "execution_count": 764,
   "id": "abd76f53-7358-4f2d-a4bc-518e6575a601",
   "metadata": {},
   "outputs": [
    {
     "data": {
      "text/plain": [
       "15"
      ]
     },
     "execution_count": 764,
     "metadata": {},
     "output_type": "execute_result"
    }
   ],
   "source": [
    "b"
   ]
  },
  {
   "cell_type": "code",
   "execution_count": 766,
   "id": "3fa49ff7-829c-4053-a976-6e91fa5d48fc",
   "metadata": {},
   "outputs": [],
   "source": [
    "a = a+b\n",
    "b = a-b\n",
    "a = a-b"
   ]
  },
  {
   "cell_type": "code",
   "execution_count": 768,
   "id": "6560a7e3-cac5-4448-ad7f-fc2ed95b6474",
   "metadata": {},
   "outputs": [
    {
     "data": {
      "text/plain": [
       "15"
      ]
     },
     "execution_count": 768,
     "metadata": {},
     "output_type": "execute_result"
    }
   ],
   "source": [
    "a"
   ]
  },
  {
   "cell_type": "code",
   "execution_count": 770,
   "id": "fd4ddef8-81c2-4bcc-9f4c-899b6c2eb956",
   "metadata": {},
   "outputs": [
    {
     "data": {
      "text/plain": [
       "10"
      ]
     },
     "execution_count": 770,
     "metadata": {},
     "output_type": "execute_result"
    }
   ],
   "source": [
    "b"
   ]
  },
  {
   "cell_type": "code",
   "execution_count": 772,
   "id": "bba83e6f-49f7-4ce9-9ee7-6fe554cd3486",
   "metadata": {},
   "outputs": [],
   "source": [
    "a1=5\n",
    "b1=6"
   ]
  },
  {
   "cell_type": "code",
   "execution_count": 774,
   "id": "df769d1a-729d-49f1-b9b5-ceb939d6e213",
   "metadata": {},
   "outputs": [
    {
     "name": "stdout",
     "output_type": "stream",
     "text": [
      "5\n",
      "6\n"
     ]
    }
   ],
   "source": [
    "print(a1)\n",
    "print(b1)"
   ]
  },
  {
   "cell_type": "code",
   "execution_count": 776,
   "id": "7a1c7fdc-e08c-4a1e-a105-0626121ed99e",
   "metadata": {},
   "outputs": [
    {
     "name": "stdout",
     "output_type": "stream",
     "text": [
      "0b101\n",
      "0b110\n"
     ]
    }
   ],
   "source": [
    "print(bin(5))\n",
    "print(bin(6))"
   ]
  },
  {
   "cell_type": "code",
   "execution_count": 778,
   "id": "9a2413bb-7e52-42ab-8b44-d5509d95b582",
   "metadata": {},
   "outputs": [
    {
     "name": "stdout",
     "output_type": "stream",
     "text": [
      "5\n",
      "6\n"
     ]
    }
   ],
   "source": [
    "print(0b101)\n",
    "print(0b110)"
   ]
  },
  {
   "cell_type": "code",
   "execution_count": 780,
   "id": "f0f8de8f-7019-4527-9358-f2a1d896262b",
   "metadata": {},
   "outputs": [],
   "source": [
    "a1=a1^b1\n",
    "b1=b1^a1\n",
    "a1=a1^b1"
   ]
  },
  {
   "cell_type": "code",
   "execution_count": 782,
   "id": "00f866bf-e2c0-45b7-be39-5e8411994c31",
   "metadata": {},
   "outputs": [
    {
     "name": "stdout",
     "output_type": "stream",
     "text": [
      "6\n",
      "5\n"
     ]
    }
   ],
   "source": [
    "print(a1)\n",
    "print(b1)"
   ]
  },
  {
   "cell_type": "markdown",
   "id": "14cdd85e-bbf7-46cb-97d5-8b7d24c7c854",
   "metadata": {},
   "source": [
    "# bitwise\n"
   ]
  },
  {
   "cell_type": "markdown",
   "id": "c3d71118-a763-4cb7-8899-76385fa590a4",
   "metadata": {},
   "source": [
    "```compliment```"
   ]
  },
  {
   "cell_type": "code",
   "execution_count": 786,
   "id": "284ae364-5430-494d-bf48-aa7590977ba9",
   "metadata": {},
   "outputs": [
    {
     "data": {
      "text/plain": [
       "-15"
      ]
     },
     "execution_count": 786,
     "metadata": {},
     "output_type": "execute_result"
    }
   ],
   "source": [
    "~14"
   ]
  },
  {
   "cell_type": "code",
   "execution_count": 788,
   "id": "c60b94d1-310a-43b2-90df-425775b27ec4",
   "metadata": {},
   "outputs": [
    {
     "data": {
      "text/plain": [
       "-2"
      ]
     },
     "execution_count": 788,
     "metadata": {},
     "output_type": "execute_result"
    }
   ],
   "source": [
    "~1"
   ]
  },
  {
   "cell_type": "code",
   "execution_count": 790,
   "id": "9abffb93-1177-467a-a026-9893d3bc1089",
   "metadata": {},
   "outputs": [
    {
     "data": {
      "text/plain": [
       "-46"
      ]
     },
     "execution_count": 790,
     "metadata": {},
     "output_type": "execute_result"
    }
   ],
   "source": [
    "~45"
   ]
  },
  {
   "cell_type": "markdown",
   "id": "4556791e-4acc-4022-95a5-28f3c2ee42ee",
   "metadata": {},
   "source": [
    "#AND - LOGICAL OPERATOR ||| & - BITWISE AND OPERATOR"
   ]
  },
  {
   "cell_type": "code",
   "execution_count": 794,
   "id": "829d214a-eaf6-4fea-9880-b47fdc6a8014",
   "metadata": {},
   "outputs": [
    {
     "data": {
      "text/plain": [
       "12"
      ]
     },
     "execution_count": 794,
     "metadata": {},
     "output_type": "execute_result"
    }
   ],
   "source": [
    "12&13"
   ]
  },
  {
   "cell_type": "code",
   "execution_count": 797,
   "id": "530ee30e-915a-490b-a61f-a060ac251f65",
   "metadata": {},
   "outputs": [
    {
     "data": {
      "text/plain": [
       "13"
      ]
     },
     "execution_count": 797,
     "metadata": {},
     "output_type": "execute_result"
    }
   ],
   "source": [
    "12|13"
   ]
  },
  {
   "cell_type": "code",
   "execution_count": 799,
   "id": "bb7e6b37-554d-4f8d-ab47-4b6e97dcc876",
   "metadata": {},
   "outputs": [
    {
     "data": {
      "text/plain": [
       "1"
      ]
     },
     "execution_count": 799,
     "metadata": {},
     "output_type": "execute_result"
    }
   ],
   "source": [
    "12^13"
   ]
  },
  {
   "cell_type": "code",
   "execution_count": 3,
   "id": "288ce1af-84a4-486c-ae08-be3ae3ef62c6",
   "metadata": {},
   "outputs": [
    {
     "data": {
      "text/plain": [
       "320"
      ]
     },
     "execution_count": 3,
     "metadata": {},
     "output_type": "execute_result"
    }
   ],
   "source": [
    "20<<4"
   ]
  },
  {
   "cell_type": "code",
   "execution_count": 5,
   "id": "d87880dc-4f67-4b75-8bff-f47492d24d2a",
   "metadata": {},
   "outputs": [
    {
     "data": {
      "text/plain": [
       "1"
      ]
     },
     "execution_count": 5,
     "metadata": {},
     "output_type": "execute_result"
    }
   ],
   "source": [
    "20>>4"
   ]
  },
  {
   "cell_type": "markdown",
   "id": "88113969-af5b-41ac-b660-b12945241504",
   "metadata": {},
   "source": [
    "# import math module¶"
   ]
  },
  {
   "cell_type": "code",
   "execution_count": 8,
   "id": "c9afae55-8e6b-448d-ad87-b09434f808da",
   "metadata": {},
   "outputs": [],
   "source": [
    "import math "
   ]
  },
  {
   "cell_type": "code",
   "execution_count": 10,
   "id": "fbeb38f4-0f51-4840-8e36-4aa854d535ed",
   "metadata": {},
   "outputs": [
    {
     "data": {
      "text/plain": [
       "5.0"
      ]
     },
     "execution_count": 10,
     "metadata": {},
     "output_type": "execute_result"
    }
   ],
   "source": [
    "math.sqrt(25)"
   ]
  },
  {
   "cell_type": "code",
   "execution_count": 14,
   "id": "6e8bec91-3d4a-4c53-9b2e-3538e61c1de5",
   "metadata": {},
   "outputs": [
    {
     "data": {
      "text/plain": [
       "100.0"
      ]
     },
     "execution_count": 14,
     "metadata": {},
     "output_type": "execute_result"
    }
   ],
   "source": [
    "math.pow(10,2)"
   ]
  },
  {
   "cell_type": "code",
   "execution_count": 16,
   "id": "bc8042e4-7e5c-449d-adb0-c50ce3d41b67",
   "metadata": {},
   "outputs": [
    {
     "data": {
      "text/plain": [
       "3.141592653589793"
      ]
     },
     "execution_count": 16,
     "metadata": {},
     "output_type": "execute_result"
    }
   ],
   "source": [
    "math.pi"
   ]
  },
  {
   "cell_type": "code",
   "execution_count": 18,
   "id": "d58f32dc-3eb9-4cee-8167-02c8bd4df7c3",
   "metadata": {},
   "outputs": [],
   "source": [
    "import math as m\n"
   ]
  },
  {
   "cell_type": "code",
   "execution_count": 20,
   "id": "d9d1367c-834d-4646-8010-ab0e800b5cfa",
   "metadata": {},
   "outputs": [
    {
     "data": {
      "text/plain": [
       "3"
      ]
     },
     "execution_count": 20,
     "metadata": {},
     "output_type": "execute_result"
    }
   ],
   "source": [
    "m.floor(3.6)"
   ]
  },
  {
   "cell_type": "code",
   "execution_count": 26,
   "id": "b0e63275-f673-4420-8dab-81ea8deb04fc",
   "metadata": {},
   "outputs": [
    {
     "data": {
      "text/plain": [
       "4"
      ]
     },
     "execution_count": 26,
     "metadata": {},
     "output_type": "execute_result"
    }
   ],
   "source": [
    "m.ceil(3.6)"
   ]
  },
  {
   "cell_type": "markdown",
   "id": "408a0778-464c-400a-be7d-5c0aae4bd0fd",
   "metadata": {},
   "source": [
    "# user input function in python "
   ]
  },
  {
   "cell_type": "code",
   "execution_count": 39,
   "id": "90709fc6-3e0f-47a5-bbba-43169baccf34",
   "metadata": {},
   "outputs": [
    {
     "name": "stdin",
     "output_type": "stream",
     "text": [
      " 10\n",
      " 5\n"
     ]
    },
    {
     "name": "stdout",
     "output_type": "stream",
     "text": [
      "105\n"
     ]
    }
   ],
   "source": [
    "x=input()\n",
    "y=input()\n",
    "z=x+y\n",
    "print(z)"
   ]
  },
  {
   "cell_type": "code",
   "execution_count": 41,
   "id": "0ec4fe3f-db64-4a1d-8c2d-4524dbc7bcf3",
   "metadata": {},
   "outputs": [
    {
     "data": {
      "text/plain": [
       "str"
      ]
     },
     "execution_count": 41,
     "metadata": {},
     "output_type": "execute_result"
    }
   ],
   "source": [
    "type(y)"
   ]
  },
  {
   "cell_type": "code",
   "execution_count": 33,
   "id": "e9ff73e6-c30b-413f-86a8-6815b49c8d0f",
   "metadata": {},
   "outputs": [
    {
     "name": "stdin",
     "output_type": "stream",
     "text": [
      " 10\n",
      " 5\n"
     ]
    },
    {
     "name": "stdout",
     "output_type": "stream",
     "text": [
      "15\n"
     ]
    }
   ],
   "source": [
    "x=int(input())\n",
    "y=int(input())\n",
    "z=x+y\n",
    "print(z)"
   ]
  },
  {
   "cell_type": "code",
   "execution_count": 35,
   "id": "93934cdf-3823-49f5-b762-6bf1d387c2b7",
   "metadata": {},
   "outputs": [
    {
     "data": {
      "text/plain": [
       "int"
      ]
     },
     "execution_count": 35,
     "metadata": {},
     "output_type": "execute_result"
    }
   ],
   "source": [
    "type(x)"
   ]
  },
  {
   "cell_type": "code",
   "execution_count": 43,
   "id": "52385c75-37f9-427c-87e4-bf9ec083cab1",
   "metadata": {},
   "outputs": [
    {
     "name": "stdin",
     "output_type": "stream",
     "text": [
      "enter usename: sony\n",
      "enter password: 0000\n"
     ]
    },
    {
     "name": "stdout",
     "output_type": "stream",
     "text": [
      "sony0000\n"
     ]
    }
   ],
   "source": [
    "a=input('enter usename:')\n",
    "b=input('enter password:')\n",
    "c=a+b\n",
    "print(c)"
   ]
  },
  {
   "cell_type": "code",
   "execution_count": 45,
   "id": "bb7dbcdf-4859-482b-b32c-3305f2ea4cac",
   "metadata": {},
   "outputs": [
    {
     "name": "stdin",
     "output_type": "stream",
     "text": [
      "enter username: sonic\n"
     ]
    },
    {
     "name": "stdout",
     "output_type": "stream",
     "text": [
      "s\n"
     ]
    }
   ],
   "source": [
    "a=input('enter username:')[0]\n",
    "print(a)\n",
    "        "
   ]
  },
  {
   "cell_type": "code",
   "execution_count": 47,
   "id": "817b6e36-5e7d-4036-9992-028ea66d8e65",
   "metadata": {},
   "outputs": [
    {
     "name": "stdin",
     "output_type": "stream",
     "text": [
      "enter username: frank\n"
     ]
    },
    {
     "name": "stdout",
     "output_type": "stream",
     "text": [
      "n\n"
     ]
    }
   ],
   "source": [
    "a=input('enter username:')[3]\n",
    "print(a)\n",
    "        "
   ]
  },
  {
   "cell_type": "markdown",
   "id": "2464e47c-5269-42f0-8b17-1e2027614bc7",
   "metadata": {},
   "source": [
    "```expression```"
   ]
  },
  {
   "cell_type": "code",
   "execution_count": 58,
   "id": "be4e9eb5-028d-4a86-84cf-2b8ccb6fc6cc",
   "metadata": {},
   "outputs": [
    {
     "name": "stdin",
     "output_type": "stream",
     "text": [
      "enter expression 5+8-3\n"
     ]
    },
    {
     "name": "stdout",
     "output_type": "stream",
     "text": [
      "10\n"
     ]
    }
   ],
   "source": [
    "b=eval(input('enter expression'))\n",
    "print(b)"
   ]
  },
  {
   "cell_type": "code",
   "execution_count": null,
   "id": "46a6655b-7f2b-431b-a886-543ed5b23123",
   "metadata": {},
   "outputs": [],
   "source": []
  }
 ],
 "metadata": {
  "kernelspec": {
   "display_name": "Python 3 (ipykernel)",
   "language": "python",
   "name": "python3"
  },
  "language_info": {
   "codemirror_mode": {
    "name": "ipython",
    "version": 3
   },
   "file_extension": ".py",
   "mimetype": "text/x-python",
   "name": "python",
   "nbconvert_exporter": "python",
   "pygments_lexer": "ipython3",
   "version": "3.12.4"
  }
 },
 "nbformat": 4,
 "nbformat_minor": 5
}
