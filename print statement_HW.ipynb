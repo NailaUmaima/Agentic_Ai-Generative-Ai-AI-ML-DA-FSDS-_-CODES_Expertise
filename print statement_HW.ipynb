{
 "cells": [
  {
   "cell_type": "markdown",
   "id": "b1865564-2619-425f-9a72-9ffae3c3187e",
   "metadata": {},
   "source": [
    "# print statement"
   ]
  },
  {
   "cell_type": "code",
   "execution_count": 4,
   "id": "acf78d2c-4ab6-47e0-bbbd-2106f89d66f7",
   "metadata": {},
   "outputs": [
    {
     "data": {
      "text/plain": [
       "20"
      ]
     },
     "execution_count": 4,
     "metadata": {},
     "output_type": "execute_result"
    }
   ],
   "source": [
    "a=10\n",
    "b=20\n",
    "a\n",
    "b"
   ]
  },
  {
   "cell_type": "code",
   "execution_count": 6,
   "id": "8260b046-6ec7-45ae-8b8b-912aed659fa3",
   "metadata": {},
   "outputs": [
    {
     "name": "stdout",
     "output_type": "stream",
     "text": [
      "10\n",
      "20\n"
     ]
    }
   ],
   "source": [
    "a=10\n",
    "b=20\n",
    "print(a)\n",
    "print(b)"
   ]
  },
  {
   "cell_type": "code",
   "execution_count": 8,
   "id": "c4fc1af5-2d91-44e1-9a37-1f29bff8e177",
   "metadata": {},
   "outputs": [
    {
     "name": "stdout",
     "output_type": "stream",
     "text": [
      "10\n",
      "20\n",
      "python\n",
      "10 20 python\n"
     ]
    }
   ],
   "source": [
    "print(10)\n",
    "print(20)\n",
    "print('python')\n",
    "print(10,20,'python')"
   ]
  },
  {
   "cell_type": "code",
   "execution_count": 10,
   "id": "68a48c33-bbdb-46ad-b2c6-80213ff799a1",
   "metadata": {},
   "outputs": [
    {
     "name": "stdout",
     "output_type": "stream",
     "text": [
      "30\n"
     ]
    }
   ],
   "source": [
    "num1=10\n",
    "num2=20\n",
    "add=num1+num2\n",
    "print(add)"
   ]
  },
  {
   "cell_type": "markdown",
   "id": "8607111d-c102-426f-aa04-9421800df173",
   "metadata": {},
   "source": [
    "# print result with string"
   ]
  },
  {
   "cell_type": "code",
   "execution_count": 13,
   "id": "4620ecf0-3cca-4d3b-ad6a-a2e77693043b",
   "metadata": {},
   "outputs": [
    {
     "name": "stdout",
     "output_type": "stream",
     "text": [
      "the addition of 20 and 30 is = 50\n"
     ]
    }
   ],
   "source": [
    "num1=20\n",
    "num2=30\n",
    "add=num1+num2\n",
    "print('the addition of',num1,'and',num2,'is =',add)"
   ]
  },
  {
   "cell_type": "code",
   "execution_count": 20,
   "id": "8c769a3f-c3f1-4c8c-a484-3dc509b8f051",
   "metadata": {},
   "outputs": [],
   "source": [
    "name='python'\n",
    "age=20\n",
    "city='nyc'"
   ]
  },
  {
   "cell_type": "code",
   "execution_count": 22,
   "id": "bc5ecac5-408d-4939-a32d-aeaa86336a40",
   "metadata": {},
   "outputs": [
    {
     "name": "stdout",
     "output_type": "stream",
     "text": [
      "my name is python and age is 20 living in nyc\n"
     ]
    }
   ],
   "source": [
    "print('my name is',name,'and age is',age,'living in',city)"
   ]
  },
  {
   "cell_type": "markdown",
   "id": "303d8b9a-c099-44fa-a415-44662a2c6244",
   "metadata": {},
   "source": [
    "# print format method"
   ]
  },
  {
   "cell_type": "code",
   "execution_count": 30,
   "id": "4b963c25-b2d4-43fe-aa52-b709aca88009",
   "metadata": {},
   "outputs": [
    {
     "name": "stdout",
     "output_type": "stream",
     "text": [
      "the addition of 20 and 30 is = 50\n"
     ]
    }
   ],
   "source": [
    "num1=20\n",
    "num2=30\n",
    "add=num1+num2\n",
    "print('the addition of {} and {} is = {}'.format(num1,num2,add))"
   ]
  },
  {
   "cell_type": "code",
   "execution_count": 13,
   "id": "4a12f55c-7d21-433b-a211-9e94c992f1fb",
   "metadata": {},
   "outputs": [
    {
     "name": "stdout",
     "output_type": "stream",
     "text": [
      "for the 100 ,25 and 333 the avg is 152.66666666666666 or 152.67\n"
     ]
    }
   ],
   "source": [
    "num1=100\n",
    "num2=25\n",
    "num3=333\n",
    "avg=(num1+num2+num3)/3\n",
    "avg1=round((num1+num2+num3)/3,2)\n",
    "print('for the {} ,{} and {} the avg is {} or {}'.format(num1,num2,num3,avg,avg1))"
   ]
  },
  {
   "cell_type": "code",
   "execution_count": 15,
   "id": "5957ac0d-bf60-42f8-a4ec-cf4676af6bb1",
   "metadata": {},
   "outputs": [
    {
     "data": {
      "text/plain": [
       "152.67"
      ]
     },
     "execution_count": 15,
     "metadata": {},
     "output_type": "execute_result"
    }
   ],
   "source": [
    "round(avg,2)"
   ]
  },
  {
   "cell_type": "markdown",
   "id": "8763f8e9-7068-44cd-a7d0-4ef3be06378a",
   "metadata": {},
   "source": [
    "# f string method"
   ]
  },
  {
   "cell_type": "code",
   "execution_count": 18,
   "id": "8678dec7-397d-4cce-9aee-d2090ce45c5d",
   "metadata": {},
   "outputs": [
    {
     "name": "stdout",
     "output_type": "stream",
     "text": [
      " the addition of 20 and 30 is 50\n"
     ]
    }
   ],
   "source": [
    "num1=20\n",
    "num2=30\n",
    "add=num1+num2\n",
    "print(f' the addition of {num1} and {num2} is {add}')"
   ]
  },
  {
   "cell_type": "code",
   "execution_count": 26,
   "id": "b467a2cb-c1be-4cc1-8b90-d30e513e4440",
   "metadata": {},
   "outputs": [
    {
     "name": "stdout",
     "output_type": "stream",
     "text": [
      "my name is python iam 25 years old living in nyc\n"
     ]
    }
   ],
   "source": [
    "name='python'\n",
    "age='25'\n",
    "city='nyc'\n",
    "print(f'my name is {name} iam {age} years old living in {city}')"
   ]
  },
  {
   "cell_type": "code",
   "execution_count": 28,
   "id": "a3370a33-cc52-4bc9-ae07-8c8491f8d28f",
   "metadata": {},
   "outputs": [
    {
     "name": "stdout",
     "output_type": "stream",
     "text": [
      "the average of 100,25 and 333 is 152.67\n"
     ]
    }
   ],
   "source": [
    "num1=100\n",
    "num2=25\n",
    "num3=333\n",
    "avg=round((num1+num2+num3)/3,2)\n",
    "print(f'the average of {num1},{num2} and {num3} is {avg}')"
   ]
  },
  {
   "cell_type": "markdown",
   "id": "13851791-0c88-4a84-8cd7-200aacc44d05",
   "metadata": {},
   "source": [
    "# combining all"
   ]
  },
  {
   "cell_type": "code",
   "execution_count": 31,
   "id": "8c153155-9944-45ed-af48-564b36fd7561",
   "metadata": {},
   "outputs": [
    {
     "name": "stdout",
     "output_type": "stream",
     "text": [
      "the addition of 20 and 30 is 50\n",
      "the addition of 20 and 30 is 50\n",
      "the addition of 20 and 30 is 50\n"
     ]
    }
   ],
   "source": [
    "num1=20\n",
    "num2=30\n",
    "add=num1+num2\n",
    "print('the addition of', num1 , 'and', num2, 'is', add)\n",
    "print('the addition of {} and {} is {}'.format(num1,num2,add))\n",
    "print(f'the addition of {num1} and {num2} is {add}')"
   ]
  },
  {
   "cell_type": "markdown",
   "id": "ef395acb-636e-4b11-9ff5-09570f19eb73",
   "metadata": {},
   "source": [
    "# end statement"
   ]
  },
  {
   "cell_type": "code",
   "execution_count": 34,
   "id": "216b6c9f-338e-4f3a-9041-cc25bacdb754",
   "metadata": {},
   "outputs": [
    {
     "name": "stdout",
     "output_type": "stream",
     "text": [
      "hello\n",
      "good morning\n"
     ]
    }
   ],
   "source": [
    "print('hello')\n",
    "print('good morning')"
   ]
  },
  {
   "cell_type": "code",
   "execution_count": 36,
   "id": "a6598805-912a-465f-aa61-e98212b13c27",
   "metadata": {},
   "outputs": [
    {
     "name": "stdout",
     "output_type": "stream",
     "text": [
      "hello good morning\n"
     ]
    }
   ],
   "source": [
    "print('hello',end=' ')\n",
    "print('good morning')"
   ]
  },
  {
   "cell_type": "markdown",
   "id": "91a197c8-b0ca-4cb9-9ec0-0fa288f571a3",
   "metadata": {},
   "source": [
    "# seperator"
   ]
  },
  {
   "cell_type": "code",
   "execution_count": 39,
   "id": "fcd9ea55-2270-492f-9009-218bbc63ad76",
   "metadata": {},
   "outputs": [
    {
     "name": "stdout",
     "output_type": "stream",
     "text": [
      "hello-->hi-->how are you\n"
     ]
    }
   ],
   "source": [
    "print('hello','hi','how are you',sep='-->')"
   ]
  },
  {
   "cell_type": "code",
   "execution_count": 41,
   "id": "21467f85-2162-4ab6-b238-15a9d8c4825c",
   "metadata": {},
   "outputs": [
    {
     "name": "stdout",
     "output_type": "stream",
     "text": [
      "hello&hi&how are you\n"
     ]
    }
   ],
   "source": [
    "print('hello','hi','how are you',sep='&')"
   ]
  },
  {
   "cell_type": "code",
   "execution_count": 43,
   "id": "6c60afbb-9b14-423e-a803-9fcedfcf96fd",
   "metadata": {},
   "outputs": [
    {
     "name": "stdout",
     "output_type": "stream",
     "text": [
      "3 .\n"
     ]
    }
   ],
   "source": [
    "print(3,'.')"
   ]
  },
  {
   "cell_type": "code",
   "execution_count": 55,
   "id": "3eafb0fb-35a1-4c96-a052-f31b2eb3d659",
   "metadata": {},
   "outputs": [
    {
     "name": "stdout",
     "output_type": "stream",
     "text": [
      "3.\n"
     ]
    }
   ],
   "source": [
    "print(3,'.',sep='')"
   ]
  },
  {
   "cell_type": "code",
   "execution_count": 59,
   "id": "b3aad736-8b7f-4f05-8347-1f6e0d4fb0a1",
   "metadata": {},
   "outputs": [
    {
     "name": "stdout",
     "output_type": "stream",
     "text": [
      "1 2 3      .\n"
     ]
    }
   ],
   "source": [
    "print(1,2,end=' ')\n",
    "print(3,'.',sep='      ')"
   ]
  },
  {
   "cell_type": "code",
   "execution_count": null,
   "id": "a6d31693-398d-464c-8ee3-36e6a677071a",
   "metadata": {},
   "outputs": [],
   "source": []
  }
 ],
 "metadata": {
  "kernelspec": {
   "display_name": "Python 3 (ipykernel)",
   "language": "python",
   "name": "python3"
  },
  "language_info": {
   "codemirror_mode": {
    "name": "ipython",
    "version": 3
   },
   "file_extension": ".py",
   "mimetype": "text/x-python",
   "name": "python",
   "nbconvert_exporter": "python",
   "pygments_lexer": "ipython3",
   "version": "3.12.4"
  }
 },
 "nbformat": 4,
 "nbformat_minor": 5
}
