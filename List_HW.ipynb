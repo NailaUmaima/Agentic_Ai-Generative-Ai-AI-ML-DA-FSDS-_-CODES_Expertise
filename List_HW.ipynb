{
 "cells": [
  {
   "cell_type": "markdown",
   "id": "839b1de4-2aa1-43bc-a74d-3ebd6517707a",
   "metadata": {},
   "source": [
    "**List**"
   ]
  },
  {
   "cell_type": "markdown",
   "id": "f4698d8a-4358-40f1-a1a5-9b4441e0e66c",
   "metadata": {},
   "source": [
    "1) List is an ordered sequence of items.\n",
    "2) We can have different data types under a list. E.g we can have integer, float and string items in a same list.\n"
   ]
  },
  {
   "cell_type": "code",
   "execution_count": 3,
   "id": "55cf9030-d37c-492c-b7a4-8c5c27b30aa1",
   "metadata": {},
   "outputs": [
    {
     "name": "stdout",
     "output_type": "stream",
     "text": [
      "<class 'list'>\n"
     ]
    }
   ],
   "source": [
    "list1=[]\n",
    "print(type(list1))"
   ]
  },
  {
   "cell_type": "code",
   "execution_count": 4,
   "id": "047aa4fc-8267-4758-8eb7-0229f8d8d5ef",
   "metadata": {},
   "outputs": [
    {
     "data": {
      "text/plain": [
       "[10, 30, 40]"
      ]
     },
     "execution_count": 4,
     "metadata": {},
     "output_type": "execute_result"
    }
   ],
   "source": [
    "list2=[10,30,40]\n",
    "list2"
   ]
  },
  {
   "cell_type": "code",
   "execution_count": 5,
   "id": "43142a31-10da-45e5-a603-15b4f93d504d",
   "metadata": {},
   "outputs": [
    {
     "data": {
      "text/plain": [
       "[10.77, 30.66, 60.88]"
      ]
     },
     "execution_count": 5,
     "metadata": {},
     "output_type": "execute_result"
    }
   ],
   "source": [
    "list3=[10.77,30.66,60.88]\n",
    "list3"
   ]
  },
  {
   "cell_type": "code",
   "execution_count": 6,
   "id": "d610c924-8a80-46ce-861e-77185cd370eb",
   "metadata": {},
   "outputs": [
    {
     "data": {
      "text/plain": [
       "['one', 'two', 'three']"
      ]
     },
     "execution_count": 6,
     "metadata": {},
     "output_type": "execute_result"
    }
   ],
   "source": [
    "list4=['one','two','three']\n",
    "list4"
   ]
  },
  {
   "cell_type": "code",
   "execution_count": 7,
   "id": "17b6fe2d-ec37-464a-b307-8d1b9d57b16c",
   "metadata": {},
   "outputs": [
    {
     "data": {
      "text/plain": [
       "['abc', 10, [10, 20, 30], [40, 50]]"
      ]
     },
     "execution_count": 7,
     "metadata": {},
     "output_type": "execute_result"
    }
   ],
   "source": [
    "list5=['abc',10,[10,20,30],[40,50]]\n",
    "list5"
   ]
  },
  {
   "cell_type": "code",
   "execution_count": 8,
   "id": "f7263fc2-e8f7-47d1-b908-40ecd74b80f2",
   "metadata": {},
   "outputs": [
    {
     "data": {
      "text/plain": [
       "['john', 100, 17.765]"
      ]
     },
     "execution_count": 8,
     "metadata": {},
     "output_type": "execute_result"
    }
   ],
   "source": [
    "list6=['john',100,17.765]\n",
    "list6"
   ]
  },
  {
   "cell_type": "code",
   "execution_count": 9,
   "id": "439d0eaa-934f-4e34-9293-5afddde43e23",
   "metadata": {},
   "outputs": [
    {
     "data": {
      "text/plain": [
       "['john', 25, [50, 100], [150, 90], {'gem', 'tom'}]"
      ]
     },
     "execution_count": 9,
     "metadata": {},
     "output_type": "execute_result"
    }
   ],
   "source": [
    "list7=['john',25,[50,100],[150,90],{'gem','tom'}]\n",
    "list7"
   ]
  },
  {
   "cell_type": "code",
   "execution_count": 10,
   "id": "3720dba3-5ffa-49ff-b4ab-80f5a09cff28",
   "metadata": {},
   "outputs": [
    {
     "data": {
      "text/plain": [
       "3"
      ]
     },
     "execution_count": 10,
     "metadata": {},
     "output_type": "execute_result"
    }
   ],
   "source": [
    "len(list6)"
   ]
  },
  {
   "cell_type": "markdown",
   "id": "caa052a6-8c30-4cdd-8e5c-e9a8906df776",
   "metadata": {},
   "source": [
    "**Indexing**"
   ]
  },
  {
   "cell_type": "code",
   "execution_count": 12,
   "id": "68468f99-1d50-4b56-8ffb-6fee85ff28a1",
   "metadata": {},
   "outputs": [
    {
     "data": {
      "text/plain": [
       "[10, 30, 40]"
      ]
     },
     "execution_count": 12,
     "metadata": {},
     "output_type": "execute_result"
    }
   ],
   "source": [
    "list2"
   ]
  },
  {
   "cell_type": "code",
   "execution_count": 13,
   "id": "082de5a3-eae2-4f3b-8c7c-84a541d41b06",
   "metadata": {},
   "outputs": [
    {
     "data": {
      "text/plain": [
       "10"
      ]
     },
     "execution_count": 13,
     "metadata": {},
     "output_type": "execute_result"
    }
   ],
   "source": [
    "list2[0]"
   ]
  },
  {
   "cell_type": "code",
   "execution_count": 14,
   "id": "5c087e75-ec20-41d3-a5e2-3c16a875619c",
   "metadata": {},
   "outputs": [
    {
     "data": {
      "text/plain": [
       "['one', 'two', 'three']"
      ]
     },
     "execution_count": 14,
     "metadata": {},
     "output_type": "execute_result"
    }
   ],
   "source": [
    "list4"
   ]
  },
  {
   "cell_type": "code",
   "execution_count": 15,
   "id": "27d0f839-4f6d-49aa-96fa-d9b3e3603b2c",
   "metadata": {},
   "outputs": [
    {
     "data": {
      "text/plain": [
       "'one'"
      ]
     },
     "execution_count": 15,
     "metadata": {},
     "output_type": "execute_result"
    }
   ],
   "source": [
    "list4[0]"
   ]
  },
  {
   "cell_type": "code",
   "execution_count": 16,
   "id": "c1494ba7-4c27-4bae-a2ac-fc130d1e93d8",
   "metadata": {},
   "outputs": [
    {
     "data": {
      "text/plain": [
       "'o'"
      ]
     },
     "execution_count": 16,
     "metadata": {},
     "output_type": "execute_result"
    }
   ],
   "source": [
    "list4[0][0]"
   ]
  },
  {
   "cell_type": "code",
   "execution_count": 17,
   "id": "0f3a74aa-1490-4c64-96bc-45f084259d9e",
   "metadata": {},
   "outputs": [
    {
     "data": {
      "text/plain": [
       "'three'"
      ]
     },
     "execution_count": 17,
     "metadata": {},
     "output_type": "execute_result"
    }
   ],
   "source": [
    "list4[-1]"
   ]
  },
  {
   "cell_type": "code",
   "execution_count": 18,
   "id": "e3cd1c65-ca5e-4f9d-8987-ad5942caedf9",
   "metadata": {},
   "outputs": [
    {
     "data": {
      "text/plain": [
       "['abc', 10, [10, 20, 30], [40, 50]]"
      ]
     },
     "execution_count": 18,
     "metadata": {},
     "output_type": "execute_result"
    }
   ],
   "source": [
    "list5"
   ]
  },
  {
   "cell_type": "code",
   "execution_count": 19,
   "id": "f952795b-7ebc-484f-9036-e11e67d0f88f",
   "metadata": {},
   "outputs": [
    {
     "data": {
      "text/plain": [
       "[40, 50]"
      ]
     },
     "execution_count": 19,
     "metadata": {},
     "output_type": "execute_result"
    }
   ],
   "source": [
    "list5[-1]"
   ]
  },
  {
   "cell_type": "markdown",
   "id": "2e716db7-8226-403c-a38d-76c80d8f8187",
   "metadata": {},
   "source": [
    "**Slicing**"
   ]
  },
  {
   "cell_type": "code",
   "execution_count": 21,
   "id": "5629824f-39da-478f-862a-82fca77f52b9",
   "metadata": {},
   "outputs": [
    {
     "data": {
      "text/plain": [
       "['one', 'two', 'three', 'four', 'five', 'six', 'seven', 'eight']"
      ]
     },
     "execution_count": 21,
     "metadata": {},
     "output_type": "execute_result"
    }
   ],
   "source": [
    "mylist=['one','two','three','four','five','six','seven','eight']\n",
    "mylist"
   ]
  },
  {
   "cell_type": "code",
   "execution_count": 22,
   "id": "905983b0-2f09-453e-9ed4-947e3c3f0115",
   "metadata": {},
   "outputs": [
    {
     "data": {
      "text/plain": [
       "['one', 'two', 'three']"
      ]
     },
     "execution_count": 22,
     "metadata": {},
     "output_type": "execute_result"
    }
   ],
   "source": [
    "mylist[0:3]"
   ]
  },
  {
   "cell_type": "code",
   "execution_count": 23,
   "id": "206ea320-3ba6-4383-9031-ab707fe77ccd",
   "metadata": {},
   "outputs": [
    {
     "data": {
      "text/plain": [
       "['one', 'two', 'three', 'four', 'five', 'six', 'seven', 'eight']"
      ]
     },
     "execution_count": 23,
     "metadata": {},
     "output_type": "execute_result"
    }
   ],
   "source": [
    "mylist"
   ]
  },
  {
   "cell_type": "code",
   "execution_count": 24,
   "id": "80218797-f345-4509-8c72-42b2ce4118d8",
   "metadata": {},
   "outputs": [
    {
     "data": {
      "text/plain": [
       "['three', 'four', 'five']"
      ]
     },
     "execution_count": 24,
     "metadata": {},
     "output_type": "execute_result"
    }
   ],
   "source": [
    "mylist[2:5]"
   ]
  },
  {
   "cell_type": "code",
   "execution_count": 25,
   "id": "1624aafd-0b2a-4de1-b023-a8b70a563ea5",
   "metadata": {},
   "outputs": [
    {
     "data": {
      "text/plain": [
       "['one', 'two', 'three']"
      ]
     },
     "execution_count": 25,
     "metadata": {},
     "output_type": "execute_result"
    }
   ],
   "source": [
    "mylist[:3]"
   ]
  },
  {
   "cell_type": "code",
   "execution_count": 26,
   "id": "860705f4-2114-43b8-b7d0-eb48ab75a6f8",
   "metadata": {},
   "outputs": [
    {
     "data": {
      "text/plain": [
       "['one', 'two']"
      ]
     },
     "execution_count": 26,
     "metadata": {},
     "output_type": "execute_result"
    }
   ],
   "source": [
    "mylist[:2]"
   ]
  },
  {
   "cell_type": "code",
   "execution_count": 27,
   "id": "d48d84cc-ddb1-4b00-919b-32a81a883537",
   "metadata": {},
   "outputs": [
    {
     "data": {
      "text/plain": [
       "['six', 'seven', 'eight']"
      ]
     },
     "execution_count": 27,
     "metadata": {},
     "output_type": "execute_result"
    }
   ],
   "source": [
    "mylist[-3:]"
   ]
  },
  {
   "cell_type": "code",
   "execution_count": 28,
   "id": "07bac21f-fd14-46ad-85e4-15a6e6088a9a",
   "metadata": {},
   "outputs": [
    {
     "data": {
      "text/plain": [
       "['seven', 'eight']"
      ]
     },
     "execution_count": 28,
     "metadata": {},
     "output_type": "execute_result"
    }
   ],
   "source": [
    "mylist[-2:]"
   ]
  },
  {
   "cell_type": "code",
   "execution_count": 29,
   "id": "0bb18b18-5771-4f1d-bf6f-7cd2ed27699f",
   "metadata": {},
   "outputs": [
    {
     "data": {
      "text/plain": [
       "'eight'"
      ]
     },
     "execution_count": 29,
     "metadata": {},
     "output_type": "execute_result"
    }
   ],
   "source": [
    "mylist[-1]"
   ]
  },
  {
   "cell_type": "code",
   "execution_count": 30,
   "id": "5e9c03c2-1a75-409f-9e4d-fbbea10cc58b",
   "metadata": {},
   "outputs": [
    {
     "data": {
      "text/plain": [
       "['one', 'two', 'three', 'four', 'five', 'six', 'seven', 'eight']"
      ]
     },
     "execution_count": 30,
     "metadata": {},
     "output_type": "execute_result"
    }
   ],
   "source": [
    "mylist[:]"
   ]
  },
  {
   "cell_type": "markdown",
   "id": "88934795-d180-4132-b9c6-fe8f76d98c83",
   "metadata": {},
   "source": [
    "**add remove and change items**"
   ]
  },
  {
   "cell_type": "code",
   "execution_count": 32,
   "id": "6e923feb-13ae-4b36-ba07-279bc69fc929",
   "metadata": {},
   "outputs": [
    {
     "data": {
      "text/plain": [
       "['one', 'two', 'three', 'four', 'five', 'six', 'seven', 'eight']"
      ]
     },
     "execution_count": 32,
     "metadata": {},
     "output_type": "execute_result"
    }
   ],
   "source": [
    "mylist"
   ]
  },
  {
   "cell_type": "code",
   "execution_count": 33,
   "id": "1f02f1e8-68c6-4268-9a04-2603442c88f0",
   "metadata": {},
   "outputs": [],
   "source": [
    "mylist.append('nine')"
   ]
  },
  {
   "cell_type": "code",
   "execution_count": 34,
   "id": "b46481c4-d1f1-4c9f-b4db-3e8da5f7e97d",
   "metadata": {},
   "outputs": [
    {
     "data": {
      "text/plain": [
       "['one', 'two', 'three', 'four', 'five', 'six', 'seven', 'eight', 'nine']"
      ]
     },
     "execution_count": 34,
     "metadata": {},
     "output_type": "execute_result"
    }
   ],
   "source": [
    "mylist"
   ]
  },
  {
   "cell_type": "code",
   "execution_count": 35,
   "id": "ad8d7b4b-7432-48ba-a1d9-4143b7d6aac2",
   "metadata": {},
   "outputs": [
    {
     "data": {
      "text/plain": [
       "['one', 'two', 'three', 'four', 'five', 'six', 'seven', 'eight', 'nine', 'ten']"
      ]
     },
     "execution_count": 35,
     "metadata": {},
     "output_type": "execute_result"
    }
   ],
   "source": [
    "mylist.insert(9,'ten')\n",
    "mylist"
   ]
  },
  {
   "cell_type": "code",
   "execution_count": 36,
   "id": "4cb6aa18-9fe0-4093-8d92-5e6eab8d8ae2",
   "metadata": {},
   "outputs": [
    {
     "data": {
      "text/plain": [
       "['one',\n",
       " 'ONE',\n",
       " 'two',\n",
       " 'three',\n",
       " 'four',\n",
       " 'five',\n",
       " 'six',\n",
       " 'seven',\n",
       " 'eight',\n",
       " 'nine',\n",
       " 'ten']"
      ]
     },
     "execution_count": 36,
     "metadata": {},
     "output_type": "execute_result"
    }
   ],
   "source": [
    "mylist.insert(1,'ONE')\n",
    "mylist"
   ]
  },
  {
   "cell_type": "code",
   "execution_count": 37,
   "id": "428f49d0-482f-4306-bfef-b1a2ae538a27",
   "metadata": {},
   "outputs": [
    {
     "data": {
      "text/plain": [
       "['one',\n",
       " 'ONE',\n",
       " 'two',\n",
       " 'three',\n",
       " 'four',\n",
       " 'five',\n",
       " 'six',\n",
       " 'seven',\n",
       " 'eight',\n",
       " 'nine',\n",
       " 'ten']"
      ]
     },
     "execution_count": 37,
     "metadata": {},
     "output_type": "execute_result"
    }
   ],
   "source": [
    "mylist\n"
   ]
  },
  {
   "cell_type": "code",
   "execution_count": 38,
   "id": "15d2efa7-1ae9-4421-af11-977cceca5fe9",
   "metadata": {},
   "outputs": [
    {
     "ename": "ValueError",
     "evalue": "list.remove(x): x not in list",
     "output_type": "error",
     "traceback": [
      "\u001b[0;31m---------------------------------------------------------------------------\u001b[0m",
      "\u001b[0;31mValueError\u001b[0m                                Traceback (most recent call last)",
      "Cell \u001b[0;32mIn[38], line 1\u001b[0m\n\u001b[0;32m----> 1\u001b[0m mylist\u001b[38;5;241m.\u001b[39mremove(\u001b[38;5;124m'\u001b[39m\u001b[38;5;124mTwo\u001b[39m\u001b[38;5;124m'\u001b[39m)\n\u001b[1;32m      2\u001b[0m mylist\n",
      "\u001b[0;31mValueError\u001b[0m: list.remove(x): x not in list"
     ]
    }
   ],
   "source": [
    "mylist.remove('Two')\n",
    "mylist"
   ]
  },
  {
   "cell_type": "code",
   "execution_count": null,
   "id": "aaedefba-bda5-46f7-bc8e-4d113a18f111",
   "metadata": {},
   "outputs": [],
   "source": [
    "mylist.pop()"
   ]
  },
  {
   "cell_type": "code",
   "execution_count": null,
   "id": "d53b07a8-2c32-44ff-8590-fa6206d32e98",
   "metadata": {},
   "outputs": [],
   "source": [
    "mylist"
   ]
  },
  {
   "cell_type": "code",
   "execution_count": null,
   "id": "081845c1-4272-4096-aaa7-52be2cc44145",
   "metadata": {},
   "outputs": [],
   "source": [
    "mylist.pop(8)"
   ]
  },
  {
   "cell_type": "code",
   "execution_count": null,
   "id": "298f81dd-3d1f-4cf7-9d69-8152abaef53e",
   "metadata": {},
   "outputs": [],
   "source": [
    "mylist"
   ]
  },
  {
   "cell_type": "code",
   "execution_count": null,
   "id": "e8837f7c-9e85-4e72-bac8-a83ffe8344c0",
   "metadata": {},
   "outputs": [],
   "source": [
    "del mylist[7]\n",
    "mylist"
   ]
  },
  {
   "cell_type": "code",
   "execution_count": null,
   "id": "2491b050-5cff-4a1b-84d9-411d9b0c52df",
   "metadata": {},
   "outputs": [],
   "source": [
    "mylist[0]=1\n",
    "mylist[1]=2\n",
    "mylist[2]=3\n",
    "mylist"
   ]
  },
  {
   "cell_type": "code",
   "execution_count": null,
   "id": "fa593df8-d12d-4f0f-8c3f-2b3be1d66ab7",
   "metadata": {},
   "outputs": [],
   "source": [
    "mylist.clear()\n",
    "mylist"
   ]
  },
  {
   "cell_type": "code",
   "execution_count": null,
   "id": "368406b5-91d6-49e8-9fed-90a71193ca19",
   "metadata": {},
   "outputs": [],
   "source": [
    "del mylist"
   ]
  },
  {
   "cell_type": "code",
   "execution_count": null,
   "id": "8e963b80-756f-4c07-92d2-65d61f470940",
   "metadata": {},
   "outputs": [],
   "source": [
    "mylist"
   ]
  },
  {
   "cell_type": "markdown",
   "id": "2db4ee57-5577-4d8c-924f-c64b90663d35",
   "metadata": {},
   "source": [
    "**copy List**"
   ]
  },
  {
   "cell_type": "code",
   "execution_count": null,
   "id": "9713b042-2545-409a-88a9-aabe74bcea9e",
   "metadata": {},
   "outputs": [],
   "source": [
    "mylist=['one', 'two', 'three', 'four', 'five', 'six', 'seven', 'eight', 'nine', 'ten']"
   ]
  },
  {
   "cell_type": "code",
   "execution_count": null,
   "id": "98656152-e37e-4df3-a64d-d51462b8455c",
   "metadata": {},
   "outputs": [],
   "source": [
    "mylist1=mylist"
   ]
  },
  {
   "cell_type": "code",
   "execution_count": null,
   "id": "b1ea1b6c-e736-42bc-8875-69823da55931",
   "metadata": {},
   "outputs": [],
   "source": [
    "id(mylist) ,id(mylist1)"
   ]
  },
  {
   "cell_type": "code",
   "execution_count": null,
   "id": "e08909db-bf91-4b00-a8a4-53f16f188d53",
   "metadata": {},
   "outputs": [],
   "source": [
    "mylist2=mylist.copy()"
   ]
  },
  {
   "cell_type": "code",
   "execution_count": null,
   "id": "d04b9b40-0501-425d-ae0c-e367ffa69ecb",
   "metadata": {},
   "outputs": [],
   "source": [
    "id(mylist2)"
   ]
  },
  {
   "cell_type": "code",
   "execution_count": null,
   "id": "a5d03534-4ebe-497e-8bb3-2f09e5bb4f60",
   "metadata": {},
   "outputs": [],
   "source": [
    "mylist[0]=1\n",
    "mylist"
   ]
  },
  {
   "cell_type": "code",
   "execution_count": null,
   "id": "98eff55d-cd4b-4543-9e97-361d0f49e449",
   "metadata": {},
   "outputs": [],
   "source": [
    "mylist1"
   ]
  },
  {
   "cell_type": "code",
   "execution_count": null,
   "id": "65af7d21-2078-4577-ba89-7f07b19aab35",
   "metadata": {},
   "outputs": [],
   "source": [
    "mylist2"
   ]
  },
  {
   "cell_type": "markdown",
   "id": "9afb118a-d278-4ad5-a4c5-3968b51f00fc",
   "metadata": {},
   "source": [
    "**join lists**"
   ]
  },
  {
   "cell_type": "code",
   "execution_count": null,
   "id": "58d7e5e0-e259-48a6-b988-4e28f18cb7a8",
   "metadata": {},
   "outputs": [],
   "source": [
    "list1=['one', 'two', 'three', 'four']\n",
    "list2=['five', 'six', 'seven', 'eight']"
   ]
  },
  {
   "cell_type": "code",
   "execution_count": null,
   "id": "9a5d45d5-8ff9-44d1-811c-db0f536a9f33",
   "metadata": {},
   "outputs": [],
   "source": [
    "list3=mylist1+mylist2"
   ]
  },
  {
   "cell_type": "code",
   "execution_count": null,
   "id": "2cf5267e-2831-4055-a2e0-a2a87f301e22",
   "metadata": {},
   "outputs": [],
   "source": [
    "list3"
   ]
  },
  {
   "cell_type": "code",
   "execution_count": null,
   "id": "7e63f926-fe25-4166-8f26-1af3ec2a70fb",
   "metadata": {},
   "outputs": [],
   "source": [
    "list1.extend(list2)"
   ]
  },
  {
   "cell_type": "code",
   "execution_count": null,
   "id": "dd8e6c5c-e570-4667-900b-33cc30b0f2bc",
   "metadata": {},
   "outputs": [],
   "source": [
    "list1"
   ]
  },
  {
   "cell_type": "markdown",
   "id": "69fc93b0-2443-42a7-809c-7f2ff6a4f33a",
   "metadata": {},
   "source": [
    "**list membership**"
   ]
  },
  {
   "cell_type": "code",
   "execution_count": null,
   "id": "816dc3e7-1169-4952-9546-04fe4146d0d9",
   "metadata": {},
   "outputs": [],
   "source": [
    "list1"
   ]
  },
  {
   "cell_type": "code",
   "execution_count": null,
   "id": "285d9980-2e98-488e-8d35-db5ca97f855e",
   "metadata": {},
   "outputs": [],
   "source": [
    "'one' in list1"
   ]
  },
  {
   "cell_type": "code",
   "execution_count": null,
   "id": "256c18df-265b-4fd9-b083-723af9691816",
   "metadata": {},
   "outputs": [],
   "source": [
    "'ten' in list1"
   ]
  },
  {
   "cell_type": "code",
   "execution_count": null,
   "id": "d5127d19-163e-4391-8833-e11915971cdb",
   "metadata": {},
   "outputs": [],
   "source": [
    "if 'three' in list1:\n",
    "    print('three is in list1')\n",
    "else:\n",
    "    print('error')"
   ]
  },
  {
   "cell_type": "code",
   "execution_count": null,
   "id": "5631663b-8db5-4f08-901b-5f253c8feb4b",
   "metadata": {},
   "outputs": [],
   "source": [
    "if 'eleven' in list1:\n",
    "    print('present')\n",
    "else:\n",
    "    print('error')"
   ]
  },
  {
   "cell_type": "markdown",
   "id": "28c46a49-4d54-4fbe-8d27-9c534850b45a",
   "metadata": {},
   "source": [
    "**reverse&sort list**"
   ]
  },
  {
   "cell_type": "code",
   "execution_count": null,
   "id": "f1acba66-740b-451e-a8ac-3618c1fc4e82",
   "metadata": {},
   "outputs": [],
   "source": [
    "list1"
   ]
  },
  {
   "cell_type": "code",
   "execution_count": null,
   "id": "a0448219-1ec4-43f1-8213-385c103ce823",
   "metadata": {},
   "outputs": [],
   "source": [
    "list1.reverse()"
   ]
  },
  {
   "cell_type": "code",
   "execution_count": null,
   "id": "8a4ea4ba-9f31-4c99-9776-bef4b412fd1e",
   "metadata": {},
   "outputs": [],
   "source": [
    "list1"
   ]
  },
  {
   "cell_type": "code",
   "execution_count": null,
   "id": "9d88a482-5cfd-430d-94dd-6c9f85e2caed",
   "metadata": {},
   "outputs": [],
   "source": [
    "list1[::-1]"
   ]
  },
  {
   "cell_type": "code",
   "execution_count": null,
   "id": "cc61f2fa-b74c-4253-98d9-8d638faa0003",
   "metadata": {},
   "outputs": [],
   "source": [
    "mylist3=[200,10,9,100,60]\n",
    "mylist3.sort()\n",
    "mylist3"
   ]
  },
  {
   "cell_type": "code",
   "execution_count": null,
   "id": "dcf3325a-b945-43f3-9786-9f681b06b1bb",
   "metadata": {},
   "outputs": [],
   "source": [
    "\n",
    "mylist3.sort(reverse=True)\n",
    "mylist3"
   ]
  },
  {
   "cell_type": "code",
   "execution_count": null,
   "id": "066e746a-b819-42fd-85a4-dfa56b0456d5",
   "metadata": {},
   "outputs": [],
   "source": [
    "mylist4 = [88,65,33,21,11,98]\n",
    "sorted(mylist4) "
   ]
  },
  {
   "cell_type": "code",
   "execution_count": null,
   "id": "af412f95-852d-440f-9e4a-333b0ba0a3ab",
   "metadata": {},
   "outputs": [],
   "source": [
    "mylist4"
   ]
  },
  {
   "cell_type": "markdown",
   "id": "a27c6f9e-c24a-4e7e-b7c9-0b7c9736dd60",
   "metadata": {},
   "source": [
    "**loop through list**"
   ]
  },
  {
   "cell_type": "code",
   "execution_count": null,
   "id": "7a6c242d-5867-497c-883e-bae8900f15fc",
   "metadata": {},
   "outputs": [],
   "source": [
    "list1"
   ]
  },
  {
   "cell_type": "code",
   "execution_count": null,
   "id": "18d5a717-8026-4aff-9b7e-e39602bae8c8",
   "metadata": {},
   "outputs": [],
   "source": [
    "for i in list1:\n",
    "    print(i)\n"
   ]
  },
  {
   "cell_type": "code",
   "execution_count": null,
   "id": "26f27a13-2802-4618-b257-ac424076da40",
   "metadata": {},
   "outputs": [],
   "source": [
    "for i in enumerate(list1):\n",
    "    print(i)"
   ]
  },
  {
   "cell_type": "markdown",
   "id": "87fc4e0d-3959-4981-b518-94affa8bb758",
   "metadata": {},
   "source": [
    "**count**"
   ]
  },
  {
   "cell_type": "code",
   "execution_count": null,
   "id": "8f8b6c00-9223-47dc-b7cf-6db2374fb7f0",
   "metadata": {},
   "outputs": [],
   "source": [
    "list10 =['one', 'two', 'three', 'four', 'one', 'one', 'two', 'three']"
   ]
  },
  {
   "cell_type": "code",
   "execution_count": null,
   "id": "e3f1ab5f-83ff-441a-8370-80e3aa01512e",
   "metadata": {},
   "outputs": [],
   "source": [
    "list10.count('one')"
   ]
  },
  {
   "cell_type": "code",
   "execution_count": null,
   "id": "05a14bd4-e08c-4092-b87c-3bcb6bc35f95",
   "metadata": {},
   "outputs": [],
   "source": [
    "list10.count('two')"
   ]
  },
  {
   "cell_type": "code",
   "execution_count": null,
   "id": "e0d43aeb-e33e-4eeb-b0b6-7a442c70e323",
   "metadata": {},
   "outputs": [],
   "source": [
    "list10.count('four')"
   ]
  },
  {
   "cell_type": "code",
   "execution_count": null,
   "id": "c8cf2f1f-3a9c-4197-97ed-20ffa99d0d0a",
   "metadata": {},
   "outputs": [],
   "source": [
    "L1 = [1,2,3,4,0]"
   ]
  },
  {
   "cell_type": "code",
   "execution_count": null,
   "id": "a2f7bbf2-9020-41c9-b559-04fcad9d9d20",
   "metadata": {},
   "outputs": [],
   "source": [
    "all(L1)"
   ]
  },
  {
   "cell_type": "code",
   "execution_count": null,
   "id": "d709913b-7567-4893-bdcf-c52aa885e479",
   "metadata": {},
   "outputs": [],
   "source": [
    "any(L1)"
   ]
  },
  {
   "cell_type": "code",
   "execution_count": null,
   "id": "53ca1c41-8327-403d-b06f-53def798664a",
   "metadata": {},
   "outputs": [],
   "source": [
    "L2 = [1,2,3,4,True,False]"
   ]
  },
  {
   "cell_type": "code",
   "execution_count": null,
   "id": "f1ad775d-9d6a-408d-9ddb-985c02eb84b1",
   "metadata": {},
   "outputs": [],
   "source": [
    "all(L2)"
   ]
  },
  {
   "cell_type": "code",
   "execution_count": null,
   "id": "c2cdb618-d47b-4e23-80d0-41d16834bf05",
   "metadata": {},
   "outputs": [],
   "source": [
    "any(L2)"
   ]
  },
  {
   "cell_type": "code",
   "execution_count": null,
   "id": "a2e8a696-1026-4964-a3bf-003d80e54b3e",
   "metadata": {},
   "outputs": [],
   "source": [
    "L3 = [1,2,3,True]"
   ]
  },
  {
   "cell_type": "code",
   "execution_count": null,
   "id": "f6e3c3cb-3506-4c34-bffc-cb1ac8715abf",
   "metadata": {},
   "outputs": [],
   "source": [
    "all(L3)"
   ]
  },
  {
   "cell_type": "code",
   "execution_count": null,
   "id": "2b0b3efd-fe79-4e7e-aaab-7f50adb44b04",
   "metadata": {},
   "outputs": [],
   "source": [
    "any(L3)"
   ]
  },
  {
   "cell_type": "code",
   "execution_count": null,
   "id": "0adf75b3-1f7c-4e66-afb3-e0c2c5f86833",
   "metadata": {},
   "outputs": [],
   "source": []
  }
 ],
 "metadata": {
  "kernelspec": {
   "display_name": "Python 3 (ipykernel)",
   "language": "python",
   "name": "python3"
  },
  "language_info": {
   "codemirror_mode": {
    "name": "ipython",
    "version": 3
   },
   "file_extension": ".py",
   "mimetype": "text/x-python",
   "name": "python",
   "nbconvert_exporter": "python",
   "pygments_lexer": "ipython3",
   "version": "3.12.4"
  }
 },
 "nbformat": 4,
 "nbformat_minor": 5
}
