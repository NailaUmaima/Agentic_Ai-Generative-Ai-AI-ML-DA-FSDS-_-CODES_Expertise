{
 "cells": [
  {
   "cell_type": "markdown",
   "id": "3bd346c8-0a3c-4d90-aa15-977214b36ca0",
   "metadata": {},
   "source": []
  },
  {
   "cell_type": "code",
   "execution_count": 1,
   "id": "59600d6a-4eb1-4f38-b9d9-13e97d6bedcc",
   "metadata": {},
   "outputs": [
    {
     "data": {
      "text/plain": [
       "{}"
      ]
     },
     "execution_count": 1,
     "metadata": {},
     "output_type": "execute_result"
    }
   ],
   "source": [
    "mydict=dict()\n",
    "mydict"
   ]
  },
  {
   "cell_type": "code",
   "execution_count": 3,
   "id": "3fab5848-0e88-4348-8d0d-dfd553a1fcc5",
   "metadata": {},
   "outputs": [
    {
     "data": {
      "text/plain": [
       "dict"
      ]
     },
     "execution_count": 3,
     "metadata": {},
     "output_type": "execute_result"
    }
   ],
   "source": [
    "type(mydict)"
   ]
  },
  {
   "cell_type": "code",
   "execution_count": 5,
   "id": "77eb4976-a216-481a-acd7-4f5861c0f0be",
   "metadata": {},
   "outputs": [
    {
     "data": {
      "text/plain": [
       "{}"
      ]
     },
     "execution_count": 5,
     "metadata": {},
     "output_type": "execute_result"
    }
   ],
   "source": [
    "mydict={}\n",
    "mydict"
   ]
  },
  {
   "cell_type": "code",
   "execution_count": 7,
   "id": "417fc666-f33e-4601-b239-f543c8a43df6",
   "metadata": {},
   "outputs": [
    {
     "data": {
      "text/plain": [
       "{1: 'one', 2: 'two', 3: 'three'}"
      ]
     },
     "execution_count": 7,
     "metadata": {},
     "output_type": "execute_result"
    }
   ],
   "source": [
    "mydict={1:'one',2:'two',3:'three'}\n",
    "mydict"
   ]
  },
  {
   "cell_type": "code",
   "execution_count": 9,
   "id": "9f459e18-8689-4d91-85cd-f2a46d533814",
   "metadata": {},
   "outputs": [
    {
     "data": {
      "text/plain": [
       "{1: 'one', 2: 'two', 3: 'three'}"
      ]
     },
     "execution_count": 9,
     "metadata": {},
     "output_type": "execute_result"
    }
   ],
   "source": [
    "mydict=dict({1:'one',2:'two',3:'three'})\n",
    "mydict"
   ]
  },
  {
   "cell_type": "code",
   "execution_count": 13,
   "id": "107612ce-8512-4565-a67e-880a4f993744",
   "metadata": {},
   "outputs": [
    {
     "data": {
      "text/plain": [
       "{'A': 'one', 'B': 'two', 'C': 'three'}"
      ]
     },
     "execution_count": 13,
     "metadata": {},
     "output_type": "execute_result"
    }
   ],
   "source": [
    "mydict={'A':'one','B':'two','C':'three'}\n",
    "mydict"
   ]
  },
  {
   "cell_type": "code",
   "execution_count": 15,
   "id": "c6a314e9-10fc-4e08-a535-0182e4dd5643",
   "metadata": {},
   "outputs": [
    {
     "data": {
      "text/plain": [
       "{1: 'one', 2: 'two', 3: 'three'}"
      ]
     },
     "execution_count": 15,
     "metadata": {},
     "output_type": "execute_result"
    }
   ],
   "source": [
    "mydict={1:'one',2:'two',3:'three'}\n",
    "mydict"
   ]
  },
  {
   "cell_type": "code",
   "execution_count": 19,
   "id": "e3abab5e-905c-4f32-9b76-49228e285627",
   "metadata": {},
   "outputs": [
    {
     "data": {
      "text/plain": [
       "dict_keys([1, 2, 3])"
      ]
     },
     "execution_count": 19,
     "metadata": {},
     "output_type": "execute_result"
    }
   ],
   "source": [
    "mydict.keys()"
   ]
  },
  {
   "cell_type": "code",
   "execution_count": 21,
   "id": "20a7f6c0-dfe2-4196-a2d9-ae6a20fff1a5",
   "metadata": {},
   "outputs": [
    {
     "data": {
      "text/plain": [
       "dict_values(['one', 'two', 'three'])"
      ]
     },
     "execution_count": 21,
     "metadata": {},
     "output_type": "execute_result"
    }
   ],
   "source": [
    "mydict.values()"
   ]
  },
  {
   "cell_type": "code",
   "execution_count": 23,
   "id": "81c986e3-5284-4a38-b301-276d644d4e75",
   "metadata": {},
   "outputs": [
    {
     "data": {
      "text/plain": [
       "dict_items([(1, 'one'), (2, 'two'), (3, 'three')])"
      ]
     },
     "execution_count": 23,
     "metadata": {},
     "output_type": "execute_result"
    }
   ],
   "source": [
    "mydict.items()"
   ]
  },
  {
   "cell_type": "code",
   "execution_count": 25,
   "id": "15ede9d2-5bbf-4da0-bf42-463ae35de3b4",
   "metadata": {},
   "outputs": [
    {
     "data": {
      "text/plain": [
       "{1: 'one', 2: 'two', 'A': ['hack', 'sony', 'pit']}"
      ]
     },
     "execution_count": 25,
     "metadata": {},
     "output_type": "execute_result"
    }
   ],
   "source": [
    "mydict={1:'one',2:'two','A':['hack','sony','pit']}\n",
    "mydict"
   ]
  },
  {
   "cell_type": "code",
   "execution_count": 27,
   "id": "f0d610fe-68d7-44ac-9fe6-d1b14e58be0f",
   "metadata": {},
   "outputs": [
    {
     "data": {
      "text/plain": [
       "{1: 'one', 2: 'two', 'A': ['hack', 'sony', 'pit'], 'B': ('box', 'toss', 'cat')}"
      ]
     },
     "execution_count": 27,
     "metadata": {},
     "output_type": "execute_result"
    }
   ],
   "source": [
    "mydict={1:'one',2:'two','A':['hack','sony','pit'],'B':('box','toss','cat')}\n",
    "mydict"
   ]
  },
  {
   "cell_type": "code",
   "execution_count": 29,
   "id": "66ac060b-d35f-4fe8-92cf-f00f7e2fe71a",
   "metadata": {},
   "outputs": [
    {
     "data": {
      "text/plain": [
       "dict_keys([1, 2, 'A', 'B'])"
      ]
     },
     "execution_count": 29,
     "metadata": {},
     "output_type": "execute_result"
    }
   ],
   "source": [
    "mydict.keys()\n"
   ]
  },
  {
   "cell_type": "code",
   "execution_count": 31,
   "id": "536468ed-6199-4622-84f3-69b7fe67885c",
   "metadata": {},
   "outputs": [
    {
     "data": {
      "text/plain": [
       "dict_values(['one', 'two', ['hack', 'sony', 'pit'], ('box', 'toss', 'cat')])"
      ]
     },
     "execution_count": 31,
     "metadata": {},
     "output_type": "execute_result"
    }
   ],
   "source": [
    "mydict.values()"
   ]
  },
  {
   "cell_type": "code",
   "execution_count": 33,
   "id": "b5d7413b-9010-4d48-a711-ac59b8bff01a",
   "metadata": {},
   "outputs": [
    {
     "data": {
      "text/plain": [
       "dict_items([(1, 'one'), (2, 'two'), ('A', ['hack', 'sony', 'pit']), ('B', ('box', 'toss', 'cat'))])"
      ]
     },
     "execution_count": 33,
     "metadata": {},
     "output_type": "execute_result"
    }
   ],
   "source": [
    "mydict.items()"
   ]
  },
  {
   "cell_type": "code",
   "execution_count": 35,
   "id": "86be381a-cf80-407b-8456-3ab69f0cef9c",
   "metadata": {},
   "outputs": [
    {
     "data": {
      "text/plain": [
       "{50: None, 20: None, 40: None, 10: None, 30: None}"
      ]
     },
     "execution_count": 35,
     "metadata": {},
     "output_type": "execute_result"
    }
   ],
   "source": [
    "keys={10,20,30,40,50}\n",
    "mydict3=dict.fromkeys(keys)\n",
    "mydict3"
   ]
  },
  {
   "cell_type": "code",
   "execution_count": 37,
   "id": "c5637fdc-5684-48fc-b1fe-740fb25f56f3",
   "metadata": {},
   "outputs": [
    {
     "data": {
      "text/plain": [
       "{50: 100, 20: 100, 40: 100, 10: 100, 30: 100}"
      ]
     },
     "execution_count": 37,
     "metadata": {},
     "output_type": "execute_result"
    }
   ],
   "source": [
    "keys={10,20,30,40,50}\n",
    "value=100\n",
    "mydict3=dict.fromkeys(keys,value)\n",
    "mydict3"
   ]
  },
  {
   "cell_type": "code",
   "execution_count": 41,
   "id": "0a77cd09-80ac-4928-a7a6-2ed5a3f89366",
   "metadata": {},
   "outputs": [
    {
     "data": {
      "text/plain": [
       "{'b': [10, 20, 30, 40],\n",
       " 'c': [10, 20, 30, 40],\n",
       " 'a': [10, 20, 30, 40],\n",
       " 'd': [10, 20, 30, 40]}"
      ]
     },
     "execution_count": 41,
     "metadata": {},
     "output_type": "execute_result"
    }
   ],
   "source": [
    "keys={'a','b','c','d'}\n",
    "value=[10,20,30,40]\n",
    "mydict4=dict.fromkeys(keys,value)\n",
    "mydict4"
   ]
  },
  {
   "cell_type": "code",
   "execution_count": 43,
   "id": "5f06d7b9-7e4e-4215-84a5-757e81960229",
   "metadata": {},
   "outputs": [],
   "source": [
    "value.append(50)"
   ]
  },
  {
   "cell_type": "code",
   "execution_count": 47,
   "id": "e83ce64d-79ea-4f05-b825-8a647a5b3805",
   "metadata": {},
   "outputs": [
    {
     "data": {
      "text/plain": [
       "{'b': [10, 20, 30, 40, 50],\n",
       " 'c': [10, 20, 30, 40, 50],\n",
       " 'a': [10, 20, 30, 40, 50],\n",
       " 'd': [10, 20, 30, 40, 50]}"
      ]
     },
     "execution_count": 47,
     "metadata": {},
     "output_type": "execute_result"
    }
   ],
   "source": [
    "mydict4"
   ]
  },
  {
   "cell_type": "markdown",
   "id": "3e8e4e31-e647-40fe-9fdf-8bce199f7d2c",
   "metadata": {},
   "source": [
    "# acessing items"
   ]
  },
  {
   "cell_type": "code",
   "execution_count": 50,
   "id": "e5ec55fe-9808-44e1-a274-5c37ae90db00",
   "metadata": {},
   "outputs": [
    {
     "data": {
      "text/plain": [
       "{1: 'one', 2: 'two', 3: 'three', 4: 'four'}"
      ]
     },
     "execution_count": 50,
     "metadata": {},
     "output_type": "execute_result"
    }
   ],
   "source": [
    "mydict = {1:'one' , 2:'two' , 3:'three' , 4:'four'}\n",
    "mydict"
   ]
  },
  {
   "cell_type": "code",
   "execution_count": 52,
   "id": "5dbfb251-fd87-47c5-af50-ced84eb9f52a",
   "metadata": {},
   "outputs": [
    {
     "data": {
      "text/plain": [
       "'one'"
      ]
     },
     "execution_count": 52,
     "metadata": {},
     "output_type": "execute_result"
    }
   ],
   "source": [
    "mydict[1]"
   ]
  },
  {
   "cell_type": "code",
   "execution_count": 54,
   "id": "427aff7c-e624-4371-ab61-c4881c53d88a",
   "metadata": {},
   "outputs": [
    {
     "data": {
      "text/plain": [
       "'three'"
      ]
     },
     "execution_count": 54,
     "metadata": {},
     "output_type": "execute_result"
    }
   ],
   "source": [
    "mydict[3]"
   ]
  },
  {
   "cell_type": "code",
   "execution_count": 56,
   "id": "0b9e31fa-3cfa-4e98-a312-155d9e8001b8",
   "metadata": {},
   "outputs": [
    {
     "data": {
      "text/plain": [
       "'one'"
      ]
     },
     "execution_count": 56,
     "metadata": {},
     "output_type": "execute_result"
    }
   ],
   "source": [
    "mydict.get(1)"
   ]
  },
  {
   "cell_type": "code",
   "execution_count": 83,
   "id": "d52357b9-8488-412a-bcdb-40f5517f5597",
   "metadata": {},
   "outputs": [
    {
     "data": {
      "text/plain": [
       "{'Name': 'Air', 'ID': 74123, 'DOB': 1991, 'job': 'Analyst'}"
      ]
     },
     "execution_count": 83,
     "metadata": {},
     "output_type": "execute_result"
    }
   ],
   "source": [
    "mydict1 = {'Name':'Air' , 'ID': 74123 , 'DOB': 1991 , 'job' :'Analyst'}\n",
    "mydict1"
   ]
  },
  {
   "cell_type": "code",
   "execution_count": 85,
   "id": "edf7f3fb-76a4-4d94-abf6-4ce8bff96224",
   "metadata": {},
   "outputs": [
    {
     "data": {
      "text/plain": [
       "'Air'"
      ]
     },
     "execution_count": 85,
     "metadata": {},
     "output_type": "execute_result"
    }
   ],
   "source": [
    "mydict1['Name']"
   ]
  },
  {
   "cell_type": "code",
   "execution_count": 87,
   "id": "66e38c7b-b979-495c-9bf0-11d8a0c80242",
   "metadata": {},
   "outputs": [
    {
     "data": {
      "text/plain": [
       "74123"
      ]
     },
     "execution_count": 87,
     "metadata": {},
     "output_type": "execute_result"
    }
   ],
   "source": [
    "mydict1.get('ID')"
   ]
  },
  {
   "cell_type": "markdown",
   "id": "e5ad7c09-6d2d-4dbc-973f-bbe2a2b9ce0c",
   "metadata": {},
   "source": [
    "# add,remove & change"
   ]
  },
  {
   "cell_type": "code",
   "execution_count": 140,
   "id": "89108812-7b53-4bd8-94c7-d865b2d92ebe",
   "metadata": {},
   "outputs": [
    {
     "data": {
      "text/plain": [
       "{'Name': 'Air', 'ID': 12345, 'DOB': 1991, 'Address': 'Hilsinki'}"
      ]
     },
     "execution_count": 140,
     "metadata": {},
     "output_type": "execute_result"
    }
   ],
   "source": [
    "mydict1 = {'Name':'Air' , 'ID': 12345 , 'DOB': 1991 , 'Address' : 'Hilsinki'}\n",
    "mydict1"
   ]
  },
  {
   "cell_type": "code",
   "execution_count": 142,
   "id": "b35448ca-2de9-40ec-a9a4-177e21223e81",
   "metadata": {},
   "outputs": [
    {
     "data": {
      "text/plain": [
       "{'Name': 'Air', 'ID': 54321, 'DOB': 1992, 'Address': 'Hilsinki'}"
      ]
     },
     "execution_count": 142,
     "metadata": {},
     "output_type": "execute_result"
    }
   ],
   "source": [
    "mydict1['DOB']=1992\n",
    "mydict1[\"ID\"]=54321        #changing items\n",
    "mydict1"
   ]
  },
  {
   "cell_type": "code",
   "execution_count": 144,
   "id": "559ec5f4-b70c-4703-96da-5664a0439566",
   "metadata": {},
   "outputs": [
    {
     "data": {
      "text/plain": [
       "{'Name': 'Air', 'ID': 54321, 'DOB': 1995, 'Address': 'Hilsinki'}"
      ]
     },
     "execution_count": 144,
     "metadata": {},
     "output_type": "execute_result"
    }
   ],
   "source": [
    "dict1={\"DOB\":1995}\n",
    "mydict1.update(dict1)\n",
    "mydict1"
   ]
  },
  {
   "cell_type": "code",
   "execution_count": 148,
   "id": "7e9bf87a-b8c6-498c-9532-b76a28a491d6",
   "metadata": {},
   "outputs": [
    {
     "data": {
      "text/plain": [
       "{'Name': 'Air',\n",
       " 'ID': 54321,\n",
       " 'DOB': 1995,\n",
       " 'Address': 'Hilsinki',\n",
       " 'job': 'Analyst'}"
      ]
     },
     "execution_count": 148,
     "metadata": {},
     "output_type": "execute_result"
    }
   ],
   "source": [
    "mydict1['job']='Analyst'\n",
    "mydict1                          #adding element"
   ]
  },
  {
   "cell_type": "code",
   "execution_count": 152,
   "id": "4cae89aa-9ac6-4425-99a5-3b148f1a0f25",
   "metadata": {},
   "outputs": [
    {
     "data": {
      "text/plain": [
       "'Analyst'"
      ]
     },
     "execution_count": 152,
     "metadata": {},
     "output_type": "execute_result"
    }
   ],
   "source": [
    "mydict1.pop('job')"
   ]
  },
  {
   "cell_type": "code",
   "execution_count": 154,
   "id": "7d22589d-3a72-4824-ac6f-3327b08ce62e",
   "metadata": {},
   "outputs": [
    {
     "data": {
      "text/plain": [
       "{'Name': 'Air', 'ID': 54321, 'DOB': 1995, 'Address': 'Hilsinki'}"
      ]
     },
     "execution_count": 154,
     "metadata": {},
     "output_type": "execute_result"
    }
   ],
   "source": [
    "mydict1"
   ]
  },
  {
   "cell_type": "code",
   "execution_count": 158,
   "id": "2924605f-4b97-4b68-9276-c518437d9d8b",
   "metadata": {},
   "outputs": [
    {
     "data": {
      "text/plain": [
       "('Address', 'Hilsinki')"
      ]
     },
     "execution_count": 158,
     "metadata": {},
     "output_type": "execute_result"
    }
   ],
   "source": [
    "mydict1.popitem()"
   ]
  },
  {
   "cell_type": "code",
   "execution_count": 161,
   "id": "edce220e-7b81-4966-b0ae-ec983c7b1911",
   "metadata": {},
   "outputs": [
    {
     "data": {
      "text/plain": [
       "{'Name': 'Air', 'ID': 54321, 'DOB': 1995}"
      ]
     },
     "execution_count": 161,
     "metadata": {},
     "output_type": "execute_result"
    }
   ],
   "source": [
    "mydict1"
   ]
  },
  {
   "cell_type": "code",
   "execution_count": 163,
   "id": "b4a8ab92-eeb7-4eb0-a7ae-36c8a61ae7b6",
   "metadata": {},
   "outputs": [],
   "source": [
    "del mydict1['DOB']"
   ]
  },
  {
   "cell_type": "code",
   "execution_count": 165,
   "id": "2a9f99dc-dd0c-47cc-926d-af960fceb69d",
   "metadata": {},
   "outputs": [
    {
     "data": {
      "text/plain": [
       "{'Name': 'Air', 'ID': 54321}"
      ]
     },
     "execution_count": 165,
     "metadata": {},
     "output_type": "execute_result"
    }
   ],
   "source": [
    "mydict1"
   ]
  },
  {
   "cell_type": "code",
   "execution_count": 167,
   "id": "f06f1149-3e28-43ad-9971-8d05f3d36330",
   "metadata": {},
   "outputs": [],
   "source": [
    "del mydict1"
   ]
  },
  {
   "cell_type": "code",
   "execution_count": 169,
   "id": "5fd5e0e0-f381-4ad3-864c-9b89d586213b",
   "metadata": {},
   "outputs": [
    {
     "ename": "NameError",
     "evalue": "name 'mydict1' is not defined",
     "output_type": "error",
     "traceback": [
      "\u001b[0;31m---------------------------------------------------------------------------\u001b[0m",
      "\u001b[0;31mNameError\u001b[0m                                 Traceback (most recent call last)",
      "Cell \u001b[0;32mIn[169], line 1\u001b[0m\n\u001b[0;32m----> 1\u001b[0m mydict1\n",
      "\u001b[0;31mNameError\u001b[0m: name 'mydict1' is not defined"
     ]
    }
   ],
   "source": [
    "mydict1"
   ]
  },
  {
   "cell_type": "markdown",
   "id": "67f98e69-29e8-44d4-9b73-5172fb11eb67",
   "metadata": {},
   "source": [
    "# copy dictionary"
   ]
  },
  {
   "cell_type": "code",
   "execution_count": 192,
   "id": "aa7c5252-5d85-4516-b37a-9563d46e90e3",
   "metadata": {},
   "outputs": [
    {
     "data": {
      "text/plain": [
       "{'Name': 'Air', 'ID': 12345, 'DOB': 1991, 'Address': 'Hilsinki'}"
      ]
     },
     "execution_count": 192,
     "metadata": {},
     "output_type": "execute_result"
    }
   ],
   "source": [
    "mydict1 = {'Name':'Air' , 'ID': 12345 , 'DOB': 1991 , 'Address' : 'Hilsinki'}\n",
    "mydict1"
   ]
  },
  {
   "cell_type": "code",
   "execution_count": 198,
   "id": "401fe360-1409-4e2b-8452-9a19b3d0eeaf",
   "metadata": {},
   "outputs": [],
   "source": [
    "dict=mydict1.copy()"
   ]
  },
  {
   "cell_type": "code",
   "execution_count": 200,
   "id": "a6b12bb7-2971-45b9-8f10-2fff50c4fb66",
   "metadata": {},
   "outputs": [
    {
     "data": {
      "text/plain": [
       "{'Name': 'Air', 'ID': 12345, 'DOB': 1991, 'Address': 'Hilsinki'}"
      ]
     },
     "execution_count": 200,
     "metadata": {},
     "output_type": "execute_result"
    }
   ],
   "source": [
    "dict"
   ]
  },
  {
   "cell_type": "code",
   "execution_count": 202,
   "id": "ee93e382-f1cd-4cd0-a929-7a766ddc9fd5",
   "metadata": {},
   "outputs": [],
   "source": [
    "dict1=dict"
   ]
  },
  {
   "cell_type": "code",
   "execution_count": 204,
   "id": "c2ae74f7-b469-4db4-8211-0c30069ee3d2",
   "metadata": {},
   "outputs": [
    {
     "data": {
      "text/plain": [
       "{'Name': 'Air', 'ID': 12345, 'DOB': 1991, 'Address': 'Hilsinki'}"
      ]
     },
     "execution_count": 204,
     "metadata": {},
     "output_type": "execute_result"
    }
   ],
   "source": [
    "dict1"
   ]
  },
  {
   "cell_type": "code",
   "execution_count": 206,
   "id": "8f4fe336-ab90-4dd2-b214-5ba1605ba9b3",
   "metadata": {},
   "outputs": [
    {
     "data": {
      "text/plain": [
       "(4836412928, 4836412928)"
      ]
     },
     "execution_count": 206,
     "metadata": {},
     "output_type": "execute_result"
    }
   ],
   "source": [
    "id(dict1),id(dict)"
   ]
  },
  {
   "cell_type": "code",
   "execution_count": 208,
   "id": "2c1c73dd-f7a2-43a6-8f5b-d7a9027d81fb",
   "metadata": {},
   "outputs": [
    {
     "data": {
      "text/plain": [
       "{'Name': 'Air', 'ID': 12345, 'DOB': 1991, 'Address': 'Hilsinki'}"
      ]
     },
     "execution_count": 208,
     "metadata": {},
     "output_type": "execute_result"
    }
   ],
   "source": [
    "mydict1"
   ]
  },
  {
   "cell_type": "code",
   "execution_count": 210,
   "id": "bdf0c041-9f11-4e4d-99c4-15ddfb5850ef",
   "metadata": {},
   "outputs": [
    {
     "data": {
      "text/plain": [
       "{'Name': 'Air', 'ID': 12345, 'DOB': 1991, 'Address': 'Hilsinki'}"
      ]
     },
     "execution_count": 210,
     "metadata": {},
     "output_type": "execute_result"
    }
   ],
   "source": [
    "dict1"
   ]
  },
  {
   "cell_type": "code",
   "execution_count": 212,
   "id": "08fb74ee-d613-430e-963e-6d2ddc0c9f0b",
   "metadata": {},
   "outputs": [
    {
     "data": {
      "text/plain": [
       "{'Name': 'Air', 'ID': 12345, 'DOB': 1991, 'Address': 'Hilsinki'}"
      ]
     },
     "execution_count": 212,
     "metadata": {},
     "output_type": "execute_result"
    }
   ],
   "source": [
    "dict"
   ]
  },
  {
   "cell_type": "code",
   "execution_count": 214,
   "id": "8788a68e-4a53-4225-89d8-f2e54e6ebcb4",
   "metadata": {},
   "outputs": [],
   "source": [
    "dict[\"NAME\"]='jay'"
   ]
  },
  {
   "cell_type": "code",
   "execution_count": 216,
   "id": "204fd0fe-80e7-4950-806e-b53a1c21f207",
   "metadata": {},
   "outputs": [
    {
     "data": {
      "text/plain": [
       "{'Name': 'Air', 'ID': 12345, 'DOB': 1991, 'Address': 'Hilsinki', 'NAME': 'jay'}"
      ]
     },
     "execution_count": 216,
     "metadata": {},
     "output_type": "execute_result"
    }
   ],
   "source": [
    "dict"
   ]
  },
  {
   "cell_type": "code",
   "execution_count": 218,
   "id": "8fc63c2a-0e64-4b86-8af3-c2cbe89085e5",
   "metadata": {},
   "outputs": [
    {
     "data": {
      "text/plain": [
       "4836412928"
      ]
     },
     "execution_count": 218,
     "metadata": {},
     "output_type": "execute_result"
    }
   ],
   "source": [
    "id(dict)"
   ]
  },
  {
   "cell_type": "markdown",
   "id": "0118976f-882c-4656-b6ec-90c533a0b276",
   "metadata": {},
   "source": [
    "# loop through dict"
   ]
  },
  {
   "cell_type": "code",
   "execution_count": 223,
   "id": "d3428e29-2530-477f-9034-af8e223a5965",
   "metadata": {},
   "outputs": [
    {
     "data": {
      "text/plain": [
       "{'Name': 'Air', 'ID': 12345, 'DOB': 1991, 'Address': 'Hilsinki'}"
      ]
     },
     "execution_count": 223,
     "metadata": {},
     "output_type": "execute_result"
    }
   ],
   "source": [
    "mydict1"
   ]
  },
  {
   "cell_type": "code",
   "execution_count": 225,
   "id": "3b8821e2-c972-4dfb-801c-d4cb26084907",
   "metadata": {},
   "outputs": [
    {
     "name": "stdout",
     "output_type": "stream",
     "text": [
      "Name\n",
      "ID\n",
      "DOB\n",
      "Address\n",
      "NAME\n"
     ]
    }
   ],
   "source": [
    "for i in dict1:\n",
    "    print(i)"
   ]
  },
  {
   "cell_type": "code",
   "execution_count": 237,
   "id": "942ce313-5379-4126-97f4-c36825798078",
   "metadata": {},
   "outputs": [
    {
     "name": "stdout",
     "output_type": "stream",
     "text": [
      "Air\n",
      "12345\n",
      "1991\n",
      "Hilsinki\n",
      "jay\n"
     ]
    }
   ],
   "source": [
    "for i in dict1:\n",
    "    print(dict1[i])"
   ]
  },
  {
   "cell_type": "code",
   "execution_count": 239,
   "id": "f556e850-d369-43ca-b999-8bbb489c3125",
   "metadata": {},
   "outputs": [
    {
     "name": "stdout",
     "output_type": "stream",
     "text": [
      "Name : Air\n",
      "ID : 12345\n",
      "DOB : 1991\n",
      "Address : Hilsinki\n",
      "NAME : jay\n"
     ]
    }
   ],
   "source": [
    "for i in dict1:\n",
    "    print(i,':',dict1[i])"
   ]
  },
  {
   "cell_type": "markdown",
   "id": "6305fc78-38d3-4c0e-bf7a-942d9ee507be",
   "metadata": {},
   "source": [
    "# dict membership"
   ]
  },
  {
   "cell_type": "code",
   "execution_count": 242,
   "id": "cec5a925-d07d-478c-b88a-f1700177b856",
   "metadata": {},
   "outputs": [
    {
     "data": {
      "text/plain": [
       "{'Name': 'Air', 'ID': 12345, 'DOB': 1991, 'Address': 'Hilsinki'}"
      ]
     },
     "execution_count": 242,
     "metadata": {},
     "output_type": "execute_result"
    }
   ],
   "source": [
    "mydict1"
   ]
  },
  {
   "cell_type": "code",
   "execution_count": 246,
   "id": "788241f6-4be4-41d9-b3af-9409e4046b7a",
   "metadata": {},
   "outputs": [
    {
     "data": {
      "text/plain": [
       "True"
      ]
     },
     "execution_count": 246,
     "metadata": {},
     "output_type": "execute_result"
    }
   ],
   "source": [
    "'Name' in mydict1"
   ]
  },
  {
   "cell_type": "code",
   "execution_count": 248,
   "id": "88f986b7-a112-42b4-ab46-58fc0833a76a",
   "metadata": {},
   "outputs": [
    {
     "data": {
      "text/plain": [
       "True"
      ]
     },
     "execution_count": 248,
     "metadata": {},
     "output_type": "execute_result"
    }
   ],
   "source": [
    "'DOB' in mydict1"
   ]
  },
  {
   "cell_type": "code",
   "execution_count": 250,
   "id": "5db6231f-afad-4e67-8731-a8d973fc0cde",
   "metadata": {},
   "outputs": [
    {
     "data": {
      "text/plain": [
       "False"
      ]
     },
     "execution_count": 250,
     "metadata": {},
     "output_type": "execute_result"
    }
   ],
   "source": [
    "'JOB' in mydict1"
   ]
  },
  {
   "cell_type": "markdown",
   "id": "0b615f7d-5bcf-45a6-b35d-19a69f75c260",
   "metadata": {},
   "source": [
    "# All/Any"
   ]
  },
  {
   "cell_type": "code",
   "execution_count": 253,
   "id": "8dfc4918-241f-4e45-bc7b-a645e2c82f99",
   "metadata": {},
   "outputs": [
    {
     "data": {
      "text/plain": [
       "{'Name': 'Air', 'ID': 12345, 'DOB': 1991, 'Address': 'Hilsinki', 'NAME': 'jay'}"
      ]
     },
     "execution_count": 253,
     "metadata": {},
     "output_type": "execute_result"
    }
   ],
   "source": [
    "dict"
   ]
  },
  {
   "cell_type": "code",
   "execution_count": 255,
   "id": "d3203369-20ef-4fb8-8b89-891cd0beec88",
   "metadata": {},
   "outputs": [
    {
     "data": {
      "text/plain": [
       "True"
      ]
     },
     "execution_count": 255,
     "metadata": {},
     "output_type": "execute_result"
    }
   ],
   "source": [
    "all(dict)"
   ]
  },
  {
   "cell_type": "code",
   "execution_count": 257,
   "id": "584c63b4-0293-43fa-a576-996f637a57e1",
   "metadata": {},
   "outputs": [
    {
     "data": {
      "text/plain": [
       "True"
      ]
     },
     "execution_count": 257,
     "metadata": {},
     "output_type": "execute_result"
    }
   ],
   "source": [
    "any(dict)"
   ]
  },
  {
   "cell_type": "code",
   "execution_count": null,
   "id": "3e5a23f6-36b9-46c1-8922-537e2904ea96",
   "metadata": {},
   "outputs": [],
   "source": []
  }
 ],
 "metadata": {
  "kernelspec": {
   "display_name": "Python 3 (ipykernel)",
   "language": "python",
   "name": "python3"
  },
  "language_info": {
   "codemirror_mode": {
    "name": "ipython",
    "version": 3
   },
   "file_extension": ".py",
   "mimetype": "text/x-python",
   "name": "python",
   "nbconvert_exporter": "python",
   "pygments_lexer": "ipython3",
   "version": "3.12.4"
  }
 },
 "nbformat": 4,
 "nbformat_minor": 5
}
